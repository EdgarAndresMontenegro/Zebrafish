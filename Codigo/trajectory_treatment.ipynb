{
 "cells": [
  {
   "cell_type": "code",
   "execution_count": 1,
   "metadata": {},
   "outputs": [],
   "source": [
    "#Libreries\n",
    "import cv2 as cv #Libreria opencv para vision por computador\n",
    "import matplotlib.pyplot as plt #Libreria para graficacion de resultados\n",
    "import pandas as pd #Libreria para manejo de datos Dataframe\n",
    "import numpy as np #Libreria para operaciones aritmeticas avanzadas\n",
    "from tqdm import tqdm #Libreria para contabilizar tiempo de ejecucion \n",
    "import os #Libreria para ejecutar comandos de sistema operativo\n",
    "from ipywidgets import interact, interactive, fixed, interact_manual\n",
    "import ipywidgets as widgets #Libreria para ejecutar funciones interativas\n",
    "import statistics as stats"
   ]
  },
  {
   "cell_type": "code",
   "execution_count": 2,
   "metadata": {},
   "outputs": [],
   "source": [
    "#Lectura de Trayectorias\n",
    "def read_trajectories(path):\n",
    "    Trayectories = pd.read_csv(path, header=None)\n",
    "    Encabezado = Trayectories[0][0]\n",
    "    Trayectories = Trayectories.drop([0],axis=0) \n",
    "    return Trayectories,Encabezado"
   ]
  },
  {
   "cell_type": "code",
   "execution_count": 3,
   "metadata": {},
   "outputs": [],
   "source": [
    "#Filter\n",
    "def first_filter_trayectories(path):\n",
    "    Trayectories = pd.read_csv(path,header=None)\n",
    "    Encabezado = Trayectories[0][0] #Extraigo el encabezado\n",
    "    Trayectories = Trayectories.rename(columns = {0:'tray'}) #Cambio el nombre de la columna por uno mas intuitivo\n",
    "    Trayectories = Trayectories.drop([0],axis=0) #Elimino la fila perteneciente al encabezado.\n",
    "    Encabezado = Encabezado.split(' ')\n",
    "    print(\"Numero total de trayectorias calculadas:\",Encabezado[0])\n",
    "    print(\"Largo del video:\",Encabezado[1])\n",
    "    print(\"Ancho del video:\",Encabezado[2])\n",
    "    print(\"Numero total de frames del video:\",Encabezado[3])\n",
    "    print(\"-----------------------------------------------\")\n",
    "    TF = pd.DataFrame(columns=('tray',))\n",
    "    for i in tqdm(Trayectories['tray']):\n",
    "        t = i.split(' ')\n",
    "        d = np.sqrt((float(t[2])-float(t[-3]))**2 + (float(t[3])-float(t[-2]))**2)\n",
    "        if(d>5):\n",
    "            #Obtengo el dataframe filtrado\n",
    "            TF.loc[len(TF)]=[i,]\n",
    "    ##Retorna el encabezado antiguo ya q lo necesitamos en la funcion guardar cabecera\n",
    "    Encabezado[0] = len(TF)\n",
    "    return TF,Encabezado"
   ]
  },
  {
   "cell_type": "code",
   "execution_count": 4,
   "metadata": {},
   "outputs": [],
   "source": [
    "#Guardo las trayectorias filtradas\n",
    "def save_trajectories(TF,ruta_txt):\n",
    "    TrayectoriasF = open(ruta_txt,'w')\n",
    "    for i in tqdm(TF['tray']):\n",
    "        TrayectoriasF.write(i+\"\\n\")\n",
    "    TrayectoriasF.close()"
   ]
  },
  {
   "cell_type": "code",
   "execution_count": 5,
   "metadata": {},
   "outputs": [],
   "source": [
    "#Para el desarrollo de las graficas si es necesario que guardes la información de la cabecera en el txt\n",
    "def save_header(TF,Encabezado,ruta):\n",
    "    CabeceraF = open(ruta,'w')\n",
    "    CabeceraF.write(str(TF.shape[0])+\" \"+Encabezado[1]+\" \"+Encabezado[2]+\" \"+Encabezado[3])\n",
    "    CabeceraF.close()"
   ]
  },
  {
   "cell_type": "code",
   "execution_count": 6,
   "metadata": {},
   "outputs": [],
   "source": [
    "#Funcion para un nuevo filtro(Filtrar por area)\n",
    "def second_filter_trajectories(rutatxt, ruta_cabecera):\n",
    "    Trayectories = pd.read_csv(rutatxt,header=None)\n",
    "    Encabezado = pd.read_csv(ruta_cabecera, header=None)\n",
    "    Encabezado = Encabezado.split(' ')\n",
    "    print(\"Numero total de trayectorias calculadas:\",Encabezado[0])\n",
    "    print(\"Largo del video:\",Encabezado[1])\n",
    "    print(\"Ancho del video:\",Encabezado[2])\n",
    "    print(\"Numero total de frames del video:\",Encabezado[3])\n",
    "    print(\"-----------------------------------------------\")\n",
    "    TF = pd.DataFrame(columns=(0,))\n",
    "    for i in tqdm(Trayectories[0]):\n",
    "        t = i.split(' ')\n",
    "        d = np.sqrt((float(t[2])-float(t[-3]))**2 + (float(t[3])-float(t[-2]))**2)\n",
    "        x=2\n",
    "        y=3 \n",
    "        good = True\n",
    "        for _ in range(16):\n",
    "            if(d<4 or (float(t[y])<5 or float(t[y])>245 or float(t[x])<10 or float(t[x])>125)):\n",
    "                    good = False\n",
    "                    break\n",
    "            x+=2\n",
    "            y+=2\n",
    "        if(good == True):\n",
    "            TF.loc[len(TF)]=[i,]\n",
    "    Encabezado[0] = len(TF)\n",
    "    return TF,Encabezado"
   ]
  },
  {
   "cell_type": "code",
   "execution_count": 7,
   "metadata": {},
   "outputs": [],
   "source": [
    "#Calculo de las medianas de un dataset:\n",
    "def Medianas_t(rutatxt):\n",
    "    #La Funcion sirve solo para dataset filtrados\n",
    "    Trayectories = pd.read_csv(rutatxt,header=None)\n",
    "    Trayectories = Trayectories.rename(columns = {0:'tray'})\n",
    "    medianas = pd.DataFrame(columns=('tray',))\n",
    "    t1 = Trayectories['tray'][0].split(' ')\n",
    "    f1 = t1[0]\n",
    "    f2 = t1[1]\n",
    "    x=[] #lista que contendra las posiciones en x\n",
    "    y=[] #lista que contendra las posiciones en y\n",
    "    for i in Trayectories['tray']:\n",
    "        t = i.split(\" \")\n",
    "        px=2\n",
    "        py=3\n",
    "        if(f1 == t[0] and f2 == t[1]):\n",
    "            for _ in range(16):\n",
    "                x.append(float(t[px]))\n",
    "                y.append(float(t[py]))\n",
    "                px+=2\n",
    "                py+=2\n",
    "        else:\n",
    "            medianax = stats.median(x)\n",
    "            medianay = stats.median(y)\n",
    "            x=[]\n",
    "            y=[]\n",
    "            medianas.loc[len(medianas)]=[f1+' '+f2+' '+str(medianax)+' '+str(medianay),]\n",
    "            f1 = t[0]\n",
    "            f2 = t[1]\n",
    "            px=2\n",
    "            py=3\n",
    "            for _ in range(16):\n",
    "                x.append(float(t[px]))\n",
    "                y.append(float(t[py]))\n",
    "                px+=2\n",
    "                py+=2\n",
    "    return medianas"
   ]
  },
  {
   "cell_type": "code",
   "execution_count": 10,
   "metadata": {},
   "outputs": [],
   "source": [
    "def FiltrarporMedianas(rutatxt,medianas,path_header):\n",
    "    Trayectories = pd.read_csv(rutatxt,header=None)\n",
    "    Encabezado = pd.read_csv(path_header,header=None)\n",
    "    Encabezado = Encabezado.split(' ')\n",
    "    TF = pd.DataFrame(columns=(0,))\n",
    "    index = 0\n",
    "    median = medianas[0][index].split(' ')\n",
    "    for i in tqdm(Trayectories[0]):\n",
    "        t = i.split(\" \")\n",
    "        if(t[0] == median[0] and t[1] == median[1]):\n",
    "            px = (float(t[2])+float(t[4])+float(t[6])+float(t[8])+float(t[10])+float(t[12])+float(t[14])+float(t[16])+float(t[18])+float(t[20])+float(t[22])+float(t[24])+float(t[26])+float(t[28])+float(t[30])+float(t[32]))/16\n",
    "            py = (float(t[3])+float(t[5])+float(t[7])+float(t[9])+float(t[11])+float(t[13])+float(t[15])+float(t[17])+float(t[19])+float(t[21])+float(t[23])+float(t[25])+float(t[27])+float(t[29])+float(t[31])+float(t[33]))/16\n",
    "            d = np.sqrt((px-float(median[2]))**2 + (py-float(median[3]))**2)\n",
    "            if(d<10):\n",
    "                TF.loc[len(TF)]=[i,]\n",
    "        else:\n",
    "            if(index == (medianas.shape[0]-1)):\n",
    "                break\n",
    "            index+=1\n",
    "            median = medianas[0][index].split(' ')\n",
    "            px = (float(t[2])+float(t[4])+float(t[6])+float(t[8])+float(t[10])+float(t[12])+float(t[14])+float(t[16])+float(t[18])+float(t[20])+float(t[22])+float(t[24])+float(t[26])+float(t[28])+float(t[30])+float(t[32]))/16\n",
    "            py = (float(t[3])+float(t[5])+float(t[7])+float(t[9])+float(t[11])+float(t[13])+float(t[15])+float(t[17])+float(t[19])+float(t[21])+float(t[23])+float(t[25])+float(t[27])+float(t[29])+float(t[31])+float(t[33]))/16\n",
    "            d = np.sqrt((px-float(median[2]))**2 + (py-float(median[3]))**2)\n",
    "            if(d<10):\n",
    "                TF.loc[len(TF)]=[i,]\n",
    "    Encabezado[0] = len(TF)\n",
    "    return TF,Encabezado"
   ]
  },
  {
   "cell_type": "code",
   "execution_count": null,
   "metadata": {},
   "outputs": [],
   "source": []
  }
 ],
 "metadata": {
  "kernelspec": {
   "display_name": "Python 3.6.9 64-bit",
   "language": "python",
   "name": "python36964bitc7a3ddc6e39b487e9136c7a3fb295785"
  },
  "language_info": {
   "codemirror_mode": {
    "name": "ipython",
    "version": 3
   },
   "file_extension": ".py",
   "mimetype": "text/x-python",
   "name": "python",
   "nbconvert_exporter": "python",
   "pygments_lexer": "ipython3",
   "version": "3.6.9"
  }
 },
 "nbformat": 4,
 "nbformat_minor": 2
}

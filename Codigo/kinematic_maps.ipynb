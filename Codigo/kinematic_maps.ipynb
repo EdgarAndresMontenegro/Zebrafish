{
 "cells": [
  {
   "cell_type": "code",
   "execution_count": 1,
   "metadata": {},
   "outputs": [],
   "source": [
    "from tqdm import tqdm\n",
    "import cv2 as cv\n",
    "import pandas as pd\n",
    "import os\n",
    "import sys\n",
    "import numpy as np\n",
    "import matplotlib.pyplot as plt\n",
    "from ipywidgets import interact, interactive, fixed, interact_manual\n",
    "import ipywidgets as widgets"
   ]
  },
  {
   "cell_type": "code",
   "execution_count": 2,
   "metadata": {},
   "outputs": [],
   "source": [
    "#Extraccion de historias de posiciones\n",
    "def posiciones(ruta):\n",
    "    TrayectoriasF = pd.read_csv(ruta,header=None)\n",
    "    TrayectoriasF = TrayectoriasF.rename(columns = {0:'tray'})\n",
    "\n",
    "    x=[] #lista que contendra las posiciones en x\n",
    "    y=[] #lista que contendra las posiciones en y\n",
    "\n",
    "    for t in TrayectoriasF['tray']:\n",
    "        t = t.split(' ')\n",
    "        xe=[] #Lista temporal que contendra elementos temporales de x\n",
    "        ye=[] #Lista temporal que contendra elementos temporales de x\n",
    "        px=2\n",
    "        py=3\n",
    "        for _ in range(16):\n",
    "            xe.append(float(t[px]))\n",
    "            ye.append(float(t[py]))\n",
    "            px+=2\n",
    "            py+=2\n",
    "        x.append(xe)\n",
    "        y.append(ye)\n",
    "    x = np.array(x)\n",
    "    y = np.array(y)\n",
    "    #x=x.reshape((x.shape[0]*x.shape[1]))\n",
    "    #y=y.reshape((y.shape[0]*y.shape[1]))\n",
    "    return x,y"
   ]
  },
  {
   "cell_type": "code",
   "execution_count": 5,
   "metadata": {},
   "outputs": [],
   "source": [
    "#Extraccion de historias de velocidades\n",
    "def velocidades(ruta):\n",
    "    x, y = posiciones(ruta)\n",
    "    vx=[]\n",
    "    vy=[]\n",
    "    for i in range(x.shape[0]):\n",
    "        ex=[]\n",
    "        ey=[]\n",
    "        for k in range(15):\n",
    "            ex.append((float(x[i][k+1])-float(x[i][k])))\n",
    "            ey.append((float(y[i][k+1])-float(y[i][k])))\n",
    "        vx.append(ex)\n",
    "        vy.append(ey)\n",
    "    vx = np.array(vx)\n",
    "    vy = np.array(vy)\n",
    "    #vx=vx.reshape((vx.shape[0]*vx.shape[1]))\n",
    "    #vy=vy.reshape((vy.shape[0]*vy.shape[1]))\n",
    "    return vx,vy"
   ]
  },
  {
   "cell_type": "code",
   "execution_count": null,
   "metadata": {},
   "outputs": [],
   "source": [
    "#Extraccion de historias de aceleraciones\n",
    "def aceleraciones(ruta):\n",
    "    vx, vy = velocidades(ruta)\n",
    "    ax=[]\n",
    "    ay=[]\n",
    "    for i in range(vx.shape[0]):\n",
    "        ex=[]\n",
    "        ey=[]\n",
    "        for k in range(14):\n",
    "            ex.append((vx[i][k+1])-vx[i][k])\n",
    "            ey.append((vy[i][k+1])-vy[i][k])\n",
    "        ax.append(ex)\n",
    "        ay.append(ey)\n",
    "    ax = np.array(ax)\n",
    "    ay = np.array(ay)\n",
    "    #ax=ax.reshape((ax.shape[0]*ax.shape[1]))\n",
    "    #ay=ay.reshape((ay.shape[0]*ay.shape[1]))\n",
    "    return ax,ay"
   ]
  },
  {
   "cell_type": "code",
   "execution_count": null,
   "metadata": {},
   "outputs": [],
   "source": [
    "def histogramasFrecuenciales(path):\n",
    "    print(path)\n",
    "    px,py = posiciones(path)\n",
    "    x=px.reshape((px.shape[0]*px.shape[1]))\n",
    "    y=py.reshape((py.shape[0]*py.shape[1]))\n",
    "    pos =  np.zeros(shape=(int(height),int(width)))\n",
    "    for j in range(x.shape[0]):\n",
    "        pos[int(x[j])][int(y[j])] += 1 \n",
    "\n",
    "    vx,vy = velocidades(path)\n",
    "    vel =  np.zeros(shape=(int(height),int(width)))\n",
    "    #vel2 =  np.zeros(shape=(int(height),int(width)))\n",
    "    for i in range(px.shape[0]):\n",
    "        for k in range(px.shape[1]-1):\n",
    "            valor = np.sqrt((vx[i][k])**2+(vy[i][k])**2)\n",
    "            #vel[int(px[i][k])][int(py[i][k])] += valor\n",
    "            if(vel[int(px[i][k])][int(py[i][k])]<valor):\n",
    "                vel[int(px[i][k])][int(py[i][k])] = valor\n",
    "\n",
    "    ax,ay = aceleraciones(path)\n",
    "    acel =  np.zeros(shape=(int(height),int(width)))\n",
    "    #acel2 =  np.zeros(shape=(int(height),int(width)))\n",
    "    for i in range(px.shape[0]):\n",
    "        for k in range(px.shape[1]-2):\n",
    "            valor = np.sqrt((ax[i][k])**2+(ay[i][k])**2)\n",
    "            #acel[int(px[i][k])][int(py[i][k])] +=valor\n",
    "            if(acel[int(px[i][k])][int(py[i][k])]<valor):\n",
    "                acel[int(px[i][k])][int(py[i][k])] = valor\n",
    "    return pos,vel,acel"
   ]
  },
  {
   "cell_type": "code",
   "execution_count": 6,
   "metadata": {},
   "outputs": [],
   "source": [
    "#Visualizacion de cada mapa individual\n",
    "def print_map(Map):\n",
    "    plt.figure(figsize=(20,8))\n",
    "    plt.imshow(Map)\n",
    "    plt.colorbar()"
   ]
  },
  {
   "cell_type": "code",
   "execution_count": null,
   "metadata": {},
   "outputs": [],
   "source": []
  }
 ],
 "metadata": {
  "kernelspec": {
   "display_name": "Python 3.6.9 64-bit",
   "language": "python",
   "name": "python36964bitc7a3ddc6e39b487e9136c7a3fb295785"
  },
  "language_info": {
   "codemirror_mode": {
    "name": "ipython",
    "version": 3
   },
   "file_extension": ".py",
   "mimetype": "text/x-python",
   "name": "python",
   "nbconvert_exporter": "python",
   "pygments_lexer": "ipython3",
   "version": "3.6.9"
  }
 },
 "nbformat": 4,
 "nbformat_minor": 2
}

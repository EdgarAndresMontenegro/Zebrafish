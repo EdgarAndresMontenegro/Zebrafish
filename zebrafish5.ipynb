{
 "cells": [
  {
   "cell_type": "markdown",
   "metadata": {
    "colab_type": "text",
    "id": "sO5O1oU5lPzy"
   },
   "source": [
    "# Red Neuronal Convolucional para Caracterizacion del comportamiento del zebrafish"
   ]
  },
  {
   "cell_type": "markdown",
   "metadata": {
    "colab_type": "text",
    "id": "sJ0Yi9ALlPzz"
   },
   "source": [
    "Para construir nuestro modelo seguimos los siguientes pasos:\n",
    "\n",
    "- Cargamos las imagenes de frecuencia (150x268 px) del pez cebra como dataset en formato requerido por keras. \n",
    "\n",
    "- Identificar las caracteristicas las cuales emplearemos en el entrenamiento del modelo.\n",
    "\n",
    "- Useremos redes neuronales para construir nuestro modelo (arquitectura de red LeNet-5).\n",
    "\n",
    "- El paso final sería entrenar nuestro modelo y luego probar y validar qué tan bien lo hicimos.\n"
   ]
  },
  {
   "cell_type": "code",
   "execution_count": 5,
   "metadata": {
    "colab": {
     "base_uri": "https://localhost:8080/",
     "height": 360
    },
    "colab_type": "code",
    "executionInfo": {
     "elapsed": 6474,
     "status": "ok",
     "timestamp": 1583155706299,
     "user": {
      "displayName": "edgar andres",
      "photoUrl": "",
      "userId": "01248025822311515718"
     },
     "user_tz": 300
    },
    "id": "FCTLe6LmlPz2",
    "outputId": "46a8ca2f-bf9b-447a-eeef-cc6eee7e5e51"
   },
   "outputs": [
    {
     "name": "stdout",
     "output_type": "stream",
     "text": [
      "Defaulting to user installation because normal site-packages is not writeable\n",
      "Collecting seaborn==0.9.0\n",
      "  Downloading seaborn-0.9.0-py3-none-any.whl (208 kB)\n",
      "\u001b[K     |████████████████████████████████| 208 kB 773 kB/s eta 0:00:01     |██████████████████████████████  | 194 kB 773 kB/s eta 0:00:01\n",
      "\u001b[?25hRequirement already satisfied: pandas>=0.15.2 in /usr/local/lib/python3.6/dist-packages (from seaborn==0.9.0) (0.23.4)\n",
      "Requirement already satisfied: numpy>=1.9.3 in /usr/local/lib/python3.6/dist-packages (from seaborn==0.9.0) (1.18.1)\n",
      "Requirement already satisfied: scipy>=0.14.0 in /usr/local/lib/python3.6/dist-packages (from seaborn==0.9.0) (1.4.1)\n",
      "Requirement already satisfied: matplotlib>=1.4.3 in /usr/lib/python3/dist-packages (from seaborn==0.9.0) (2.1.1)\n",
      "Requirement already satisfied: pytz>=2011k in /usr/lib/python3/dist-packages (from pandas>=0.15.2->seaborn==0.9.0) (2018.3)\n",
      "Requirement already satisfied: python-dateutil>=2.5.0 in /usr/lib/python3/dist-packages (from pandas>=0.15.2->seaborn==0.9.0) (2.6.1)\n",
      "Installing collected packages: seaborn\n",
      "Successfully installed seaborn-0.9.0\n",
      "\u001b[33mWARNING: You are using pip version 20.0.2; however, version 20.2.2 is available.\n",
      "You should consider upgrading via the '/usr/bin/python3 -m pip install --upgrade pip' command.\u001b[0m\n"
     ]
    }
   ],
   "source": [
    "# Update libraries\n",
    "!pip install seaborn==0.9.0"
   ]
  },
  {
   "cell_type": "code",
   "execution_count": 8,
   "metadata": {
    "colab": {
     "base_uri": "https://localhost:8080/",
     "height": 71
    },
    "colab_type": "code",
    "executionInfo": {
     "elapsed": 3557,
     "status": "ok",
     "timestamp": 1598368485163,
     "user": {
      "displayName": "edgar andres",
      "photoUrl": "",
      "userId": "01248025822311515718"
     },
     "user_tz": 300
    },
    "id": "8yI5AnKtqcIT",
    "outputId": "848b8eb6-7fff-4fb4-d465-e26450f8ffb5"
   },
   "outputs": [],
   "source": [
    "#Cargamos las librerias necesarias para nuestro trabajo\n",
    "import numpy as np\n",
    "import cv2 as cv\n",
    "import pandas as pd\n",
    "import random as rd\n",
    "from time import time\n",
    "\n",
    "from sklearn.model_selection import train_test_split\n",
    "\n",
    "import tensorflow as tf\n",
    "import keras #Framework de tensorflow\n",
    "import keras.layers as layers\n",
    "from keras import optimizers\n",
    "from keras.models import Sequential\n",
    "from keras.preprocessing.image import ImageDataGenerator\n",
    "from keras.utils.np_utils import to_categorical\n",
    "from keras.callbacks import TensorBoard\n",
    "\n",
    "%matplotlib inline\n",
    "import matplotlib.pyplot as plt\n",
    "#import seaborn as sns\n",
    "#sns.set()"
   ]
  },
  {
   "cell_type": "code",
   "execution_count": 9,
   "metadata": {
    "colab": {
     "base_uri": "https://localhost:8080/",
     "height": 54
    },
    "colab_type": "code",
    "executionInfo": {
     "elapsed": 717,
     "status": "ok",
     "timestamp": 1598368491101,
     "user": {
      "displayName": "edgar andres",
      "photoUrl": "",
      "userId": "01248025822311515718"
     },
     "user_tz": 300
    },
    "id": "nEiowCAA96db",
    "outputId": "5383bbd7-3c21-4dd8-fd3a-6dc2590bbcbe"
   },
   "outputs": [
    {
     "data": {
      "text/plain": [
       "<module 'tensorflow_core._api.v2.version' from '/usr/local/lib/python3.6/dist-packages/tensorflow_core/_api/v2/version/__init__.py'>"
      ]
     },
     "execution_count": 9,
     "metadata": {},
     "output_type": "execute_result"
    }
   ],
   "source": [
    "tf.version"
   ]
  },
  {
   "cell_type": "code",
   "execution_count": 2,
   "metadata": {
    "colab": {
     "base_uri": "https://localhost:8080/",
     "height": 122
    },
    "colab_type": "code",
    "executionInfo": {
     "elapsed": 32030,
     "status": "ok",
     "timestamp": 1598386296747,
     "user": {
      "displayName": "edgar andres",
      "photoUrl": "",
      "userId": "01248025822311515718"
     },
     "user_tz": 300
    },
    "id": "IkNPnqM2z9F1",
    "outputId": "88f5bcae-b47f-4ec7-8ded-e358dc0c7625"
   },
   "outputs": [
    {
     "name": "stdout",
     "output_type": "stream",
     "text": [
      "Go to this URL in a browser: https://accounts.google.com/o/oauth2/auth?client_id=947318989803-6bn6qk8qdgf4n4g3pfee6491hc0brc4i.apps.googleusercontent.com&redirect_uri=urn%3aietf%3awg%3aoauth%3a2.0%3aoob&scope=email%20https%3a%2f%2fwww.googleapis.com%2fauth%2fdocs.test%20https%3a%2f%2fwww.googleapis.com%2fauth%2fdrive%20https%3a%2f%2fwww.googleapis.com%2fauth%2fdrive.photos.readonly%20https%3a%2f%2fwww.googleapis.com%2fauth%2fpeopleapi.readonly&response_type=code\n",
      "\n",
      "Enter your authorization code:\n",
      "··········\n",
      "Mounted at /content/drive\n"
     ]
    }
   ],
   "source": [
    "#Importamos nuestros datos:(Si esta en Colab.)\n",
    "from google.colab import drive\n",
    "drive.mount('/content/drive')"
   ]
  },
  {
   "cell_type": "code",
   "execution_count": 10,
   "metadata": {
    "colab": {
     "base_uri": "https://localhost:8080/",
     "height": 535
    },
    "colab_type": "code",
    "executionInfo": {
     "elapsed": 2882,
     "status": "ok",
     "timestamp": 1598368517350,
     "user": {
      "displayName": "edgar andres",
      "photoUrl": "",
      "userId": "01248025822311515718"
     },
     "user_tz": 300
    },
    "id": "J3iv2Nvx0eVn",
    "outputId": "2c41a779-dc7b-4f52-8b1e-4a7aa62b65ca"
   },
   "outputs": [
    {
     "name": "stdout",
     "output_type": "stream",
     "text": [
      "(150, 268)\n"
     ]
    },
    {
     "data": {
      "image/png": "[encoded data removed]",
      "text/plain": [
       "<matplotlib.figure.Figure at 0x7f86acdc9470>"
      ]
     },
     "metadata": {
      "needs_background": "light"
     },
     "output_type": "display_data"
    }
   ],
   "source": [
    "#Visualizamos nuestros datos (FP,FV,FA).\n",
    "capa = 2\n",
    "video = \"100-2\"\n",
    "image = np.load(\"ImaClasificacion/capa\"+str(capa)+\"/\"+video+\".npy\")\n",
    "plt.figure(figsize=(15,15))\n",
    "plt.imshow(image)\n",
    "print(image.shape)\n",
    "\n",
    "#'/content/drive/My Drive/ImagenesClasificacion/capa1'"
   ]
  },
  {
   "cell_type": "code",
   "execution_count": 12,
   "metadata": {
    "colab": {
     "base_uri": "https://localhost:8080/",
     "height": 51
    },
    "colab_type": "code",
    "executionInfo": {
     "elapsed": 110296,
     "status": "ok",
     "timestamp": 1598386416906,
     "user": {
      "displayName": "edgar andres",
      "photoUrl": "",
      "userId": "01248025822311515718"
     },
     "user_tz": 300
    },
    "id": "ajZd_EiD4zqi",
    "outputId": "3300b024-e637-4f34-dc4d-2f1dbdd4ae95"
   },
   "outputs": [
    {
     "name": "stdout",
     "output_type": "stream",
     "text": [
      "(110, 150, 268, 3)\n",
      "(110,)\n"
     ]
    }
   ],
   "source": [
    "#Ahora construimos el arreglo de datos\n",
    "datos = []\n",
    "labels = []\n",
    "\n",
    "for i in range(21):\n",
    "  if(i<10):\n",
    "    for k in range(5):\n",
    "      image1 = np.load(\"ImaClasificacion/capa1/10\"+str(i)+\"-\"+str(k+1)+\".npy\")\n",
    "      image2 = np.load(\"ImaClasificacion/capa2/10\"+str(i)+\"-\"+str(k+1)+\".npy\")\n",
    "      image3 = np.load(\"ImaClasificacion/capa3/10\"+str(i)+\"-\"+str(k+1)+\".npy\")\n",
    "      dato = np.zeros(shape=(image1.shape[0],image1.shape[1],3)) \n",
    "      dato[:,:,0] = image1\n",
    "      dato[:,:,1] = image2\n",
    "      dato[:,:,2] = image3\n",
    "      datos.append(dato)\n",
    "      if(i<=4):\n",
    "        labels.append(0)\n",
    "      else:\n",
    "        labels.append(1)\n",
    "  else:\n",
    "    for k in range(5):\n",
    "      image1 = np.load(\"ImaClasificacion/capa1/1\"+str(i)+\"-\"+str(k+1)+\".npy\")\n",
    "      image2 = np.load(\"ImaClasificacion/capa2/1\"+str(i)+\"-\"+str(k+1)+\".npy\")\n",
    "      image3 = np.load(\"ImaClasificacion/capa3/1\"+str(i)+\"-\"+str(k+1)+\".npy\")\n",
    "      dato = np.zeros(shape=(image1.shape[0],image1.shape[1],3)) \n",
    "      dato[:,:,0] = image1\n",
    "      dato[:,:,1] = image2\n",
    "      dato[:,:,2] = image3\n",
    "      datos.append(dato)\n",
    "      if(i == 10):\n",
    "        labels.append(1)\n",
    "      elif(i <= 16 and i >= 11):\n",
    "        labels.append(2)\n",
    "      else:\n",
    "        labels.append(3)\n",
    "for k in range(5):\n",
    "  image1 = np.load(\"ImaClasificacion/capa1/ACL099-\"+str(k+1)+\".npy\")\n",
    "  image2 = np.load(\"ImaClasificacion/capa2/ACL099-\"+str(k+1)+\".npy\")\n",
    "  image3 = np.load(\"ImaClasificacion/capa3/ACL099-\"+str(k+1)+\".npy\")\n",
    "  dato = np.zeros(shape=(image1.shape[0],image1.shape[1],3)) \n",
    "  dato[:,:,0] = image1\n",
    "  dato[:,:,1] = image2\n",
    "  dato[:,:,2] = image3\n",
    "  datos.append(dato)\n",
    "  labels.append(0)\n",
    "\n",
    "datos = np.array(datos)\n",
    "labels = np.array(labels)\n",
    "print(datos.shape)\n",
    "print(labels.shape)\n",
    "\n"
   ]
  },
  {
   "cell_type": "code",
   "execution_count": 13,
   "metadata": {
    "colab": {
     "base_uri": "https://localhost:8080/",
     "height": 34
    },
    "colab_type": "code",
    "executionInfo": {
     "elapsed": 448,
     "status": "ok",
     "timestamp": 1598368645546,
     "user": {
      "displayName": "edgar andres",
      "photoUrl": "",
      "userId": "01248025822311515718"
     },
     "user_tz": 300
    },
    "id": "I8gNSpj4JE2R",
    "outputId": "b4acd45b-6322-462d-81d9-6821acc6c0e7"
   },
   "outputs": [
    {
     "name": "stdout",
     "output_type": "stream",
     "text": [
      "(110,) (110, 150, 268, 3)\n"
     ]
    }
   ],
   "source": [
    "print(labels.shape, datos.shape)"
   ]
  },
  {
   "cell_type": "code",
   "execution_count": 14,
   "metadata": {
    "colab": {},
    "colab_type": "code",
    "executionInfo": {
     "elapsed": 488,
     "status": "ok",
     "timestamp": 1598386714441,
     "user": {
      "displayName": "edgar andres",
      "photoUrl": "",
      "userId": "01248025822311515718"
     },
     "user_tz": 300
    },
    "id": "WghNGrKQy4EL"
   },
   "outputs": [],
   "source": [
    "#Ahora procedemos a partir los datos\n",
    "X_train, X_test, y_train, y_test = train_test_split(datos, labels, test_size=0.4, random_state=0)"
   ]
  },
  {
   "cell_type": "code",
   "execution_count": 15,
   "metadata": {
    "colab": {
     "base_uri": "https://localhost:8080/",
     "height": 34
    },
    "colab_type": "code",
    "executionInfo": {
     "elapsed": 1030,
     "status": "ok",
     "timestamp": 1598386716182,
     "user": {
      "displayName": "edgar andres",
      "photoUrl": "",
      "userId": "01248025822311515718"
     },
     "user_tz": 300
    },
    "id": "ANL83PmQzVj3",
    "outputId": "ec00d4b2-fe1a-427d-b6f7-c0c5c1950195"
   },
   "outputs": [
    {
     "name": "stdout",
     "output_type": "stream",
     "text": [
      "(66, 150, 268, 3) (44, 150, 268, 3) (66,) (44,)\n"
     ]
    }
   ],
   "source": [
    "print(X_train.shape, X_test.shape, y_train.shape, y_test.shape)"
   ]
  },
  {
   "cell_type": "code",
   "execution_count": 16,
   "metadata": {
    "colab": {
     "base_uri": "https://localhost:8080/",
     "height": 34
    },
    "colab_type": "code",
    "executionInfo": {
     "elapsed": 871,
     "status": "ok",
     "timestamp": 1588030872288,
     "user": {
      "displayName": "edgar andres",
      "photoUrl": "",
      "userId": "01248025822311515718"
     },
     "user_tz": 300
    },
    "id": "InUmNq9SSt7l",
    "outputId": "fb207ff5-54f1-4548-906f-890adfc4bb49"
   },
   "outputs": [
    {
     "name": "stdout",
     "output_type": "stream",
     "text": [
      "[[[[0. 0. 0.]\n",
      "   [0. 0. 0.]\n",
      "   [0. 0. 0.]\n",
      "   ...\n",
      "   [0. 0. 0.]\n",
      "   [0. 0. 0.]\n",
      "   [0. 0. 0.]]\n",
      "\n",
      "  [[0. 0. 0.]\n",
      "   [0. 0. 0.]\n",
      "   [0. 0. 0.]\n",
      "   ...\n",
      "   [0. 0. 0.]\n",
      "   [0. 0. 0.]\n",
      "   [0. 0. 0.]]\n",
      "\n",
      "  [[0. 0. 0.]\n",
      "   [0. 0. 0.]\n",
      "   [0. 0. 0.]\n",
      "   ...\n",
      "   [0. 0. 0.]\n",
      "   [0. 0. 0.]\n",
      "   [0. 0. 0.]]\n",
      "\n",
      "  ...\n",
      "\n",
      "  [[0. 0. 0.]\n",
      "   [0. 0. 0.]\n",
      "   [0. 0. 0.]\n",
      "   ...\n",
      "   [0. 0. 0.]\n",
      "   [0. 0. 0.]\n",
      "   [0. 0. 0.]]\n",
      "\n",
      "  [[0. 0. 0.]\n",
      "   [0. 0. 0.]\n",
      "   [0. 0. 0.]\n",
      "   ...\n",
      "   [0. 0. 0.]\n",
      "   [0. 0. 0.]\n",
      "   [0. 0. 0.]]\n",
      "\n",
      "  [[0. 0. 0.]\n",
      "   [0. 0. 0.]\n",
      "   [0. 0. 0.]\n",
      "   ...\n",
      "   [0. 0. 0.]\n",
      "   [0. 0. 0.]\n",
      "   [0. 0. 0.]]]\n",
      "\n",
      "\n",
      " [[[0. 0. 0.]\n",
      "   [0. 0. 0.]\n",
      "   [0. 0. 0.]\n",
      "   ...\n",
      "   [0. 0. 0.]\n",
      "   [0. 0. 0.]\n",
      "   [0. 0. 0.]]\n",
      "\n",
      "  [[0. 0. 0.]\n",
      "   [0. 0. 0.]\n",
      "   [0. 0. 0.]\n",
      "   ...\n",
      "   [0. 0. 0.]\n",
      "   [0. 0. 0.]\n",
      "   [0. 0. 0.]]\n",
      "\n",
      "  [[0. 0. 0.]\n",
      "   [0. 0. 0.]\n",
      "   [0. 0. 0.]\n",
      "   ...\n",
      "   [0. 0. 0.]\n",
      "   [0. 0. 0.]\n",
      "   [0. 0. 0.]]\n",
      "\n",
      "  ...\n",
      "\n",
      "  [[0. 0. 0.]\n",
      "   [0. 0. 0.]\n",
      "   [0. 0. 0.]\n",
      "   ...\n",
      "   [0. 0. 0.]\n",
      "   [0. 0. 0.]\n",
      "   [0. 0. 0.]]\n",
      "\n",
      "  [[0. 0. 0.]\n",
      "   [0. 0. 0.]\n",
      "   [0. 0. 0.]\n",
      "   ...\n",
      "   [0. 0. 0.]\n",
      "   [0. 0. 0.]\n",
      "   [0. 0. 0.]]\n",
      "\n",
      "  [[0. 0. 0.]\n",
      "   [0. 0. 0.]\n",
      "   [0. 0. 0.]\n",
      "   ...\n",
      "   [0. 0. 0.]\n",
      "   [0. 0. 0.]\n",
      "   [0. 0. 0.]]]\n",
      "\n",
      "\n",
      " [[[0. 0. 0.]\n",
      "   [0. 0. 0.]\n",
      "   [0. 0. 0.]\n",
      "   ...\n",
      "   [0. 0. 0.]\n",
      "   [0. 0. 0.]\n",
      "   [0. 0. 0.]]\n",
      "\n",
      "  [[0. 0. 0.]\n",
      "   [0. 0. 0.]\n",
      "   [0. 0. 0.]\n",
      "   ...\n",
      "   [0. 0. 0.]\n",
      "   [0. 0. 0.]\n",
      "   [0. 0. 0.]]\n",
      "\n",
      "  [[0. 0. 0.]\n",
      "   [0. 0. 0.]\n",
      "   [0. 0. 0.]\n",
      "   ...\n",
      "   [0. 0. 0.]\n",
      "   [0. 0. 0.]\n",
      "   [0. 0. 0.]]\n",
      "\n",
      "  ...\n",
      "\n",
      "  [[0. 0. 0.]\n",
      "   [0. 0. 0.]\n",
      "   [0. 0. 0.]\n",
      "   ...\n",
      "   [0. 0. 0.]\n",
      "   [0. 0. 0.]\n",
      "   [0. 0. 0.]]\n",
      "\n",
      "  [[0. 0. 0.]\n",
      "   [0. 0. 0.]\n",
      "   [0. 0. 0.]\n",
      "   ...\n",
      "   [0. 0. 0.]\n",
      "   [0. 0. 0.]\n",
      "   [0. 0. 0.]]\n",
      "\n",
      "  [[0. 0. 0.]\n",
      "   [0. 0. 0.]\n",
      "   [0. 0. 0.]\n",
      "   ...\n",
      "   [0. 0. 0.]\n",
      "   [0. 0. 0.]\n",
      "   [0. 0. 0.]]]\n",
      "\n",
      "\n",
      " ...\n",
      "\n",
      "\n",
      " [[[0. 0. 0.]\n",
      "   [0. 0. 0.]\n",
      "   [0. 0. 0.]\n",
      "   ...\n",
      "   [0. 0. 0.]\n",
      "   [0. 0. 0.]\n",
      "   [0. 0. 0.]]\n",
      "\n",
      "  [[0. 0. 0.]\n",
      "   [0. 0. 0.]\n",
      "   [0. 0. 0.]\n",
      "   ...\n",
      "   [0. 0. 0.]\n",
      "   [0. 0. 0.]\n",
      "   [0. 0. 0.]]\n",
      "\n",
      "  [[0. 0. 0.]\n",
      "   [0. 0. 0.]\n",
      "   [0. 0. 0.]\n",
      "   ...\n",
      "   [0. 0. 0.]\n",
      "   [0. 0. 0.]\n",
      "   [0. 0. 0.]]\n",
      "\n",
      "  ...\n",
      "\n",
      "  [[0. 0. 0.]\n",
      "   [0. 0. 0.]\n",
      "   [0. 0. 0.]\n",
      "   ...\n",
      "   [0. 0. 0.]\n",
      "   [0. 0. 0.]\n",
      "   [0. 0. 0.]]\n",
      "\n",
      "  [[0. 0. 0.]\n",
      "   [0. 0. 0.]\n",
      "   [0. 0. 0.]\n",
      "   ...\n",
      "   [0. 0. 0.]\n",
      "   [0. 0. 0.]\n",
      "   [0. 0. 0.]]\n",
      "\n",
      "  [[0. 0. 0.]\n",
      "   [0. 0. 0.]\n",
      "   [0. 0. 0.]\n",
      "   ...\n",
      "   [0. 0. 0.]\n",
      "   [0. 0. 0.]\n",
      "   [0. 0. 0.]]]\n",
      "\n",
      "\n",
      " [[[0. 0. 0.]\n",
      "   [0. 0. 0.]\n",
      "   [0. 0. 0.]\n",
      "   ...\n",
      "   [0. 0. 0.]\n",
      "   [0. 0. 0.]\n",
      "   [0. 0. 0.]]\n",
      "\n",
      "  [[0. 0. 0.]\n",
      "   [0. 0. 0.]\n",
      "   [0. 0. 0.]\n",
      "   ...\n",
      "   [0. 0. 0.]\n",
      "   [0. 0. 0.]\n",
      "   [0. 0. 0.]]\n",
      "\n",
      "  [[0. 0. 0.]\n",
      "   [0. 0. 0.]\n",
      "   [0. 0. 0.]\n",
      "   ...\n",
      "   [0. 0. 0.]\n",
      "   [0. 0. 0.]\n",
      "   [0. 0. 0.]]\n",
      "\n",
      "  ...\n",
      "\n",
      "  [[0. 0. 0.]\n",
      "   [0. 0. 0.]\n",
      "   [0. 0. 0.]\n",
      "   ...\n",
      "   [0. 0. 0.]\n",
      "   [0. 0. 0.]\n",
      "   [0. 0. 0.]]\n",
      "\n",
      "  [[0. 0. 0.]\n",
      "   [0. 0. 0.]\n",
      "   [0. 0. 0.]\n",
      "   ...\n",
      "   [0. 0. 0.]\n",
      "   [0. 0. 0.]\n",
      "   [0. 0. 0.]]\n",
      "\n",
      "  [[0. 0. 0.]\n",
      "   [0. 0. 0.]\n",
      "   [0. 0. 0.]\n",
      "   ...\n",
      "   [0. 0. 0.]\n",
      "   [0. 0. 0.]\n",
      "   [0. 0. 0.]]]\n",
      "\n",
      "\n",
      " [[[0. 0. 0.]\n",
      "   [0. 0. 0.]\n",
      "   [0. 0. 0.]\n",
      "   ...\n",
      "   [0. 0. 0.]\n",
      "   [0. 0. 0.]\n",
      "   [0. 0. 0.]]\n",
      "\n",
      "  [[0. 0. 0.]\n",
      "   [0. 0. 0.]\n",
      "   [0. 0. 0.]\n",
      "   ...\n",
      "   [0. 0. 0.]\n",
      "   [0. 0. 0.]\n",
      "   [0. 0. 0.]]\n",
      "\n",
      "  [[0. 0. 0.]\n",
      "   [0. 0. 0.]\n",
      "   [0. 0. 0.]\n",
      "   ...\n",
      "   [0. 0. 0.]\n",
      "   [0. 0. 0.]\n",
      "   [0. 0. 0.]]\n",
      "\n",
      "  ...\n",
      "\n",
      "  [[0. 0. 0.]\n",
      "   [0. 0. 0.]\n",
      "   [0. 0. 0.]\n",
      "   ...\n",
      "   [0. 0. 0.]\n",
      "   [0. 0. 0.]\n",
      "   [0. 0. 0.]]\n",
      "\n",
      "  [[0. 0. 0.]\n",
      "   [0. 0. 0.]\n",
      "   [0. 0. 0.]\n",
      "   ...\n",
      "   [0. 0. 0.]\n",
      "   [0. 0. 0.]\n",
      "   [0. 0. 0.]]\n",
      "\n",
      "  [[0. 0. 0.]\n",
      "   [0. 0. 0.]\n",
      "   [0. 0. 0.]\n",
      "   ...\n",
      "   [0. 0. 0.]\n",
      "   [0. 0. 0.]\n",
      "   [0. 0. 0.]]]]\n"
     ]
    }
   ],
   "source": [
    "print(X_test)"
   ]
  },
  {
   "cell_type": "code",
   "execution_count": null,
   "metadata": {
    "colab": {
     "base_uri": "https://localhost:8080/",
     "height": 34
    },
    "colab_type": "code",
    "executionInfo": {
     "elapsed": 4246,
     "status": "ok",
     "timestamp": 1593186739199,
     "user": {
      "displayName": "edgar andres",
      "photoUrl": "",
      "userId": "01248025822311515718"
     },
     "user_tz": 300
    },
    "id": "orZ9Fkuu0oVu",
    "outputId": "b1bb7ca8-6ebc-4ab7-bb05-696e18354791"
   },
   "outputs": [
    {
     "name": "stdout",
     "output_type": "stream",
     "text": [
      "LeaveOneOut()\n"
     ]
    }
   ],
   "source": [
    "#Por ahora dejare esto aqui y me ire lentamente\n",
    "from sklearn.model_selection import LeaveOneOut\n",
    "loo = LeaveOneOut()\n",
    "loo.get_n_splits(datos)\n",
    "print(loo)\n",
    "\n",
    "for train_index, test_index in loo.split(datos):\n",
    "  #print(\"TRAIN:\", train_index, \"TEST:\", test_index)\n",
    "  X_train, X_test = datos[train_index], datos[test_index]\n",
    "  y_train, y_test = labels[train_index], labels[test_index]\n",
    " # print(X_train, X_test, y_train, y_test)"
   ]
  },
  {
   "cell_type": "markdown",
   "metadata": {
    "colab_type": "text",
    "id": "zLdfGt_GlP0x"
   },
   "source": [
    "## 3. LeNet-5 implementation\n",
    "\n",
    "![lenet.png](https://raw.githubusercontent.com/MostafaGazar/mobile-ml/master/files/lenet.png)\n",
    ">>> LeNet-5 Architecture. Credit: [LeCun et al., 1998](http://yann.lecun.com/exdb/publis/psgz/lecun-98.ps.gz)\n",
    "\n",
    "\n",
    "\n",
    "**The following part is heavily inspired by** https://github.com/udacity/CarND-LeNet-Lab/blob/master/LeNet-Lab-Solution.ipynb\n",
    "\n",
    "#### Input\n",
    "    32x32x1 pixels image\n",
    "\n",
    "#### Architecture\n",
    "* **Convolutional #1** outputs 28x28x6\n",
    "    * **Activation** any activation function, we will `relu`\n",
    "\n",
    "* **Pooling #1** The output shape should be 14x14x6.\n",
    "\n",
    "* **Convolutional #2** outputs 10x10x16.\n",
    "    * **Activation** any activation function, we will `relu`\n",
    "\n",
    "* **Pooling #2** outputs 5x5x16.\n",
    "    * **Flatten** Flatten the output shape of the final pooling layer\n",
    "\n",
    "* **Fully Connected #1** outputs 120\n",
    "    * **Activation** any activation function, we will `relu`\n",
    "\n",
    "* **Fully Connected #2** outputs 84\n",
    "    * **Activation** any activation function, we will `relu`\n",
    "\n",
    "* **Fully Connected (Logits) #3** outpute 10\n"
   ]
  },
  {
   "cell_type": "code",
   "execution_count": 17,
   "metadata": {
    "colab": {},
    "colab_type": "code",
    "id": "3MmrzqjzAkyG"
   },
   "outputs": [],
   "source": [
    "#Primera arquitectura Lenet (2conv+2pool+3full)\n",
    "entrada = tf.keras.Input((150,268,3))\n",
    "x = tf.keras.layers.Conv2D(6, 5, activation='relu')(entrada)\n",
    "x = tf.keras.layers.MaxPooling2D((2,2))(x)\n",
    "x = tf.keras.layers.Conv2D(16, 3, activation='relu')(x)\n",
    "x = tf.keras.layers.MaxPooling2D((2,2))(x)\n",
    "x = tf.keras.layers.Flatten()(x)\n",
    "x = tf.keras.layers.Dense(120, activation='relu')(x)\n",
    "x = tf.keras.layers.Dense(84, activation='relu')(x)\n",
    "x = tf.keras.layers.Dense(4, activation='softmax')(x)\n",
    "model = tf.keras.Model(entrada, x)\n"
   ]
  },
  {
   "cell_type": "code",
   "execution_count": 18,
   "metadata": {
    "colab": {
     "base_uri": "https://localhost:8080/",
     "height": 490
    },
    "colab_type": "code",
    "executionInfo": {
     "elapsed": 807,
     "status": "ok",
     "timestamp": 1597904858540,
     "user": {
      "displayName": "edgar andres",
      "photoUrl": "",
      "userId": "01248025822311515718"
     },
     "user_tz": 300
    },
    "id": "pup0iGQS6EOB",
    "outputId": "139d899c-bfa3-486b-d3d2-3c6ee105cada"
   },
   "outputs": [
    {
     "name": "stdout",
     "output_type": "stream",
     "text": [
      "Model: \"model\"\n",
      "_________________________________________________________________\n",
      "Layer (type)                 Output Shape              Param #   \n",
      "=================================================================\n",
      "input_1 (InputLayer)         [(None, 150, 268, 3)]     0         \n",
      "_________________________________________________________________\n",
      "conv2d (Conv2D)              (None, 146, 264, 6)       456       \n",
      "_________________________________________________________________\n",
      "max_pooling2d (MaxPooling2D) (None, 73, 132, 6)        0         \n",
      "_________________________________________________________________\n",
      "conv2d_1 (Conv2D)            (None, 71, 130, 16)       880       \n",
      "_________________________________________________________________\n",
      "max_pooling2d_1 (MaxPooling2 (None, 35, 65, 16)        0         \n",
      "_________________________________________________________________\n",
      "flatten (Flatten)            (None, 36400)             0         \n",
      "_________________________________________________________________\n",
      "dense (Dense)                (None, 120)               4368120   \n",
      "_________________________________________________________________\n",
      "dense_1 (Dense)              (None, 84)                10164     \n",
      "_________________________________________________________________\n",
      "dense_2 (Dense)              (None, 4)                 340       \n",
      "=================================================================\n",
      "Total params: 4,379,960\n",
      "Trainable params: 4,379,960\n",
      "Non-trainable params: 0\n",
      "_________________________________________________________________\n"
     ]
    }
   ],
   "source": [
    "model.summary()"
   ]
  },
  {
   "cell_type": "code",
   "execution_count": 19,
   "metadata": {
    "colab": {},
    "colab_type": "code",
    "id": "FdhXdD3HU3CV"
   },
   "outputs": [],
   "source": [
    "#sgd = optimizers.SGD(lr=0.01, decay=1e-6, momentum=0.9, nesterov=True)\n",
    "model.compile(loss=tf.keras.losses.SparseCategoricalCrossentropy(), \n",
    "              optimizer=tf.keras.optimizers.Adam(learning_rate= 0.0001), \n",
    "              metrics=[tf.keras.metrics.SparseCategoricalAccuracy()])"
   ]
  },
  {
   "cell_type": "code",
   "execution_count": 20,
   "metadata": {
    "colab": {
     "base_uri": "https://localhost:8080/",
     "height": 34
    },
    "colab_type": "code",
    "executionInfo": {
     "elapsed": 583,
     "status": "ok",
     "timestamp": 1597853003493,
     "user": {
      "displayName": "edgar andres",
      "photoUrl": "",
      "userId": "01248025822311515718"
     },
     "user_tz": 300
    },
    "id": "4GJOKhP2kYUW",
    "outputId": "79cf9725-6765-423a-d27d-9cd8092750fd"
   },
   "outputs": [
    {
     "data": {
      "text/plain": [
       "(150, 268, 3)"
      ]
     },
     "execution_count": 20,
     "metadata": {},
     "output_type": "execute_result"
    }
   ],
   "source": [
    "X_train[0].shape"
   ]
  },
  {
   "cell_type": "code",
   "execution_count": null,
   "metadata": {
    "colab": {},
    "colab_type": "code",
    "id": "7FKGz6ikLgyZ"
   },
   "outputs": [],
   "source": [
    "def train_generator(): \n",
    "  for i in itertools.count(X_train.shape[0]): \n",
    "    yield (X_train[i], y_train[i])\n",
    "def test_generator(): \n",
    "  for i in itertools.count(X_test.shape[0]): \n",
    "    yield (X_test[i], y_test[i])\n",
    "\n",
    "train_data = tf.data.Dataset.from_generator(train_generator, (tf.float32, tf.int64),) \n",
    "test_data = tf.data.Dataset.from_generator(test_generator, (tf.float32, tf.int64)) "
   ]
  },
  {
   "cell_type": "code",
   "execution_count": 21,
   "metadata": {
    "colab": {
     "base_uri": "https://localhost:8080/",
     "height": 717
    },
    "colab_type": "code",
    "executionInfo": {
     "elapsed": 3425,
     "status": "ok",
     "timestamp": 1597853008895,
     "user": {
      "displayName": "edgar andres",
      "photoUrl": "",
      "userId": "01248025822311515718"
     },
     "user_tz": 300
    },
    "id": "-LhghQrG4sSC",
    "outputId": "65a8b664-59cf-44f1-e456-74908c463391"
   },
   "outputs": [
    {
     "name": "stdout",
     "output_type": "stream",
     "text": [
      "Train on 66 samples, validate on 44 samples\n",
      "Epoch 1/20\n",
      "66/66 [==============================] - 34s 518ms/sample - loss: 3.8231 - sparse_categorical_accuracy: 0.1970 - val_loss: 5.4294 - val_sparse_categorical_accuracy: 0.1818\n",
      "Epoch 2/20\n",
      "66/66 [==============================] - 7s 113ms/sample - loss: 3.7801 - sparse_categorical_accuracy: 0.3788 - val_loss: 3.8386 - val_sparse_categorical_accuracy: 0.2500\n",
      "Epoch 3/20\n",
      "66/66 [==============================] - 2s 33ms/sample - loss: 2.7964 - sparse_categorical_accuracy: 0.4394 - val_loss: 2.4886 - val_sparse_categorical_accuracy: 0.3409\n",
      "Epoch 4/20\n",
      "66/66 [==============================] - 2s 28ms/sample - loss: 1.6628 - sparse_categorical_accuracy: 0.4545 - val_loss: 1.4035 - val_sparse_categorical_accuracy: 0.5455\n",
      "Epoch 5/20\n",
      "66/66 [==============================] - 2s 32ms/sample - loss: 0.9695 - sparse_categorical_accuracy: 0.6818 - val_loss: 1.0471 - val_sparse_categorical_accuracy: 0.7045\n",
      "Epoch 6/20\n",
      "66/66 [==============================] - 2s 35ms/sample - loss: 0.8544 - sparse_categorical_accuracy: 0.6970 - val_loss: 0.8944 - val_sparse_categorical_accuracy: 0.7045\n",
      "Epoch 7/20\n",
      "66/66 [==============================] - 2s 25ms/sample - loss: 0.6951 - sparse_categorical_accuracy: 0.7121 - val_loss: 0.7422 - val_sparse_categorical_accuracy: 0.7045\n",
      "Epoch 8/20\n",
      "66/66 [==============================] - 2s 26ms/sample - loss: 0.4870 - sparse_categorical_accuracy: 0.7727 - val_loss: 0.6479 - val_sparse_categorical_accuracy: 0.7500\n",
      "Epoch 9/20\n",
      "66/66 [==============================] - 2s 30ms/sample - loss: 0.3533 - sparse_categorical_accuracy: 0.8333 - val_loss: 0.6310 - val_sparse_categorical_accuracy: 0.7727\n",
      "Epoch 10/20\n",
      "66/66 [==============================] - 2s 26ms/sample - loss: 0.3042 - sparse_categorical_accuracy: 0.8788 - val_loss: 0.6418 - val_sparse_categorical_accuracy: 0.7727\n",
      "Epoch 11/20\n",
      "66/66 [==============================] - 38s 569ms/sample - loss: 0.2902 - sparse_categorical_accuracy: 0.8788 - val_loss: 0.6636 - val_sparse_categorical_accuracy: 0.7045\n",
      "Epoch 12/20\n",
      "66/66 [==============================] - 4s 53ms/sample - loss: 0.2690 - sparse_categorical_accuracy: 0.8939 - val_loss: 0.6757 - val_sparse_categorical_accuracy: 0.6818\n",
      "Epoch 13/20\n",
      "66/66 [==============================] - 2s 24ms/sample - loss: 0.2352 - sparse_categorical_accuracy: 0.9242 - val_loss: 0.6716 - val_sparse_categorical_accuracy: 0.6818\n",
      "Epoch 14/20\n",
      "66/66 [==============================] - 2s 24ms/sample - loss: 0.1903 - sparse_categorical_accuracy: 0.9545 - val_loss: 0.6571 - val_sparse_categorical_accuracy: 0.7273\n",
      "Epoch 15/20\n",
      "66/66 [==============================] - 2s 26ms/sample - loss: 0.1434 - sparse_categorical_accuracy: 0.9545 - val_loss: 0.6262 - val_sparse_categorical_accuracy: 0.7500\n",
      "Epoch 16/20\n",
      "66/66 [==============================] - 2s 25ms/sample - loss: 0.1045 - sparse_categorical_accuracy: 0.9848 - val_loss: 0.6061 - val_sparse_categorical_accuracy: 0.7727\n",
      "Epoch 17/20\n",
      "66/66 [==============================] - 2s 24ms/sample - loss: 0.0819 - sparse_categorical_accuracy: 0.9848 - val_loss: 0.6036 - val_sparse_categorical_accuracy: 0.7955\n",
      "Epoch 18/20\n",
      "66/66 [==============================] - 2s 24ms/sample - loss: 0.0740 - sparse_categorical_accuracy: 1.0000 - val_loss: 0.6198 - val_sparse_categorical_accuracy: 0.7955\n",
      "Epoch 19/20\n",
      "66/66 [==============================] - 2s 24ms/sample - loss: 0.0726 - sparse_categorical_accuracy: 0.9848 - val_loss: 0.6423 - val_sparse_categorical_accuracy: 0.7955\n",
      "Epoch 20/20\n",
      "66/66 [==============================] - 2s 24ms/sample - loss: 0.0690 - sparse_categorical_accuracy: 1.0000 - val_loss: 0.6575 - val_sparse_categorical_accuracy: 0.7955\n"
     ]
    }
   ],
   "source": [
    "nepochs = 20\n",
    "tam_lote = 128\n",
    "history= model.fit(X_train, y_train, epochs=nepochs, batch_size=tam_lote, verbose=1 , validation_data=(X_test, y_test))"
   ]
  },
  {
   "cell_type": "code",
   "execution_count": 24,
   "metadata": {
    "colab": {
     "base_uri": "https://localhost:8080/",
     "height": 339
    },
    "colab_type": "code",
    "executionInfo": {
     "elapsed": 1469,
     "status": "ok",
     "timestamp": 1597853014804,
     "user": {
      "displayName": "edgar andres",
      "photoUrl": "",
      "userId": "01248025822311515718"
     },
     "user_tz": 300
    },
    "id": "Dtj-w5sCFirR",
    "outputId": "d2f290c3-64c6-4ec3-ad81-2193047f142c"
   },
   "outputs": [
    {
     "data": {
      "image/png": "[encoded data removed]",
      "text/plain": [
       "<matplotlib.figure.Figure at 0x7f86acdd3ba8>"
      ]
     },
     "metadata": {
      "needs_background": "light"
     },
     "output_type": "display_data"
    }
   ],
   "source": [
    "fig = plt.figure(figsize=(10,5))\n",
    "ax = fig.add_subplot(1, 2, 1)\n",
    "ax.plot(history.history['sparse_categorical_accuracy'], label='Train Accuracy');\n",
    "ax.plot(history.history['val_sparse_categorical_accuracy'], label='Validation Accuracy');\n",
    "ax.set_xlabel('Epochs');\n",
    "ax.set_ylabel('Accuracy');\n",
    "ax.legend();\n",
    "ax = fig.add_subplot(1, 2, 2)\n",
    "ax.plot(history.history['loss'], label='train loss');\n",
    "ax.plot(history.history['val_loss'], label='evaluation loss');\n",
    "ax.legend();\n",
    "ax.set_xlabel('Epochs');\n",
    "ax.set_ylabel('Loss');"
   ]
  },
  {
   "cell_type": "code",
   "execution_count": 25,
   "metadata": {
    "colab": {
     "base_uri": "https://localhost:8080/",
     "height": 34
    },
    "colab_type": "code",
    "executionInfo": {
     "elapsed": 427,
     "status": "ok",
     "timestamp": 1597853018577,
     "user": {
      "displayName": "edgar andres",
      "photoUrl": "",
      "userId": "01248025822311515718"
     },
     "user_tz": 300
    },
    "id": "wRth_OOkFzYn",
    "outputId": "a9b89f08-b009-44b1-ec35-afaeb0708d08"
   },
   "outputs": [
    {
     "name": "stdout",
     "output_type": "stream",
     "text": [
      "1.0 0.79545456\n"
     ]
    }
   ],
   "source": [
    "print(np.max(history.history['sparse_categorical_accuracy']),np.max(history.history['val_sparse_categorical_accuracy']))"
   ]
  },
  {
   "cell_type": "code",
   "execution_count": null,
   "metadata": {
    "colab": {},
    "colab_type": "code",
    "id": "AMWYscOudsNK"
   },
   "outputs": [],
   "source": []
  },
  {
   "cell_type": "code",
   "execution_count": null,
   "metadata": {
    "colab": {},
    "colab_type": "code",
    "id": "AapR0P2Ydsdo"
   },
   "outputs": [],
   "source": []
  },
  {
   "cell_type": "code",
   "execution_count": null,
   "metadata": {
    "colab": {},
    "colab_type": "code",
    "id": "q4SCg6_El4gl"
   },
   "outputs": [],
   "source": [
    "y_predict = []\n",
    "for k in range(X_test.shape[0]):\n",
    "  prediccion = model.predict(np.r_[[X_test[k]]])\n",
    "  mayor = prediccion[0][0]\n",
    "  label = 0 \n",
    "  for i in range(3):\n",
    "    if(prediccion[0][i+1]>mayor):\n",
    "      mayor = prediccion[0][i+1]\n",
    "      label = i+1\n",
    "  y_predict.append(label)"
   ]
  },
  {
   "cell_type": "code",
   "execution_count": null,
   "metadata": {
    "colab": {},
    "colab_type": "code",
    "id": "x2mxp49RMlUt"
   },
   "outputs": [],
   "source": [
    "y_predict = list(y_predict)"
   ]
  },
  {
   "cell_type": "code",
   "execution_count": null,
   "metadata": {
    "colab": {},
    "colab_type": "code",
    "id": "EP0LyBqkdtP1"
   },
   "outputs": [],
   "source": []
  },
  {
   "cell_type": "code",
   "execution_count": null,
   "metadata": {
    "colab": {},
    "colab_type": "code",
    "id": "YngR4J2XdtT-"
   },
   "outputs": [],
   "source": []
  },
  {
   "cell_type": "code",
   "execution_count": 26,
   "metadata": {
    "colab": {
     "base_uri": "https://localhost:8080/",
     "height": 493
    },
    "colab_type": "code",
    "executionInfo": {
     "elapsed": 5939,
     "status": "ok",
     "timestamp": 1598368670393,
     "user": {
      "displayName": "edgar andres",
      "photoUrl": "",
      "userId": "01248025822311515718"
     },
     "user_tz": 300
    },
    "id": "g0vNMnE3_qKe",
    "outputId": "36452e59-9b0d-4dbd-df7c-be6f10949cbd"
   },
   "outputs": [
    {
     "name": "stdout",
     "output_type": "stream",
     "text": [
      "Model: \"model_1\"\n",
      "_________________________________________________________________\n",
      "Layer (type)                 Output Shape              Param #   \n",
      "=================================================================\n",
      "input_2 (InputLayer)         [(None, 150, 268, 3)]     0         \n",
      "_________________________________________________________________\n",
      "conv2d_2 (Conv2D)            (None, 150, 268, 32)      896       \n",
      "_________________________________________________________________\n",
      "conv2d_3 (Conv2D)            (None, 150, 268, 32)      9248      \n",
      "_________________________________________________________________\n",
      "max_pooling2d_2 (MaxPooling2 (None, 75, 134, 32)       0         \n",
      "_________________________________________________________________\n",
      "conv2d_4 (Conv2D)            (None, 75, 134, 64)       18496     \n",
      "_________________________________________________________________\n",
      "conv2d_5 (Conv2D)            (None, 75, 134, 64)       36928     \n",
      "_________________________________________________________________\n",
      "max_pooling2d_3 (MaxPooling2 (None, 37, 67, 64)        0         \n",
      "_________________________________________________________________\n",
      "flatten_1 (Flatten)          (None, 158656)            0         \n",
      "_________________________________________________________________\n",
      "dense_3 (Dense)              (None, 128)               20308096  \n",
      "_________________________________________________________________\n",
      "dense_4 (Dense)              (None, 10)                1290      \n",
      "=================================================================\n",
      "Total params: 20,374,954\n",
      "Trainable params: 20,374,954\n",
      "Non-trainable params: 0\n",
      "_________________________________________________________________\n"
     ]
    }
   ],
   "source": [
    "#Segunda arquitectura (4con + 2Pool + 2Full)\n",
    "entrada = tf.keras.Input((150,268,3))\n",
    "x = tf.keras.layers.Conv2D(32, 3, activation='relu', padding='same')(entrada)\n",
    "x = tf.keras.layers.Conv2D(32, 3, activation='relu', padding='same')(x)\n",
    "x = tf.keras.layers.MaxPooling2D((2,2))(x)\n",
    "x = tf.keras.layers.Conv2D(64, 3, activation='relu', padding='same')(x)\n",
    "x = tf.keras.layers.Conv2D(64, 3, activation='relu', padding='same')(x)\n",
    "x = tf.keras.layers.MaxPooling2D((2,2))(x)\n",
    "x = tf.keras.layers.Flatten()(x)\n",
    "x = tf.keras.layers.Dense(128, activation='relu', kernel_initializer='he_uniform')(x)\n",
    "x = tf.keras.layers.Dense(10, activation='softmax')(x)\n",
    "model = tf.keras.Model(entrada, x)\n",
    "model.summary()"
   ]
  },
  {
   "cell_type": "code",
   "execution_count": 27,
   "metadata": {
    "colab": {},
    "colab_type": "code",
    "id": "YRX3168P-Xwp"
   },
   "outputs": [],
   "source": [
    "model.compile(loss=tf.keras.losses.SparseCategoricalCrossentropy(), \n",
    "              optimizer=tf.keras.optimizers.Adam(learning_rate= 0.0001), \n",
    "              metrics=[tf.keras.metrics.SparseCategoricalAccuracy()])"
   ]
  },
  {
   "cell_type": "code",
   "execution_count": null,
   "metadata": {
    "colab": {
     "base_uri": "https://localhost:8080/",
     "height": 1000
    },
    "colab_type": "code",
    "executionInfo": {
     "elapsed": 37460,
     "status": "ok",
     "timestamp": 1598368712327,
     "user": {
      "displayName": "edgar andres",
      "photoUrl": "",
      "userId": "01248025822311515718"
     },
     "user_tz": 300
    },
    "id": "GhL7ZgFv-bdY",
    "outputId": "03a70d38-e39d-472d-e2c9-2cfdb5c56c6f"
   },
   "outputs": [
    {
     "name": "stdout",
     "output_type": "stream",
     "text": [
      "Train on 66 samples, validate on 44 samples\n",
      "Epoch 1/70\n"
     ]
    }
   ],
   "source": [
    "#Entrenamiento\n",
    "nepochs = 70\n",
    "tam_lote = 128\n",
    "history = model.fit(X_train, y_train, epochs = nepochs, batch_size = tam_lote, verbose=1 , validation_data=(X_test, y_test))\n"
   ]
  },
  {
   "cell_type": "code",
   "execution_count": null,
   "metadata": {
    "colab": {
     "base_uri": "https://localhost:8080/",
     "height": 356
    },
    "colab_type": "code",
    "executionInfo": {
     "elapsed": 1435,
     "status": "ok",
     "timestamp": 1598368766261,
     "user": {
      "displayName": "edgar andres",
      "photoUrl": "",
      "userId": "01248025822311515718"
     },
     "user_tz": 300
    },
    "id": "ebWClzsT_jb8",
    "outputId": "4fcd7f24-3456-4876-88bb-7101f3007484"
   },
   "outputs": [
    {
     "name": "stdout",
     "output_type": "stream",
     "text": [
      "1.0 0.8863636255264282\n"
     ]
    },
    {
     "data": {
      "image/png": "[encoded data removed]",
      "text/plain": [
       "<Figure size 720x360 with 2 Axes>"
      ]
     },
     "metadata": {
      "needs_background": "light",
      "tags": []
     },
     "output_type": "display_data"
    }
   ],
   "source": [
    "fig = plt.figure(figsize=(10,5))\n",
    "ax = fig.add_subplot(1, 2, 1)\n",
    "ax.plot(history.history['sparse_categorical_accuracy'], label='Train Accuracy');\n",
    "ax.plot(history.history['val_sparse_categorical_accuracy'], label='Validation Accuracy');\n",
    "ax.set_xlabel('Epochs');\n",
    "ax.set_ylabel('Accuracy');\n",
    "ax.legend();\n",
    "ax = fig.add_subplot(1, 2, 2)\n",
    "ax.plot(history.history['loss'], label='train loss');\n",
    "ax.plot(history.history['val_loss'], label='evaluation loss');\n",
    "ax.legend();\n",
    "ax.set_xlabel('Epochs');\n",
    "ax.set_ylabel('Loss');\n",
    "print(np.max(history.history['sparse_categorical_accuracy']),np.max(history.history['val_sparse_categorical_accuracy']))"
   ]
  },
  {
   "cell_type": "code",
   "execution_count": null,
   "metadata": {
    "colab": {
     "base_uri": "https://localhost:8080/",
     "height": 34
    },
    "colab_type": "code",
    "executionInfo": {
     "elapsed": 443,
     "status": "ok",
     "timestamp": 1597850665683,
     "user": {
      "displayName": "edgar andres",
      "photoUrl": "",
      "userId": "01248025822311515718"
     },
     "user_tz": 300
    },
    "id": "SSrdJ7d-El6T",
    "outputId": "c9f6e521-8d11-4289-b477-cdb0e62ce53c"
   },
   "outputs": [
    {
     "name": "stdout",
     "output_type": "stream",
     "text": [
      "1.0 0.8636363744735718\n"
     ]
    }
   ],
   "source": [
    "print(np.max(history.history['sparse_categorical_accuracy']),np.max(history.history['val_sparse_categorical_accuracy']))"
   ]
  },
  {
   "cell_type": "code",
   "execution_count": null,
   "metadata": {
    "colab": {
     "base_uri": "https://localhost:8080/",
     "height": 493
    },
    "colab_type": "code",
    "executionInfo": {
     "elapsed": 471,
     "status": "ok",
     "timestamp": 1598369060756,
     "user": {
      "displayName": "edgar andres",
      "photoUrl": "",
      "userId": "01248025822311515718"
     },
     "user_tz": 300
    },
    "id": "DZmihAO7M_Y6",
    "outputId": "69f7df47-9afd-4627-806f-240b6ada48be"
   },
   "outputs": [
    {
     "name": "stdout",
     "output_type": "stream",
     "text": [
      "Model: \"functional_1\"\n",
      "_________________________________________________________________\n",
      "Layer (type)                 Output Shape              Param #   \n",
      "=================================================================\n",
      "input_1 (InputLayer)         [(None, 150, 268, 3)]     0         \n",
      "_________________________________________________________________\n",
      "conv2d (Conv2D)              (None, 150, 268, 32)      896       \n",
      "_________________________________________________________________\n",
      "conv2d_1 (Conv2D)            (None, 150, 268, 32)      9248      \n",
      "_________________________________________________________________\n",
      "max_pooling2d (MaxPooling2D) (None, 75, 134, 32)       0         \n",
      "_________________________________________________________________\n",
      "conv2d_2 (Conv2D)            (None, 75, 134, 64)       18496     \n",
      "_________________________________________________________________\n",
      "conv2d_3 (Conv2D)            (None, 75, 134, 64)       36928     \n",
      "_________________________________________________________________\n",
      "max_pooling2d_1 (MaxPooling2 (None, 37, 67, 64)        0         \n",
      "_________________________________________________________________\n",
      "flatten (Flatten)            (None, 158656)            0         \n",
      "_________________________________________________________________\n",
      "dense (Dense)                (None, 128)               20308096  \n",
      "_________________________________________________________________\n",
      "dense_1 (Dense)              (None, 10)                1290      \n",
      "=================================================================\n",
      "Total params: 20,374,954\n",
      "Trainable params: 0\n",
      "Non-trainable params: 20,374,954\n",
      "_________________________________________________________________\n"
     ]
    }
   ],
   "source": [
    "#Ahora saquemosle Dancing learning a esta moda\n",
    "\n",
    "#Primero lo congelamos\n",
    "model.trainable = False\n",
    "model.summary()"
   ]
  },
  {
   "cell_type": "code",
   "execution_count": null,
   "metadata": {
    "colab": {},
    "colab_type": "code",
    "id": "29WwLe1yOI96"
   },
   "outputs": [],
   "source": []
  },
  {
   "cell_type": "code",
   "execution_count": null,
   "metadata": {
    "colab": {
     "base_uri": "https://localhost:8080/",
     "height": 629
    },
    "colab_type": "code",
    "executionInfo": {
     "elapsed": 477,
     "status": "ok",
     "timestamp": 1597853671573,
     "user": {
      "displayName": "edgar andres",
      "photoUrl": "",
      "userId": "01248025822311515718"
     },
     "user_tz": 300
    },
    "id": "bByAD5PfXK3p",
    "outputId": "3d956ce6-719e-44a5-83f0-624b723d5b3c"
   },
   "outputs": [
    {
     "name": "stdout",
     "output_type": "stream",
     "text": [
      "Model: \"functional_45\"\n",
      "_________________________________________________________________\n",
      "Layer (type)                 Output Shape              Param #   \n",
      "=================================================================\n",
      "input_26 (InputLayer)        [(None, 150, 268, 3)]     0         \n",
      "_________________________________________________________________\n",
      "conv2d_91 (Conv2D)           (None, 150, 268, 32)      896       \n",
      "_________________________________________________________________\n",
      "conv2d_92 (Conv2D)           (None, 150, 268, 32)      9248      \n",
      "_________________________________________________________________\n",
      "max_pooling2d_36 (MaxPooling (None, 75, 134, 32)       0         \n",
      "_________________________________________________________________\n",
      "conv2d_93 (Conv2D)           (None, 75, 134, 64)       18496     \n",
      "_________________________________________________________________\n",
      "conv2d_94 (Conv2D)           (None, 75, 134, 64)       36928     \n",
      "_________________________________________________________________\n",
      "max_pooling2d_37 (MaxPooling (None, 37, 67, 64)        0         \n",
      "_________________________________________________________________\n",
      "conv2d_95 (Conv2D)           (None, 37, 67, 128)       73856     \n",
      "_________________________________________________________________\n",
      "conv2d_96 (Conv2D)           (None, 37, 67, 128)       147584    \n",
      "_________________________________________________________________\n",
      "max_pooling2d_38 (MaxPooling (None, 18, 33, 128)       0         \n",
      "_________________________________________________________________\n",
      "flatten_27 (Flatten)         (None, 76032)             0         \n",
      "_________________________________________________________________\n",
      "dense_61 (Dense)             (None, 128)               9732224   \n",
      "_________________________________________________________________\n",
      "dense_62 (Dense)             (None, 84)                10836     \n",
      "_________________________________________________________________\n",
      "dense_63 (Dense)             (None, 10)                850       \n",
      "=================================================================\n",
      "Total params: 10,030,918\n",
      "Trainable params: 10,030,918\n",
      "Non-trainable params: 0\n",
      "_________________________________________________________________\n"
     ]
    }
   ],
   "source": [
    "#Tercera arquitectura (6convolucionales)\n",
    "entrada = tf.keras.Input((150,268,3))\n",
    "x = tf.keras.layers.Conv2D(32, 3, activation='relu', padding='same')(entrada)\n",
    "x = tf.keras.layers.Conv2D(32, 3, activation='relu', padding='same')(x)\n",
    "x = tf.keras.layers.MaxPooling2D((2,2))(x)\n",
    "x = tf.keras.layers.Conv2D(64, 3, activation='relu', padding='same')(x)\n",
    "x = tf.keras.layers.Conv2D(64, 3, activation='relu', padding='same')(x)\n",
    "x = tf.keras.layers.MaxPooling2D((2,2))(x)\n",
    "x = tf.keras.layers.Conv2D(128, 3, activation='relu', padding='same')(x)\n",
    "x = tf.keras.layers.Conv2D(128, 3, activation='relu', padding='same')(x)\n",
    "x = tf.keras.layers.MaxPooling2D((2,2))(x)\n",
    "x = tf.keras.layers.Flatten()(x)\n",
    "x = tf.keras.layers.Dense(128, activation='relu', kernel_initializer='he_uniform')(x)\n",
    "x = tf.keras.layers.Dense(10, activation='softmax')(x)\n",
    "model = tf.keras.Model(entrada, x)\n",
    "model.summary()"
   ]
  },
  {
   "cell_type": "code",
   "execution_count": null,
   "metadata": {
    "colab": {},
    "colab_type": "code",
    "id": "8wGe3_L_XK0h"
   },
   "outputs": [],
   "source": [
    "model.compile(loss=tf.keras.losses.SparseCategoricalCrossentropy(), \n",
    "              optimizer=tf.keras.optimizers.Adam(learning_rate= 0.0001), \n",
    "              metrics=[tf.keras.metrics.SparseCategoricalAccuracy()])"
   ]
  },
  {
   "cell_type": "code",
   "execution_count": null,
   "metadata": {
    "colab": {
     "base_uri": "https://localhost:8080/",
     "height": 1000
    },
    "colab_type": "code",
    "executionInfo": {
     "elapsed": 36566,
     "status": "ok",
     "timestamp": 1597853713649,
     "user": {
      "displayName": "edgar andres",
      "photoUrl": "",
      "userId": "01248025822311515718"
     },
     "user_tz": 300
    },
    "id": "wo-gV3_kXKx6",
    "outputId": "08a80083-a2cc-4991-977a-c776894548b7"
   },
   "outputs": [
    {
     "name": "stdout",
     "output_type": "stream",
     "text": [
      "Epoch 1/70\n",
      "1/1 [==============================] - 1s 596ms/step - loss: 2.3050 - sparse_categorical_accuracy: 0.2121 - val_loss: 2.2893 - val_sparse_categorical_accuracy: 0.3182\n",
      "Epoch 2/70\n",
      "1/1 [==============================] - 0s 369ms/step - loss: 2.2890 - sparse_categorical_accuracy: 0.2424 - val_loss: 2.2724 - val_sparse_categorical_accuracy: 0.3864\n",
      "Epoch 3/70\n",
      "1/1 [==============================] - 0s 372ms/step - loss: 2.2704 - sparse_categorical_accuracy: 0.3636 - val_loss: 2.2396 - val_sparse_categorical_accuracy: 0.4773\n",
      "Epoch 4/70\n",
      "1/1 [==============================] - 0s 365ms/step - loss: 2.2403 - sparse_categorical_accuracy: 0.4242 - val_loss: 2.2001 - val_sparse_categorical_accuracy: 0.4318\n",
      "Epoch 5/70\n",
      "1/1 [==============================] - 0s 363ms/step - loss: 2.2113 - sparse_categorical_accuracy: 0.3788 - val_loss: 2.1894 - val_sparse_categorical_accuracy: 0.5000\n",
      "Epoch 6/70\n",
      "1/1 [==============================] - 0s 365ms/step - loss: 2.1807 - sparse_categorical_accuracy: 0.4848 - val_loss: 2.1826 - val_sparse_categorical_accuracy: 0.4773\n",
      "Epoch 7/70\n",
      "1/1 [==============================] - 0s 365ms/step - loss: 2.1603 - sparse_categorical_accuracy: 0.5455 - val_loss: 2.1737 - val_sparse_categorical_accuracy: 0.4545\n",
      "Epoch 8/70\n",
      "1/1 [==============================] - 0s 363ms/step - loss: 2.1516 - sparse_categorical_accuracy: 0.4697 - val_loss: 2.1570 - val_sparse_categorical_accuracy: 0.4773\n",
      "Epoch 9/70\n",
      "1/1 [==============================] - 0s 367ms/step - loss: 2.1371 - sparse_categorical_accuracy: 0.5152 - val_loss: 2.1440 - val_sparse_categorical_accuracy: 0.5227\n",
      "Epoch 10/70\n",
      "1/1 [==============================] - 0s 364ms/step - loss: 2.1261 - sparse_categorical_accuracy: 0.5455 - val_loss: 2.1460 - val_sparse_categorical_accuracy: 0.5227\n",
      "Epoch 11/70\n",
      "1/1 [==============================] - 0s 373ms/step - loss: 2.1181 - sparse_categorical_accuracy: 0.5303 - val_loss: 2.1409 - val_sparse_categorical_accuracy: 0.5227\n",
      "Epoch 12/70\n",
      "1/1 [==============================] - 0s 362ms/step - loss: 2.1068 - sparse_categorical_accuracy: 0.6061 - val_loss: 2.1472 - val_sparse_categorical_accuracy: 0.5909\n",
      "Epoch 13/70\n",
      "1/1 [==============================] - 0s 369ms/step - loss: 2.1078 - sparse_categorical_accuracy: 0.6212 - val_loss: 2.1421 - val_sparse_categorical_accuracy: 0.5455\n",
      "Epoch 14/70\n",
      "1/1 [==============================] - 0s 366ms/step - loss: 2.0969 - sparse_categorical_accuracy: 0.6515 - val_loss: 2.1418 - val_sparse_categorical_accuracy: 0.5227\n",
      "Epoch 15/70\n",
      "1/1 [==============================] - 0s 369ms/step - loss: 2.0966 - sparse_categorical_accuracy: 0.6364 - val_loss: 2.1436 - val_sparse_categorical_accuracy: 0.5000\n",
      "Epoch 16/70\n",
      "1/1 [==============================] - 0s 363ms/step - loss: 2.0914 - sparse_categorical_accuracy: 0.6515 - val_loss: 2.1461 - val_sparse_categorical_accuracy: 0.5227\n",
      "Epoch 17/70\n",
      "1/1 [==============================] - 0s 370ms/step - loss: 2.0910 - sparse_categorical_accuracy: 0.6667 - val_loss: 2.1369 - val_sparse_categorical_accuracy: 0.5000\n",
      "Epoch 18/70\n",
      "1/1 [==============================] - 0s 365ms/step - loss: 2.0876 - sparse_categorical_accuracy: 0.6515 - val_loss: 2.1369 - val_sparse_categorical_accuracy: 0.5455\n",
      "Epoch 19/70\n",
      "1/1 [==============================] - 0s 369ms/step - loss: 2.0859 - sparse_categorical_accuracy: 0.6515 - val_loss: 2.1398 - val_sparse_categorical_accuracy: 0.5455\n",
      "Epoch 20/70\n",
      "1/1 [==============================] - 0s 368ms/step - loss: 2.0850 - sparse_categorical_accuracy: 0.6515 - val_loss: 2.1398 - val_sparse_categorical_accuracy: 0.5682\n",
      "Epoch 21/70\n",
      "1/1 [==============================] - 0s 362ms/step - loss: 2.0834 - sparse_categorical_accuracy: 0.6515 - val_loss: 2.1461 - val_sparse_categorical_accuracy: 0.5455\n",
      "Epoch 22/70\n",
      "1/1 [==============================] - 0s 371ms/step - loss: 2.0830 - sparse_categorical_accuracy: 0.6515 - val_loss: 2.1458 - val_sparse_categorical_accuracy: 0.5227\n",
      "Epoch 23/70\n",
      "1/1 [==============================] - 0s 362ms/step - loss: 2.0819 - sparse_categorical_accuracy: 0.6515 - val_loss: 2.1484 - val_sparse_categorical_accuracy: 0.5227\n",
      "Epoch 24/70\n",
      "1/1 [==============================] - 0s 363ms/step - loss: 2.0815 - sparse_categorical_accuracy: 0.6515 - val_loss: 2.1477 - val_sparse_categorical_accuracy: 0.5227\n",
      "Epoch 25/70\n",
      "1/1 [==============================] - 0s 367ms/step - loss: 2.0811 - sparse_categorical_accuracy: 0.6515 - val_loss: 2.1428 - val_sparse_categorical_accuracy: 0.5227\n",
      "Epoch 26/70\n",
      "1/1 [==============================] - 0s 363ms/step - loss: 2.0809 - sparse_categorical_accuracy: 0.6515 - val_loss: 2.1400 - val_sparse_categorical_accuracy: 0.5455\n",
      "Epoch 27/70\n",
      "1/1 [==============================] - 0s 368ms/step - loss: 2.0806 - sparse_categorical_accuracy: 0.6515 - val_loss: 2.1390 - val_sparse_categorical_accuracy: 0.5455\n",
      "Epoch 28/70\n",
      "1/1 [==============================] - 0s 370ms/step - loss: 2.0802 - sparse_categorical_accuracy: 0.6515 - val_loss: 2.1396 - val_sparse_categorical_accuracy: 0.5227\n",
      "Epoch 29/70\n",
      "1/1 [==============================] - 0s 360ms/step - loss: 2.0798 - sparse_categorical_accuracy: 0.6515 - val_loss: 2.1427 - val_sparse_categorical_accuracy: 0.5000\n",
      "Epoch 30/70\n",
      "1/1 [==============================] - 0s 369ms/step - loss: 2.0792 - sparse_categorical_accuracy: 0.6515 - val_loss: 2.1502 - val_sparse_categorical_accuracy: 0.4773\n",
      "Epoch 31/70\n",
      "1/1 [==============================] - 0s 366ms/step - loss: 2.0781 - sparse_categorical_accuracy: 0.6515 - val_loss: 2.1528 - val_sparse_categorical_accuracy: 0.4773\n",
      "Epoch 32/70\n",
      "1/1 [==============================] - 0s 362ms/step - loss: 2.0778 - sparse_categorical_accuracy: 0.6515 - val_loss: 2.1494 - val_sparse_categorical_accuracy: 0.5000\n",
      "Epoch 33/70\n",
      "1/1 [==============================] - 0s 365ms/step - loss: 2.0774 - sparse_categorical_accuracy: 0.6515 - val_loss: 2.1422 - val_sparse_categorical_accuracy: 0.5227\n",
      "Epoch 34/70\n",
      "1/1 [==============================] - 0s 371ms/step - loss: 2.0766 - sparse_categorical_accuracy: 0.6515 - val_loss: 2.1367 - val_sparse_categorical_accuracy: 0.5682\n",
      "Epoch 35/70\n",
      "1/1 [==============================] - 0s 365ms/step - loss: 2.0761 - sparse_categorical_accuracy: 0.6667 - val_loss: 2.1418 - val_sparse_categorical_accuracy: 0.5000\n",
      "Epoch 36/70\n",
      "1/1 [==============================] - 0s 363ms/step - loss: 2.0771 - sparse_categorical_accuracy: 0.6364 - val_loss: 2.1430 - val_sparse_categorical_accuracy: 0.5000\n",
      "Epoch 37/70\n",
      "1/1 [==============================] - 0s 368ms/step - loss: 2.0747 - sparse_categorical_accuracy: 0.6515 - val_loss: 2.1399 - val_sparse_categorical_accuracy: 0.5227\n",
      "Epoch 38/70\n",
      "1/1 [==============================] - 0s 364ms/step - loss: 2.0746 - sparse_categorical_accuracy: 0.6515 - val_loss: 2.1393 - val_sparse_categorical_accuracy: 0.5682\n",
      "Epoch 39/70\n",
      "1/1 [==============================] - 0s 364ms/step - loss: 2.0737 - sparse_categorical_accuracy: 0.6515 - val_loss: 2.1335 - val_sparse_categorical_accuracy: 0.5682\n",
      "Epoch 40/70\n",
      "1/1 [==============================] - 0s 365ms/step - loss: 2.0739 - sparse_categorical_accuracy: 0.6515 - val_loss: 2.1387 - val_sparse_categorical_accuracy: 0.5682\n",
      "Epoch 41/70\n",
      "1/1 [==============================] - 0s 361ms/step - loss: 2.0727 - sparse_categorical_accuracy: 0.6515 - val_loss: 2.1368 - val_sparse_categorical_accuracy: 0.5682\n",
      "Epoch 42/70\n",
      "1/1 [==============================] - 0s 361ms/step - loss: 2.0724 - sparse_categorical_accuracy: 0.6515 - val_loss: 2.1310 - val_sparse_categorical_accuracy: 0.5227\n",
      "Epoch 43/70\n",
      "1/1 [==============================] - 0s 360ms/step - loss: 2.0722 - sparse_categorical_accuracy: 0.6515 - val_loss: 2.1323 - val_sparse_categorical_accuracy: 0.5227\n",
      "Epoch 44/70\n",
      "1/1 [==============================] - 0s 361ms/step - loss: 2.0722 - sparse_categorical_accuracy: 0.6515 - val_loss: 2.1322 - val_sparse_categorical_accuracy: 0.5227\n",
      "Epoch 45/70\n",
      "1/1 [==============================] - 0s 364ms/step - loss: 2.0717 - sparse_categorical_accuracy: 0.6515 - val_loss: 2.1299 - val_sparse_categorical_accuracy: 0.5909\n",
      "Epoch 46/70\n",
      "1/1 [==============================] - 0s 363ms/step - loss: 2.0713 - sparse_categorical_accuracy: 0.6515 - val_loss: 2.1287 - val_sparse_categorical_accuracy: 0.5682\n",
      "Epoch 47/70\n",
      "1/1 [==============================] - 0s 362ms/step - loss: 2.0710 - sparse_categorical_accuracy: 0.6515 - val_loss: 2.1294 - val_sparse_categorical_accuracy: 0.5455\n",
      "Epoch 48/70\n",
      "1/1 [==============================] - 0s 363ms/step - loss: 2.0707 - sparse_categorical_accuracy: 0.6515 - val_loss: 2.1310 - val_sparse_categorical_accuracy: 0.5455\n",
      "Epoch 49/70\n",
      "1/1 [==============================] - 0s 366ms/step - loss: 2.0704 - sparse_categorical_accuracy: 0.6515 - val_loss: 2.1326 - val_sparse_categorical_accuracy: 0.5455\n",
      "Epoch 50/70\n",
      "1/1 [==============================] - 0s 362ms/step - loss: 2.0701 - sparse_categorical_accuracy: 0.6515 - val_loss: 2.1339 - val_sparse_categorical_accuracy: 0.5455\n",
      "Epoch 51/70\n",
      "1/1 [==============================] - 0s 367ms/step - loss: 2.0699 - sparse_categorical_accuracy: 0.6515 - val_loss: 2.1350 - val_sparse_categorical_accuracy: 0.5455\n",
      "Epoch 52/70\n",
      "1/1 [==============================] - 0s 366ms/step - loss: 2.0696 - sparse_categorical_accuracy: 0.6515 - val_loss: 2.1358 - val_sparse_categorical_accuracy: 0.5455\n",
      "Epoch 53/70\n",
      "1/1 [==============================] - 0s 363ms/step - loss: 2.0693 - sparse_categorical_accuracy: 0.6515 - val_loss: 2.1363 - val_sparse_categorical_accuracy: 0.5455\n",
      "Epoch 54/70\n",
      "1/1 [==============================] - 0s 362ms/step - loss: 2.0690 - sparse_categorical_accuracy: 0.6515 - val_loss: 2.1363 - val_sparse_categorical_accuracy: 0.5455\n",
      "Epoch 55/70\n",
      "1/1 [==============================] - 0s 365ms/step - loss: 2.0688 - sparse_categorical_accuracy: 0.6515 - val_loss: 2.1358 - val_sparse_categorical_accuracy: 0.5455\n",
      "Epoch 56/70\n",
      "1/1 [==============================] - 0s 364ms/step - loss: 2.0685 - sparse_categorical_accuracy: 0.6515 - val_loss: 2.1350 - val_sparse_categorical_accuracy: 0.5455\n",
      "Epoch 57/70\n",
      "1/1 [==============================] - 0s 365ms/step - loss: 2.0682 - sparse_categorical_accuracy: 0.6515 - val_loss: 2.1338 - val_sparse_categorical_accuracy: 0.5455\n",
      "Epoch 58/70\n",
      "1/1 [==============================] - 0s 366ms/step - loss: 2.0679 - sparse_categorical_accuracy: 0.6515 - val_loss: 2.1326 - val_sparse_categorical_accuracy: 0.5455\n",
      "Epoch 59/70\n",
      "1/1 [==============================] - 0s 365ms/step - loss: 2.0676 - sparse_categorical_accuracy: 0.6515 - val_loss: 2.1314 - val_sparse_categorical_accuracy: 0.5455\n",
      "Epoch 60/70\n",
      "1/1 [==============================] - 0s 360ms/step - loss: 2.0674 - sparse_categorical_accuracy: 0.6515 - val_loss: 2.1303 - val_sparse_categorical_accuracy: 0.5455\n",
      "Epoch 61/70\n",
      "1/1 [==============================] - 0s 366ms/step - loss: 2.0671 - sparse_categorical_accuracy: 0.6515 - val_loss: 2.1292 - val_sparse_categorical_accuracy: 0.5455\n",
      "Epoch 62/70\n",
      "1/1 [==============================] - 0s 362ms/step - loss: 2.0668 - sparse_categorical_accuracy: 0.6515 - val_loss: 2.1280 - val_sparse_categorical_accuracy: 0.5455\n",
      "Epoch 63/70\n",
      "1/1 [==============================] - 0s 363ms/step - loss: 2.0665 - sparse_categorical_accuracy: 0.6515 - val_loss: 2.1268 - val_sparse_categorical_accuracy: 0.5455\n",
      "Epoch 64/70\n",
      "1/1 [==============================] - 0s 369ms/step - loss: 2.0662 - sparse_categorical_accuracy: 0.6515 - val_loss: 2.1257 - val_sparse_categorical_accuracy: 0.5455\n",
      "Epoch 65/70\n",
      "1/1 [==============================] - 0s 365ms/step - loss: 2.0660 - sparse_categorical_accuracy: 0.6515 - val_loss: 2.1247 - val_sparse_categorical_accuracy: 0.5455\n",
      "Epoch 66/70\n",
      "1/1 [==============================] - 0s 376ms/step - loss: 2.0657 - sparse_categorical_accuracy: 0.6515 - val_loss: 2.1239 - val_sparse_categorical_accuracy: 0.5455\n",
      "Epoch 67/70\n",
      "1/1 [==============================] - 0s 357ms/step - loss: 2.0654 - sparse_categorical_accuracy: 0.6515 - val_loss: 2.1232 - val_sparse_categorical_accuracy: 0.5455\n",
      "Epoch 68/70\n",
      "1/1 [==============================] - 0s 365ms/step - loss: 2.0651 - sparse_categorical_accuracy: 0.6515 - val_loss: 2.1227 - val_sparse_categorical_accuracy: 0.5455\n",
      "Epoch 69/70\n",
      "1/1 [==============================] - 0s 364ms/step - loss: 2.0649 - sparse_categorical_accuracy: 0.6515 - val_loss: 2.1223 - val_sparse_categorical_accuracy: 0.5682\n",
      "Epoch 70/70\n",
      "1/1 [==============================] - 0s 360ms/step - loss: 2.0646 - sparse_categorical_accuracy: 0.6515 - val_loss: 2.1219 - val_sparse_categorical_accuracy: 0.5682\n"
     ]
    }
   ],
   "source": [
    "#Entrenamiento\n",
    "nepochs = 70\n",
    "tam_lote = 128\n",
    "history = model.fit(X_train, y_train, epochs = nepochs, batch_size = tam_lote, verbose=1 , validation_data=(X_test, y_test))\n"
   ]
  },
  {
   "cell_type": "code",
   "execution_count": null,
   "metadata": {
    "colab": {
     "base_uri": "https://localhost:8080/",
     "height": 356
    },
    "colab_type": "code",
    "executionInfo": {
     "elapsed": 1339,
     "status": "ok",
     "timestamp": 1597853769440,
     "user": {
      "displayName": "edgar andres",
      "photoUrl": "",
      "userId": "01248025822311515718"
     },
     "user_tz": 300
    },
    "id": "HgGJ21EjXKvA",
    "outputId": "f52ce205-2311-40cc-95b6-79a34c70c231"
   },
   "outputs": [
    {
     "name": "stdout",
     "output_type": "stream",
     "text": [
      "0.6666666865348816 0.5909090638160706\n"
     ]
    },
    {
     "data": {
      "image/png": "[encoded data removed]",
      "text/plain": [
       "<Figure size 720x360 with 2 Axes>"
      ]
     },
     "metadata": {
      "tags": []
     },
     "output_type": "display_data"
    }
   ],
   "source": [
    "fig = plt.figure(figsize=(10,5))\n",
    "ax = fig.add_subplot(1, 2, 1)\n",
    "ax.plot(history.history['sparse_categorical_accuracy'], label='Train Accuracy');\n",
    "ax.plot(history.history['val_sparse_categorical_accuracy'], label='Validation Accuracy');\n",
    "ax.set_xlabel('Epochs');\n",
    "ax.set_ylabel('Accuracy');\n",
    "ax.legend();\n",
    "ax = fig.add_subplot(1, 2, 2)\n",
    "ax.plot(history.history['loss'], label='train loss');\n",
    "ax.plot(history.history['val_loss'], label='evaluation loss');\n",
    "ax.legend();\n",
    "ax.set_xlabel('Epochs');\n",
    "ax.set_ylabel('Loss');\n",
    "print(np.max(history.history['sparse_categorical_accuracy']),np.max(history.history['val_sparse_categorical_accuracy']))"
   ]
  },
  {
   "cell_type": "code",
   "execution_count": null,
   "metadata": {
    "colab": {},
    "colab_type": "code",
    "id": "vGIdd8jyXKr0"
   },
   "outputs": [],
   "source": []
  },
  {
   "cell_type": "code",
   "execution_count": null,
   "metadata": {
    "colab": {
     "base_uri": "https://localhost:8080/",
     "height": 561
    },
    "colab_type": "code",
    "executionInfo": {
     "elapsed": 615,
     "status": "ok",
     "timestamp": 1597848336863,
     "user": {
      "displayName": "edgar andres",
      "photoUrl": "",
      "userId": "01248025822311515718"
     },
     "user_tz": 300
    },
    "id": "0Kzj9nGYIlRw",
    "outputId": "3c496fae-904c-40a3-d099-85ba45807a47"
   },
   "outputs": [
    {
     "name": "stdout",
     "output_type": "stream",
     "text": [
      "Model: \"functional_19\"\n",
      "_________________________________________________________________\n",
      "Layer (type)                 Output Shape              Param #   \n",
      "=================================================================\n",
      "input_10 (InputLayer)        [(None, 150, 268, 3)]     0         \n",
      "_________________________________________________________________\n",
      "conv2d_30 (Conv2D)           (None, 150, 268, 32)      896       \n",
      "_________________________________________________________________\n",
      "conv2d_31 (Conv2D)           (None, 150, 268, 32)      9248      \n",
      "_________________________________________________________________\n",
      "max_pooling2d_12 (MaxPooling (None, 75, 134, 32)       0         \n",
      "_________________________________________________________________\n",
      "conv2d_32 (Conv2D)           (None, 75, 134, 64)       18496     \n",
      "_________________________________________________________________\n",
      "conv2d_33 (Conv2D)           (None, 75, 134, 64)       36928     \n",
      "_________________________________________________________________\n",
      "conv2d_34 (Conv2D)           (None, 75, 134, 128)      73856     \n",
      "_________________________________________________________________\n",
      "conv2d_35 (Conv2D)           (None, 75, 134, 128)      147584    \n",
      "_________________________________________________________________\n",
      "max_pooling2d_13 (MaxPooling (None, 37, 67, 128)       0         \n",
      "_________________________________________________________________\n",
      "flatten_13 (Flatten)         (None, 317312)            0         \n",
      "_________________________________________________________________\n",
      "dense_28 (Dense)             (None, 128)               40616064  \n",
      "_________________________________________________________________\n",
      "dense_29 (Dense)             (None, 10)                1290      \n",
      "=================================================================\n",
      "Total params: 40,904,362\n",
      "Trainable params: 40,904,362\n",
      "Non-trainable params: 0\n",
      "_________________________________________________________________\n"
     ]
    }
   ],
   "source": [
    "#Arquitectura 3\n",
    "entrada = tf.keras.Input((150,268,3))\n",
    "x = tf.keras.layers.Conv2D(32, 3, activation='relu', kernel_initializer='he_uniform', bias_initializer='he_uniform', padding='same')(entrada)\n",
    "x = tf.keras.layers.Conv2D(32, 3, activation='relu', kernel_initializer='he_uniform', bias_initializer='he_uniform', padding='same')(x)\n",
    "x = tf.keras.layers.MaxPooling2D((2,2))(x)\n",
    "x = tf.keras.layers.Conv2D(64, 3, activation='relu', kernel_initializer='he_uniform', bias_initializer='he_uniform', padding='same')(x)\n",
    "x = tf.keras.layers.Conv2D(64, (3, 3), activation='relu', kernel_initializer='he_uniform', bias_initializer='he_uniform', padding='same')(x)\n",
    "x = tf.keras.layers.Conv2D(128, (3, 3), activation='relu', kernel_initializer='he_uniform', bias_initializer='he_uniform', padding='same')(x)\n",
    "x = tf.keras.layers.Conv2D(128, (3, 3), activation='relu', kernel_initializer='he_uniform', bias_initializer='he_uniform', padding='same')(x)\n",
    "x = tf.keras.layers.MaxPooling2D((2, 2))(x)\n",
    "x = tf.keras.layers.Flatten()(x)\n",
    "x = tf.keras.layers.Dense(128, activation='relu', kernel_initializer='glorot_uniform', bias_initializer='he_uniform')(x)\n",
    "x = tf.keras.layers.Dense(10, activation='softmax')(x)\n",
    "model = tf.keras.Model(entrada, x)\n",
    "model.summary()\n"
   ]
  },
  {
   "cell_type": "code",
   "execution_count": null,
   "metadata": {
    "colab": {},
    "colab_type": "code",
    "id": "ieRy-WdeJmfv"
   },
   "outputs": [],
   "source": [
    "model.compile(loss=tf.keras.losses.SparseCategoricalCrossentropy(), \n",
    "              optimizer=tf.keras.optimizers.Adam(learning_rate= 0.0001), \n",
    "              metrics=[tf.keras.metrics.SparseCategoricalAccuracy()])"
   ]
  },
  {
   "cell_type": "code",
   "execution_count": null,
   "metadata": {
    "colab": {
     "base_uri": "https://localhost:8080/",
     "height": 1000
    },
    "colab_type": "code",
    "executionInfo": {
     "elapsed": 63700,
     "status": "ok",
     "timestamp": 1597848455611,
     "user": {
      "displayName": "edgar andres",
      "photoUrl": "",
      "userId": "01248025822311515718"
     },
     "user_tz": 300
    },
    "id": "m7y5OfltL1Qg",
    "outputId": "f95f939e-50fb-4c98-a723-b645ff8ace36"
   },
   "outputs": [
    {
     "name": "stdout",
     "output_type": "stream",
     "text": [
      "Epoch 1/70\n",
      "1/1 [==============================] - 2s 2s/step - loss: 6.4677 - sparse_categorical_accuracy: 0.1970 - val_loss: 13.8810 - val_sparse_categorical_accuracy: 0.2727\n",
      "Epoch 2/70\n",
      "1/1 [==============================] - 1s 607ms/step - loss: 10.1027 - sparse_categorical_accuracy: 0.5000 - val_loss: 70.4341 - val_sparse_categorical_accuracy: 0.4091\n",
      "Epoch 3/70\n",
      "1/1 [==============================] - 1s 603ms/step - loss: 76.7023 - sparse_categorical_accuracy: 0.3182 - val_loss: 40.7751 - val_sparse_categorical_accuracy: 0.2500\n",
      "Epoch 4/70\n",
      "1/1 [==============================] - 1s 610ms/step - loss: 37.6777 - sparse_categorical_accuracy: 0.3333 - val_loss: 27.2692 - val_sparse_categorical_accuracy: 0.3864\n",
      "Epoch 5/70\n",
      "1/1 [==============================] - 1s 610ms/step - loss: 13.9420 - sparse_categorical_accuracy: 0.5606 - val_loss: 31.1367 - val_sparse_categorical_accuracy: 0.3182\n",
      "Epoch 6/70\n",
      "1/1 [==============================] - 1s 616ms/step - loss: 15.8345 - sparse_categorical_accuracy: 0.5152 - val_loss: 22.0652 - val_sparse_categorical_accuracy: 0.3864\n",
      "Epoch 7/70\n",
      "1/1 [==============================] - 1s 610ms/step - loss: 11.5766 - sparse_categorical_accuracy: 0.6970 - val_loss: 23.1184 - val_sparse_categorical_accuracy: 0.4545\n",
      "Epoch 8/70\n",
      "1/1 [==============================] - 1s 610ms/step - loss: 11.9612 - sparse_categorical_accuracy: 0.6212 - val_loss: 20.1940 - val_sparse_categorical_accuracy: 0.4545\n",
      "Epoch 9/70\n",
      "1/1 [==============================] - 1s 608ms/step - loss: 9.1580 - sparse_categorical_accuracy: 0.6364 - val_loss: 13.9245 - val_sparse_categorical_accuracy: 0.5682\n",
      "Epoch 10/70\n",
      "1/1 [==============================] - 1s 608ms/step - loss: 4.6117 - sparse_categorical_accuracy: 0.7727 - val_loss: 9.6896 - val_sparse_categorical_accuracy: 0.5682\n",
      "Epoch 11/70\n",
      "1/1 [==============================] - 1s 609ms/step - loss: 2.3162 - sparse_categorical_accuracy: 0.8182 - val_loss: 7.4883 - val_sparse_categorical_accuracy: 0.5227\n",
      "Epoch 12/70\n",
      "1/1 [==============================] - 1s 612ms/step - loss: 1.8547 - sparse_categorical_accuracy: 0.8182 - val_loss: 7.2976 - val_sparse_categorical_accuracy: 0.5682\n",
      "Epoch 13/70\n",
      "1/1 [==============================] - 1s 609ms/step - loss: 1.6694 - sparse_categorical_accuracy: 0.8636 - val_loss: 7.3696 - val_sparse_categorical_accuracy: 0.5227\n",
      "Epoch 14/70\n",
      "1/1 [==============================] - 1s 617ms/step - loss: 1.4860 - sparse_categorical_accuracy: 0.8788 - val_loss: 7.0854 - val_sparse_categorical_accuracy: 0.5227\n",
      "Epoch 15/70\n",
      "1/1 [==============================] - 1s 612ms/step - loss: 1.2850 - sparse_categorical_accuracy: 0.8788 - val_loss: 6.5037 - val_sparse_categorical_accuracy: 0.5455\n",
      "Epoch 16/70\n",
      "1/1 [==============================] - 1s 605ms/step - loss: 0.9278 - sparse_categorical_accuracy: 0.9091 - val_loss: 6.0968 - val_sparse_categorical_accuracy: 0.5682\n",
      "Epoch 17/70\n",
      "1/1 [==============================] - 1s 606ms/step - loss: 0.5848 - sparse_categorical_accuracy: 0.9242 - val_loss: 6.0371 - val_sparse_categorical_accuracy: 0.6136\n",
      "Epoch 18/70\n",
      "1/1 [==============================] - 1s 612ms/step - loss: 0.3153 - sparse_categorical_accuracy: 0.9394 - val_loss: 5.8976 - val_sparse_categorical_accuracy: 0.6136\n",
      "Epoch 19/70\n",
      "1/1 [==============================] - 1s 606ms/step - loss: 0.1466 - sparse_categorical_accuracy: 0.9545 - val_loss: 5.3445 - val_sparse_categorical_accuracy: 0.6364\n",
      "Epoch 20/70\n",
      "1/1 [==============================] - 1s 611ms/step - loss: 0.0131 - sparse_categorical_accuracy: 1.0000 - val_loss: 4.8553 - val_sparse_categorical_accuracy: 0.6818\n",
      "Epoch 21/70\n",
      "1/1 [==============================] - 1s 609ms/step - loss: 0.0049 - sparse_categorical_accuracy: 1.0000 - val_loss: 4.4570 - val_sparse_categorical_accuracy: 0.6591\n",
      "Epoch 22/70\n",
      "1/1 [==============================] - 1s 609ms/step - loss: 0.0111 - sparse_categorical_accuracy: 1.0000 - val_loss: 4.0802 - val_sparse_categorical_accuracy: 0.7273\n",
      "Epoch 23/70\n",
      "1/1 [==============================] - 1s 611ms/step - loss: 0.0093 - sparse_categorical_accuracy: 1.0000 - val_loss: 3.7917 - val_sparse_categorical_accuracy: 0.7500\n",
      "Epoch 24/70\n",
      "1/1 [==============================] - 1s 611ms/step - loss: 0.0387 - sparse_categorical_accuracy: 0.9848 - val_loss: 3.5864 - val_sparse_categorical_accuracy: 0.6818\n",
      "Epoch 25/70\n",
      "1/1 [==============================] - 1s 610ms/step - loss: 0.0511 - sparse_categorical_accuracy: 0.9848 - val_loss: 3.4629 - val_sparse_categorical_accuracy: 0.7273\n",
      "Epoch 26/70\n",
      "1/1 [==============================] - 1s 613ms/step - loss: 0.0263 - sparse_categorical_accuracy: 0.9848 - val_loss: 3.3886 - val_sparse_categorical_accuracy: 0.7273\n",
      "Epoch 27/70\n",
      "1/1 [==============================] - 1s 606ms/step - loss: 0.0019 - sparse_categorical_accuracy: 1.0000 - val_loss: 3.3521 - val_sparse_categorical_accuracy: 0.7273\n",
      "Epoch 28/70\n",
      "1/1 [==============================] - 1s 616ms/step - loss: 7.9017e-05 - sparse_categorical_accuracy: 1.0000 - val_loss: 3.3358 - val_sparse_categorical_accuracy: 0.7273\n",
      "Epoch 29/70\n",
      "1/1 [==============================] - 1s 603ms/step - loss: 9.9757e-06 - sparse_categorical_accuracy: 1.0000 - val_loss: 3.3524 - val_sparse_categorical_accuracy: 0.7500\n",
      "Epoch 30/70\n",
      "1/1 [==============================] - 1s 610ms/step - loss: 4.8183e-06 - sparse_categorical_accuracy: 1.0000 - val_loss: 3.3940 - val_sparse_categorical_accuracy: 0.7500\n",
      "Epoch 31/70\n",
      "1/1 [==============================] - 1s 620ms/step - loss: 3.4422e-06 - sparse_categorical_accuracy: 1.0000 - val_loss: 3.4477 - val_sparse_categorical_accuracy: 0.7500\n",
      "Epoch 32/70\n",
      "1/1 [==============================] - 1s 605ms/step - loss: 2.6838e-06 - sparse_categorical_accuracy: 1.0000 - val_loss: 3.5062 - val_sparse_categorical_accuracy: 0.7273\n",
      "Epoch 33/70\n",
      "1/1 [==============================] - 1s 608ms/step - loss: 2.1944e-06 - sparse_categorical_accuracy: 1.0000 - val_loss: 3.5648 - val_sparse_categorical_accuracy: 0.7273\n",
      "Epoch 34/70\n",
      "1/1 [==============================] - 1s 611ms/step - loss: 1.8657e-06 - sparse_categorical_accuracy: 1.0000 - val_loss: 3.6213 - val_sparse_categorical_accuracy: 0.7045\n",
      "Epoch 35/70\n",
      "1/1 [==============================] - 1s 613ms/step - loss: 1.6526e-06 - sparse_categorical_accuracy: 1.0000 - val_loss: 3.6748 - val_sparse_categorical_accuracy: 0.7045\n",
      "Epoch 36/70\n",
      "1/1 [==============================] - 1s 612ms/step - loss: 1.5334e-06 - sparse_categorical_accuracy: 1.0000 - val_loss: 3.7243 - val_sparse_categorical_accuracy: 0.7045\n",
      "Epoch 37/70\n",
      "1/1 [==============================] - 1s 603ms/step - loss: 1.4973e-06 - sparse_categorical_accuracy: 1.0000 - val_loss: 3.7697 - val_sparse_categorical_accuracy: 0.7045\n",
      "Epoch 38/70\n",
      "1/1 [==============================] - 1s 615ms/step - loss: 1.5425e-06 - sparse_categorical_accuracy: 1.0000 - val_loss: 3.8110 - val_sparse_categorical_accuracy: 0.7045\n",
      "Epoch 39/70\n",
      "1/1 [==============================] - 1s 606ms/step - loss: 1.6671e-06 - sparse_categorical_accuracy: 1.0000 - val_loss: 3.8485 - val_sparse_categorical_accuracy: 0.7045\n",
      "Epoch 40/70\n",
      "1/1 [==============================] - 1s 609ms/step - loss: 1.8603e-06 - sparse_categorical_accuracy: 1.0000 - val_loss: 3.8826 - val_sparse_categorical_accuracy: 0.7045\n",
      "Epoch 41/70\n",
      "1/1 [==============================] - 1s 603ms/step - loss: 2.1060e-06 - sparse_categorical_accuracy: 1.0000 - val_loss: 3.9132 - val_sparse_categorical_accuracy: 0.7045\n",
      "Epoch 42/70\n",
      "1/1 [==============================] - 1s 602ms/step - loss: 2.3642e-06 - sparse_categorical_accuracy: 1.0000 - val_loss: 3.9404 - val_sparse_categorical_accuracy: 0.7045\n",
      "Epoch 43/70\n",
      "1/1 [==============================] - 1s 610ms/step - loss: 2.5864e-06 - sparse_categorical_accuracy: 1.0000 - val_loss: 3.9644 - val_sparse_categorical_accuracy: 0.7045\n",
      "Epoch 44/70\n",
      "1/1 [==============================] - 1s 609ms/step - loss: 2.7344e-06 - sparse_categorical_accuracy: 1.0000 - val_loss: 3.9856 - val_sparse_categorical_accuracy: 0.7045\n",
      "Epoch 45/70\n",
      "1/1 [==============================] - 1s 606ms/step - loss: 2.7832e-06 - sparse_categorical_accuracy: 1.0000 - val_loss: 4.0039 - val_sparse_categorical_accuracy: 0.7045\n",
      "Epoch 46/70\n",
      "1/1 [==============================] - 1s 612ms/step - loss: 2.7218e-06 - sparse_categorical_accuracy: 1.0000 - val_loss: 4.0198 - val_sparse_categorical_accuracy: 0.7045\n",
      "Epoch 47/70\n",
      "1/1 [==============================] - 1s 611ms/step - loss: 2.5737e-06 - sparse_categorical_accuracy: 1.0000 - val_loss: 4.0333 - val_sparse_categorical_accuracy: 0.7045\n",
      "Epoch 48/70\n",
      "1/1 [==============================] - 1s 606ms/step - loss: 2.3660e-06 - sparse_categorical_accuracy: 1.0000 - val_loss: 4.0449 - val_sparse_categorical_accuracy: 0.7045\n",
      "Epoch 49/70\n",
      "1/1 [==============================] - 1s 616ms/step - loss: 2.1258e-06 - sparse_categorical_accuracy: 1.0000 - val_loss: 4.0548 - val_sparse_categorical_accuracy: 0.7045\n",
      "Epoch 50/70\n",
      "1/1 [==============================] - 1s 616ms/step - loss: 1.8838e-06 - sparse_categorical_accuracy: 1.0000 - val_loss: 4.0632 - val_sparse_categorical_accuracy: 0.7045\n",
      "Epoch 51/70\n",
      "1/1 [==============================] - 1s 616ms/step - loss: 1.6617e-06 - sparse_categorical_accuracy: 1.0000 - val_loss: 4.0705 - val_sparse_categorical_accuracy: 0.7045\n",
      "Epoch 52/70\n",
      "1/1 [==============================] - 1s 620ms/step - loss: 1.4666e-06 - sparse_categorical_accuracy: 1.0000 - val_loss: 4.0769 - val_sparse_categorical_accuracy: 0.7045\n",
      "Epoch 53/70\n",
      "1/1 [==============================] - 1s 609ms/step - loss: 1.3022e-06 - sparse_categorical_accuracy: 1.0000 - val_loss: 4.0825 - val_sparse_categorical_accuracy: 0.7045\n",
      "Epoch 54/70\n",
      "1/1 [==============================] - 1s 606ms/step - loss: 1.1650e-06 - sparse_categorical_accuracy: 1.0000 - val_loss: 4.0872 - val_sparse_categorical_accuracy: 0.7045\n",
      "Epoch 55/70\n",
      "1/1 [==============================] - 1s 599ms/step - loss: 1.0566e-06 - sparse_categorical_accuracy: 1.0000 - val_loss: 4.0912 - val_sparse_categorical_accuracy: 0.7045\n",
      "Epoch 56/70\n",
      "1/1 [==============================] - 1s 607ms/step - loss: 9.6992e-07 - sparse_categorical_accuracy: 1.0000 - val_loss: 4.0946 - val_sparse_categorical_accuracy: 0.7045\n",
      "Epoch 57/70\n",
      "1/1 [==============================] - 1s 613ms/step - loss: 9.0128e-07 - sparse_categorical_accuracy: 1.0000 - val_loss: 4.0976 - val_sparse_categorical_accuracy: 0.7045\n",
      "Epoch 58/70\n",
      "1/1 [==============================] - 1s 607ms/step - loss: 8.4529e-07 - sparse_categorical_accuracy: 1.0000 - val_loss: 4.1000 - val_sparse_categorical_accuracy: 0.7045\n",
      "Epoch 59/70\n",
      "1/1 [==============================] - 1s 612ms/step - loss: 8.0194e-07 - sparse_categorical_accuracy: 1.0000 - val_loss: 4.1021 - val_sparse_categorical_accuracy: 0.7045\n",
      "Epoch 60/70\n",
      "1/1 [==============================] - 1s 602ms/step - loss: 7.6582e-07 - sparse_categorical_accuracy: 1.0000 - val_loss: 4.1039 - val_sparse_categorical_accuracy: 0.7045\n",
      "Epoch 61/70\n",
      "1/1 [==============================] - 1s 613ms/step - loss: 7.4053e-07 - sparse_categorical_accuracy: 1.0000 - val_loss: 4.1053 - val_sparse_categorical_accuracy: 0.7045\n",
      "Epoch 62/70\n",
      "1/1 [==============================] - 1s 613ms/step - loss: 7.1705e-07 - sparse_categorical_accuracy: 1.0000 - val_loss: 4.1065 - val_sparse_categorical_accuracy: 0.7045\n",
      "Epoch 63/70\n",
      "1/1 [==============================] - 1s 606ms/step - loss: 6.9899e-07 - sparse_categorical_accuracy: 1.0000 - val_loss: 4.1075 - val_sparse_categorical_accuracy: 0.7045\n",
      "Epoch 64/70\n",
      "1/1 [==============================] - 1s 617ms/step - loss: 6.8273e-07 - sparse_categorical_accuracy: 1.0000 - val_loss: 4.1083 - val_sparse_categorical_accuracy: 0.7045\n",
      "Epoch 65/70\n",
      "1/1 [==============================] - 1s 608ms/step - loss: 6.6829e-07 - sparse_categorical_accuracy: 1.0000 - val_loss: 4.1090 - val_sparse_categorical_accuracy: 0.7045\n",
      "Epoch 66/70\n",
      "1/1 [==============================] - 1s 612ms/step - loss: 6.6106e-07 - sparse_categorical_accuracy: 1.0000 - val_loss: 4.1094 - val_sparse_categorical_accuracy: 0.7045\n",
      "Epoch 67/70\n",
      "1/1 [==============================] - 1s 606ms/step - loss: 6.5022e-07 - sparse_categorical_accuracy: 1.0000 - val_loss: 4.1098 - val_sparse_categorical_accuracy: 0.7045\n",
      "Epoch 68/70\n",
      "1/1 [==============================] - 1s 607ms/step - loss: 6.3939e-07 - sparse_categorical_accuracy: 1.0000 - val_loss: 4.1100 - val_sparse_categorical_accuracy: 0.7045\n",
      "Epoch 69/70\n",
      "1/1 [==============================] - 1s 609ms/step - loss: 6.3397e-07 - sparse_categorical_accuracy: 1.0000 - val_loss: 4.1102 - val_sparse_categorical_accuracy: 0.7045\n",
      "Epoch 70/70\n",
      "1/1 [==============================] - 1s 608ms/step - loss: 6.3036e-07 - sparse_categorical_accuracy: 1.0000 - val_loss: 4.1102 - val_sparse_categorical_accuracy: 0.7045\n"
     ]
    }
   ],
   "source": [
    "#Entrenamiento\n",
    "nepochs = 70\n",
    "tam_lote = 128\n",
    "history = model.fit(X_train, y_train, epochs = nepochs, batch_size = tam_lote, verbose=1 , validation_data=(X_test, y_test))"
   ]
  },
  {
   "cell_type": "code",
   "execution_count": null,
   "metadata": {
    "colab": {
     "base_uri": "https://localhost:8080/",
     "height": 358
    },
    "colab_type": "code",
    "executionInfo": {
     "elapsed": 1578,
     "status": "ok",
     "timestamp": 1597848509263,
     "user": {
      "displayName": "edgar andres",
      "photoUrl": "",
      "userId": "01248025822311515718"
     },
     "user_tz": 300
    },
    "id": "KjRaRRLwMTmu",
    "outputId": "f8b9b0c1-02c8-4392-ddff-f0d6f260a9af"
   },
   "outputs": [
    {
     "name": "stdout",
     "output_type": "stream",
     "text": [
      "1.0 0.75\n"
     ]
    },
    {
     "data": {
      "image/png": "[encoded data removed]",
      "text/plain": [
       "<Figure size 720x360 with 2 Axes>"
      ]
     },
     "metadata": {
      "tags": []
     },
     "output_type": "display_data"
    }
   ],
   "source": [
    "fig = plt.figure(figsize=(10,5))\n",
    "ax = fig.add_subplot(1, 2, 1)\n",
    "ax.plot(history.history['sparse_categorical_accuracy'], label='Train Accuracy');\n",
    "ax.plot(history.history['val_sparse_categorical_accuracy'], label='Validation Accuracy');\n",
    "ax.set_xlabel('Epochs');\n",
    "ax.set_ylabel('Accuracy');\n",
    "ax.legend();\n",
    "ax = fig.add_subplot(1, 2, 2)\n",
    "ax.plot(history.history['loss'], label='train loss');\n",
    "ax.plot(history.history['val_loss'], label='evaluation loss');\n",
    "ax.legend();\n",
    "ax.set_xlabel('Epochs');\n",
    "ax.set_ylabel('Loss');\n",
    "print(np.max(history.history['sparse_categorical_accuracy']),np.max(history.history['val_sparse_categorical_accuracy']))"
   ]
  },
  {
   "cell_type": "code",
   "execution_count": null,
   "metadata": {
    "colab": {
     "base_uri": "https://localhost:8080/",
     "height": 663
    },
    "colab_type": "code",
    "executionInfo": {
     "elapsed": 505,
     "status": "ok",
     "timestamp": 1597849060950,
     "user": {
      "displayName": "edgar andres",
      "photoUrl": "",
      "userId": "01248025822311515718"
     },
     "user_tz": 300
    },
    "id": "WXLv4qCTMfEv",
    "outputId": "26a11595-5c0a-49ea-9c6b-0a34cd49d0b3"
   },
   "outputs": [
    {
     "name": "stdout",
     "output_type": "stream",
     "text": [
      "Model: \"functional_21\"\n",
      "_________________________________________________________________\n",
      "Layer (type)                 Output Shape              Param #   \n",
      "=================================================================\n",
      "input_12 (InputLayer)        [(None, 150, 268, 3)]     0         \n",
      "_________________________________________________________________\n",
      "conv2d_42 (Conv2D)           (None, 150, 268, 32)      896       \n",
      "_________________________________________________________________\n",
      "conv2d_43 (Conv2D)           (None, 150, 268, 32)      9248      \n",
      "_________________________________________________________________\n",
      "max_pooling2d_16 (MaxPooling (None, 75, 134, 32)       0         \n",
      "_________________________________________________________________\n",
      "dropout_3 (Dropout)          (None, 75, 134, 32)       0         \n",
      "_________________________________________________________________\n",
      "conv2d_44 (Conv2D)           (None, 75, 134, 64)       18496     \n",
      "_________________________________________________________________\n",
      "conv2d_45 (Conv2D)           (None, 75, 134, 64)       36928     \n",
      "_________________________________________________________________\n",
      "conv2d_46 (Conv2D)           (None, 75, 134, 128)      73856     \n",
      "_________________________________________________________________\n",
      "conv2d_47 (Conv2D)           (None, 75, 134, 128)      147584    \n",
      "_________________________________________________________________\n",
      "max_pooling2d_17 (MaxPooling (None, 37, 67, 128)       0         \n",
      "_________________________________________________________________\n",
      "dropout_4 (Dropout)          (None, 37, 67, 128)       0         \n",
      "_________________________________________________________________\n",
      "flatten_15 (Flatten)         (None, 317312)            0         \n",
      "_________________________________________________________________\n",
      "dense_32 (Dense)             (None, 128)               40616064  \n",
      "_________________________________________________________________\n",
      "dropout_5 (Dropout)          (None, 128)               0         \n",
      "_________________________________________________________________\n",
      "dense_33 (Dense)             (None, 10)                1290      \n",
      "=================================================================\n",
      "Total params: 40,904,362\n",
      "Trainable params: 40,904,362\n",
      "Non-trainable params: 0\n",
      "_________________________________________________________________\n"
     ]
    }
   ],
   "source": [
    "#Arquitectura 4\n",
    "entrada = tf.keras.Input((150,268,3))\n",
    "x = tf.keras.layers.Conv2D(32, (3, 3), activation='relu', kernel_initializer='he_uniform', bias_initializer='he_uniform', padding='same')(entrada)\n",
    "x = tf.keras.layers.Conv2D(32, (3, 3), activation='relu', kernel_initializer='he_uniform', bias_initializer='he_uniform', padding='same')(x)\n",
    "x = tf.keras.layers.MaxPooling2D((2, 2))(x)\n",
    "x = tf.keras.layers.Dropout(0.2)(x)\n",
    "x = tf.keras.layers.Conv2D(64, (3, 3), activation='relu', kernel_initializer='he_uniform', bias_initializer='he_uniform', padding='same')(x)\n",
    "x = tf.keras.layers.Conv2D(64, (3, 3), activation='relu', kernel_initializer='he_uniform', bias_initializer='he_uniform', padding='same')(x)\n",
    "x = tf.keras.layers.Conv2D(128, (3, 3), activation='relu', kernel_initializer='he_uniform', bias_initializer='he_uniform', padding='same')(x)\n",
    "x = tf.keras.layers.Conv2D(128, (3, 3), activation='relu', kernel_initializer='he_uniform', bias_initializer='he_uniform', padding='same')(x)\n",
    "x = tf.keras.layers.MaxPooling2D((2, 2))(x)\n",
    "x = tf.keras.layers.Dropout(0.2)(x)\n",
    "x = tf.keras.layers.Flatten()(x)\n",
    "x = tf.keras.layers.Dense(128, kernel_initializer='glorot_uniform', bias_initializer='he_uniform',  activation='relu')(x)\n",
    "x = tf.keras.layers.Dropout(0.2)(x)\n",
    "x = tf.keras.layers.Dense(10, activation='softmax')(x)\n",
    "model = tf.keras.Model(entrada, x)\n",
    "model.summary()"
   ]
  },
  {
   "cell_type": "code",
   "execution_count": null,
   "metadata": {
    "colab": {},
    "colab_type": "code",
    "id": "4H9ht6JaMfNj"
   },
   "outputs": [],
   "source": [
    "model.compile(loss=tf.keras.losses.SparseCategoricalCrossentropy(), \n",
    "              optimizer=tf.keras.optimizers.Adam(learning_rate= 0.0001), \n",
    "              metrics=[tf.keras.metrics.SparseCategoricalAccuracy()])"
   ]
  },
  {
   "cell_type": "code",
   "execution_count": null,
   "metadata": {
    "colab": {
     "base_uri": "https://localhost:8080/",
     "height": 1000
    },
    "colab_type": "code",
    "executionInfo": {
     "elapsed": 60487,
     "status": "ok",
     "timestamp": 1597849147531,
     "user": {
      "displayName": "edgar andres",
      "photoUrl": "",
      "userId": "01248025822311515718"
     },
     "user_tz": 300
    },
    "id": "4z-21ldVMfWS",
    "outputId": "4847b4cd-7ce9-4d8e-db8d-66205798b22c"
   },
   "outputs": [
    {
     "name": "stdout",
     "output_type": "stream",
     "text": [
      "Epoch 1/70\n",
      "1/1 [==============================] - 1s 820ms/step - loss: 25.7794 - sparse_categorical_accuracy: 0.0303 - val_loss: 44.6835 - val_sparse_categorical_accuracy: 0.3182\n",
      "Epoch 2/70\n",
      "1/1 [==============================] - 1s 623ms/step - loss: 67.4794 - sparse_categorical_accuracy: 0.2424 - val_loss: 31.5866 - val_sparse_categorical_accuracy: 0.3409\n",
      "Epoch 3/70\n",
      "1/1 [==============================] - 1s 616ms/step - loss: 31.3942 - sparse_categorical_accuracy: 0.4242 - val_loss: 35.5588 - val_sparse_categorical_accuracy: 0.2727\n",
      "Epoch 4/70\n",
      "1/1 [==============================] - 1s 622ms/step - loss: 37.7866 - sparse_categorical_accuracy: 0.4394 - val_loss: 29.0429 - val_sparse_categorical_accuracy: 0.3864\n",
      "Epoch 5/70\n",
      "1/1 [==============================] - 1s 626ms/step - loss: 30.9594 - sparse_categorical_accuracy: 0.4091 - val_loss: 17.8753 - val_sparse_categorical_accuracy: 0.2727\n",
      "Epoch 6/70\n",
      "1/1 [==============================] - 1s 620ms/step - loss: 24.7329 - sparse_categorical_accuracy: 0.4848 - val_loss: 11.2382 - val_sparse_categorical_accuracy: 0.4318\n",
      "Epoch 7/70\n",
      "1/1 [==============================] - 1s 624ms/step - loss: 15.8289 - sparse_categorical_accuracy: 0.4242 - val_loss: 9.3419 - val_sparse_categorical_accuracy: 0.5682\n",
      "Epoch 8/70\n",
      "1/1 [==============================] - 1s 624ms/step - loss: 15.4819 - sparse_categorical_accuracy: 0.5455 - val_loss: 9.3300 - val_sparse_categorical_accuracy: 0.5455\n",
      "Epoch 9/70\n",
      "1/1 [==============================] - 1s 623ms/step - loss: 12.9649 - sparse_categorical_accuracy: 0.5909 - val_loss: 9.6028 - val_sparse_categorical_accuracy: 0.5000\n",
      "Epoch 10/70\n",
      "1/1 [==============================] - 1s 627ms/step - loss: 11.3109 - sparse_categorical_accuracy: 0.5455 - val_loss: 8.9778 - val_sparse_categorical_accuracy: 0.5455\n",
      "Epoch 11/70\n",
      "1/1 [==============================] - 1s 624ms/step - loss: 10.7487 - sparse_categorical_accuracy: 0.5152 - val_loss: 7.6208 - val_sparse_categorical_accuracy: 0.6136\n",
      "Epoch 12/70\n",
      "1/1 [==============================] - 1s 626ms/step - loss: 11.5395 - sparse_categorical_accuracy: 0.4697 - val_loss: 6.7388 - val_sparse_categorical_accuracy: 0.6364\n",
      "Epoch 13/70\n",
      "1/1 [==============================] - 1s 625ms/step - loss: 3.8363 - sparse_categorical_accuracy: 0.6818 - val_loss: 5.9197 - val_sparse_categorical_accuracy: 0.6364\n",
      "Epoch 14/70\n",
      "1/1 [==============================] - 1s 624ms/step - loss: 4.4460 - sparse_categorical_accuracy: 0.6364 - val_loss: 5.0030 - val_sparse_categorical_accuracy: 0.6136\n",
      "Epoch 15/70\n",
      "1/1 [==============================] - 1s 619ms/step - loss: 5.4916 - sparse_categorical_accuracy: 0.6818 - val_loss: 4.2823 - val_sparse_categorical_accuracy: 0.5682\n",
      "Epoch 16/70\n",
      "1/1 [==============================] - 1s 620ms/step - loss: 3.5709 - sparse_categorical_accuracy: 0.7273 - val_loss: 3.8635 - val_sparse_categorical_accuracy: 0.6591\n",
      "Epoch 17/70\n",
      "1/1 [==============================] - 1s 624ms/step - loss: 3.4316 - sparse_categorical_accuracy: 0.7121 - val_loss: 3.5052 - val_sparse_categorical_accuracy: 0.6591\n",
      "Epoch 18/70\n",
      "1/1 [==============================] - 1s 622ms/step - loss: 2.7416 - sparse_categorical_accuracy: 0.7424 - val_loss: 3.1359 - val_sparse_categorical_accuracy: 0.6818\n",
      "Epoch 19/70\n",
      "1/1 [==============================] - 1s 616ms/step - loss: 2.6563 - sparse_categorical_accuracy: 0.8333 - val_loss: 2.8099 - val_sparse_categorical_accuracy: 0.6364\n",
      "Epoch 20/70\n",
      "1/1 [==============================] - 1s 625ms/step - loss: 2.5783 - sparse_categorical_accuracy: 0.7576 - val_loss: 2.5397 - val_sparse_categorical_accuracy: 0.6818\n",
      "Epoch 21/70\n",
      "1/1 [==============================] - 1s 623ms/step - loss: 2.0159 - sparse_categorical_accuracy: 0.7727 - val_loss: 2.3525 - val_sparse_categorical_accuracy: 0.6591\n",
      "Epoch 22/70\n",
      "1/1 [==============================] - 1s 621ms/step - loss: 1.0947 - sparse_categorical_accuracy: 0.8333 - val_loss: 2.2059 - val_sparse_categorical_accuracy: 0.6136\n",
      "Epoch 23/70\n",
      "1/1 [==============================] - 1s 619ms/step - loss: 2.1509 - sparse_categorical_accuracy: 0.7727 - val_loss: 2.0292 - val_sparse_categorical_accuracy: 0.6136\n",
      "Epoch 24/70\n",
      "1/1 [==============================] - 1s 611ms/step - loss: 1.4419 - sparse_categorical_accuracy: 0.8485 - val_loss: 1.8129 - val_sparse_categorical_accuracy: 0.6364\n",
      "Epoch 25/70\n",
      "1/1 [==============================] - 1s 622ms/step - loss: 0.9964 - sparse_categorical_accuracy: 0.8485 - val_loss: 1.6111 - val_sparse_categorical_accuracy: 0.7273\n",
      "Epoch 26/70\n",
      "1/1 [==============================] - 1s 620ms/step - loss: 1.2140 - sparse_categorical_accuracy: 0.8182 - val_loss: 1.4419 - val_sparse_categorical_accuracy: 0.7500\n",
      "Epoch 27/70\n",
      "1/1 [==============================] - 1s 621ms/step - loss: 0.8403 - sparse_categorical_accuracy: 0.8636 - val_loss: 1.3179 - val_sparse_categorical_accuracy: 0.7273\n",
      "Epoch 28/70\n",
      "1/1 [==============================] - 1s 619ms/step - loss: 0.7268 - sparse_categorical_accuracy: 0.8636 - val_loss: 1.2305 - val_sparse_categorical_accuracy: 0.7273\n",
      "Epoch 29/70\n",
      "1/1 [==============================] - 1s 622ms/step - loss: 0.5557 - sparse_categorical_accuracy: 0.8636 - val_loss: 1.1592 - val_sparse_categorical_accuracy: 0.7045\n",
      "Epoch 30/70\n",
      "1/1 [==============================] - 1s 621ms/step - loss: 0.4588 - sparse_categorical_accuracy: 0.8788 - val_loss: 1.1035 - val_sparse_categorical_accuracy: 0.7045\n",
      "Epoch 31/70\n",
      "1/1 [==============================] - 1s 626ms/step - loss: 0.6715 - sparse_categorical_accuracy: 0.9091 - val_loss: 1.0647 - val_sparse_categorical_accuracy: 0.7500\n",
      "Epoch 32/70\n",
      "1/1 [==============================] - 1s 620ms/step - loss: 0.2927 - sparse_categorical_accuracy: 0.9394 - val_loss: 1.0270 - val_sparse_categorical_accuracy: 0.7500\n",
      "Epoch 33/70\n",
      "1/1 [==============================] - 1s 615ms/step - loss: 0.3035 - sparse_categorical_accuracy: 0.8939 - val_loss: 0.9894 - val_sparse_categorical_accuracy: 0.7500\n",
      "Epoch 34/70\n",
      "1/1 [==============================] - 1s 619ms/step - loss: 0.4067 - sparse_categorical_accuracy: 0.9091 - val_loss: 0.9542 - val_sparse_categorical_accuracy: 0.7500\n",
      "Epoch 35/70\n",
      "1/1 [==============================] - 1s 624ms/step - loss: 0.2934 - sparse_categorical_accuracy: 0.9394 - val_loss: 0.9216 - val_sparse_categorical_accuracy: 0.7500\n",
      "Epoch 36/70\n",
      "1/1 [==============================] - 1s 617ms/step - loss: 0.2210 - sparse_categorical_accuracy: 0.9091 - val_loss: 0.8923 - val_sparse_categorical_accuracy: 0.7273\n",
      "Epoch 37/70\n",
      "1/1 [==============================] - 1s 620ms/step - loss: 0.3303 - sparse_categorical_accuracy: 0.9091 - val_loss: 0.8575 - val_sparse_categorical_accuracy: 0.7273\n",
      "Epoch 38/70\n",
      "1/1 [==============================] - 1s 621ms/step - loss: 0.3883 - sparse_categorical_accuracy: 0.8788 - val_loss: 0.8221 - val_sparse_categorical_accuracy: 0.7273\n",
      "Epoch 39/70\n",
      "1/1 [==============================] - 1s 613ms/step - loss: 0.0955 - sparse_categorical_accuracy: 0.9697 - val_loss: 0.7903 - val_sparse_categorical_accuracy: 0.7273\n",
      "Epoch 40/70\n",
      "1/1 [==============================] - 1s 621ms/step - loss: 0.0672 - sparse_categorical_accuracy: 0.9697 - val_loss: 0.7605 - val_sparse_categorical_accuracy: 0.7500\n",
      "Epoch 41/70\n",
      "1/1 [==============================] - 1s 623ms/step - loss: 0.0712 - sparse_categorical_accuracy: 0.9697 - val_loss: 0.7330 - val_sparse_categorical_accuracy: 0.7500\n",
      "Epoch 42/70\n",
      "1/1 [==============================] - 1s 622ms/step - loss: 0.1933 - sparse_categorical_accuracy: 0.9545 - val_loss: 0.6856 - val_sparse_categorical_accuracy: 0.7500\n",
      "Epoch 43/70\n",
      "1/1 [==============================] - 1s 620ms/step - loss: 0.0923 - sparse_categorical_accuracy: 0.9545 - val_loss: 0.6502 - val_sparse_categorical_accuracy: 0.7727\n",
      "Epoch 44/70\n",
      "1/1 [==============================] - 1s 616ms/step - loss: 0.0587 - sparse_categorical_accuracy: 0.9697 - val_loss: 0.6183 - val_sparse_categorical_accuracy: 0.8182\n",
      "Epoch 45/70\n",
      "1/1 [==============================] - 1s 618ms/step - loss: 0.0120 - sparse_categorical_accuracy: 1.0000 - val_loss: 0.5955 - val_sparse_categorical_accuracy: 0.8182\n",
      "Epoch 46/70\n",
      "1/1 [==============================] - 1s 616ms/step - loss: 0.0326 - sparse_categorical_accuracy: 0.9848 - val_loss: 0.5762 - val_sparse_categorical_accuracy: 0.8182\n",
      "Epoch 47/70\n",
      "1/1 [==============================] - 1s 616ms/step - loss: 0.1033 - sparse_categorical_accuracy: 0.9545 - val_loss: 0.5682 - val_sparse_categorical_accuracy: 0.8409\n",
      "Epoch 48/70\n",
      "1/1 [==============================] - 1s 629ms/step - loss: 0.1037 - sparse_categorical_accuracy: 0.9848 - val_loss: 0.5727 - val_sparse_categorical_accuracy: 0.8182\n",
      "Epoch 49/70\n",
      "1/1 [==============================] - 1s 623ms/step - loss: 0.0072 - sparse_categorical_accuracy: 1.0000 - val_loss: 0.5875 - val_sparse_categorical_accuracy: 0.7955\n",
      "Epoch 50/70\n",
      "1/1 [==============================] - 1s 617ms/step - loss: 0.0277 - sparse_categorical_accuracy: 1.0000 - val_loss: 0.6134 - val_sparse_categorical_accuracy: 0.7727\n",
      "Epoch 51/70\n",
      "1/1 [==============================] - 1s 618ms/step - loss: 0.1207 - sparse_categorical_accuracy: 0.9545 - val_loss: 0.6232 - val_sparse_categorical_accuracy: 0.7727\n",
      "Epoch 52/70\n",
      "1/1 [==============================] - 1s 622ms/step - loss: 0.2094 - sparse_categorical_accuracy: 0.9394 - val_loss: 0.6108 - val_sparse_categorical_accuracy: 0.7727\n",
      "Epoch 53/70\n",
      "1/1 [==============================] - 1s 621ms/step - loss: 0.0864 - sparse_categorical_accuracy: 0.9848 - val_loss: 0.5967 - val_sparse_categorical_accuracy: 0.7727\n",
      "Epoch 54/70\n",
      "1/1 [==============================] - 1s 620ms/step - loss: 0.0464 - sparse_categorical_accuracy: 1.0000 - val_loss: 0.5756 - val_sparse_categorical_accuracy: 0.7727\n",
      "Epoch 55/70\n",
      "1/1 [==============================] - 1s 615ms/step - loss: 0.0746 - sparse_categorical_accuracy: 0.9697 - val_loss: 0.5480 - val_sparse_categorical_accuracy: 0.7955\n",
      "Epoch 56/70\n",
      "1/1 [==============================] - 1s 623ms/step - loss: 0.1289 - sparse_categorical_accuracy: 0.9697 - val_loss: 0.5364 - val_sparse_categorical_accuracy: 0.7955\n",
      "Epoch 57/70\n",
      "1/1 [==============================] - 1s 617ms/step - loss: 0.0057 - sparse_categorical_accuracy: 1.0000 - val_loss: 0.5313 - val_sparse_categorical_accuracy: 0.7955\n",
      "Epoch 58/70\n",
      "1/1 [==============================] - 1s 616ms/step - loss: 0.0254 - sparse_categorical_accuracy: 1.0000 - val_loss: 0.5305 - val_sparse_categorical_accuracy: 0.7955\n",
      "Epoch 59/70\n",
      "1/1 [==============================] - 1s 625ms/step - loss: 0.0120 - sparse_categorical_accuracy: 1.0000 - val_loss: 0.5323 - val_sparse_categorical_accuracy: 0.7955\n",
      "Epoch 60/70\n",
      "1/1 [==============================] - 1s 624ms/step - loss: 0.0072 - sparse_categorical_accuracy: 1.0000 - val_loss: 0.5329 - val_sparse_categorical_accuracy: 0.7727\n",
      "Epoch 61/70\n",
      "1/1 [==============================] - 1s 625ms/step - loss: 0.0058 - sparse_categorical_accuracy: 1.0000 - val_loss: 0.5348 - val_sparse_categorical_accuracy: 0.7955\n",
      "Epoch 62/70\n",
      "1/1 [==============================] - 1s 612ms/step - loss: 0.0121 - sparse_categorical_accuracy: 1.0000 - val_loss: 0.5369 - val_sparse_categorical_accuracy: 0.7955\n",
      "Epoch 63/70\n",
      "1/1 [==============================] - 1s 617ms/step - loss: 0.0413 - sparse_categorical_accuracy: 0.9697 - val_loss: 0.5386 - val_sparse_categorical_accuracy: 0.7955\n",
      "Epoch 64/70\n",
      "1/1 [==============================] - 1s 626ms/step - loss: 0.0343 - sparse_categorical_accuracy: 0.9697 - val_loss: 0.5382 - val_sparse_categorical_accuracy: 0.7955\n",
      "Epoch 65/70\n",
      "1/1 [==============================] - 1s 620ms/step - loss: 0.0112 - sparse_categorical_accuracy: 1.0000 - val_loss: 0.5380 - val_sparse_categorical_accuracy: 0.7955\n",
      "Epoch 66/70\n",
      "1/1 [==============================] - 1s 620ms/step - loss: 0.0085 - sparse_categorical_accuracy: 1.0000 - val_loss: 0.5369 - val_sparse_categorical_accuracy: 0.7955\n",
      "Epoch 67/70\n",
      "1/1 [==============================] - 1s 617ms/step - loss: 0.0082 - sparse_categorical_accuracy: 1.0000 - val_loss: 0.5363 - val_sparse_categorical_accuracy: 0.7727\n",
      "Epoch 68/70\n",
      "1/1 [==============================] - 1s 618ms/step - loss: 0.0633 - sparse_categorical_accuracy: 0.9848 - val_loss: 0.5322 - val_sparse_categorical_accuracy: 0.7727\n",
      "Epoch 69/70\n",
      "1/1 [==============================] - 1s 617ms/step - loss: 0.0452 - sparse_categorical_accuracy: 0.9848 - val_loss: 0.5317 - val_sparse_categorical_accuracy: 0.7727\n",
      "Epoch 70/70\n",
      "1/1 [==============================] - 1s 621ms/step - loss: 0.0108 - sparse_categorical_accuracy: 1.0000 - val_loss: 0.5314 - val_sparse_categorical_accuracy: 0.7727\n"
     ]
    }
   ],
   "source": [
    "nepochs = 70\n",
    "tam_lote = 128\n",
    "history = model.fit(X_train, y_train, epochs = nepochs, batch_size = tam_lote, verbose=1 , validation_data=(X_test, y_test))"
   ]
  },
  {
   "cell_type": "code",
   "execution_count": null,
   "metadata": {
    "colab": {
     "base_uri": "https://localhost:8080/",
     "height": 357
    },
    "colab_type": "code",
    "executionInfo": {
     "elapsed": 1409,
     "status": "ok",
     "timestamp": 1597849556141,
     "user": {
      "displayName": "edgar andres",
      "photoUrl": "",
      "userId": "01248025822311515718"
     },
     "user_tz": 300
    },
    "id": "Kp9MymOkMfT_",
    "outputId": "301747e0-3d3a-4484-b313-c4c5d0ee4965"
   },
   "outputs": [
    {
     "name": "stdout",
     "output_type": "stream",
     "text": [
      "1.0 0.8409090638160706\n"
     ]
    },
    {
     "data": {
      "image/png": "[encoded data removed]",
      "text/plain": [
       "<Figure size 720x360 with 2 Axes>"
      ]
     },
     "metadata": {
      "tags": []
     },
     "output_type": "display_data"
    }
   ],
   "source": [
    "fig = plt.figure(figsize=(10,5))\n",
    "ax = fig.add_subplot(1, 2, 1)\n",
    "ax.plot(history.history['sparse_categorical_accuracy'], label='Train Accuracy');\n",
    "ax.plot(history.history['val_sparse_categorical_accuracy'], label='Validation Accuracy');\n",
    "ax.set_xlabel('Epochs');\n",
    "ax.set_ylabel('Accuracy');\n",
    "ax.legend();\n",
    "ax = fig.add_subplot(1, 2, 2)\n",
    "ax.plot(history.history['loss'], label='train loss');\n",
    "ax.plot(history.history['val_loss'], label='evaluation loss');\n",
    "ax.legend();\n",
    "ax.set_xlabel('Epochs');\n",
    "ax.set_ylabel('Loss');\n",
    "print(np.max(history.history['sparse_categorical_accuracy']),np.max(history.history['val_sparse_categorical_accuracy']))"
   ]
  },
  {
   "cell_type": "code",
   "execution_count": null,
   "metadata": {
    "colab": {
     "base_uri": "https://localhost:8080/",
     "height": 867
    },
    "colab_type": "code",
    "executionInfo": {
     "elapsed": 697,
     "status": "ok",
     "timestamp": 1597850120256,
     "user": {
      "displayName": "edgar andres",
      "photoUrl": "",
      "userId": "01248025822311515718"
     },
     "user_tz": 300
    },
    "id": "uSpMCCcQMfST",
    "outputId": "8e250f66-307c-486c-ff41-1454158c17eb"
   },
   "outputs": [
    {
     "name": "stdout",
     "output_type": "stream",
     "text": [
      "Model: \"functional_23\"\n",
      "_________________________________________________________________\n",
      "Layer (type)                 Output Shape              Param #   \n",
      "=================================================================\n",
      "input_15 (InputLayer)        [(None, 150, 268, 3)]     0         \n",
      "_________________________________________________________________\n",
      "conv2d_51 (Conv2D)           (None, 150, 268, 32)      896       \n",
      "_________________________________________________________________\n",
      "batch_normalization_2 (Batch (None, 150, 268, 32)      128       \n",
      "_________________________________________________________________\n",
      "conv2d_52 (Conv2D)           (None, 150, 268, 32)      9248      \n",
      "_________________________________________________________________\n",
      "batch_normalization_3 (Batch (None, 150, 268, 32)      128       \n",
      "_________________________________________________________________\n",
      "max_pooling2d_19 (MaxPooling (None, 75, 134, 32)       0         \n",
      "_________________________________________________________________\n",
      "dropout_7 (Dropout)          (None, 75, 134, 32)       0         \n",
      "_________________________________________________________________\n",
      "conv2d_53 (Conv2D)           (None, 75, 134, 64)       18496     \n",
      "_________________________________________________________________\n",
      "batch_normalization_4 (Batch (None, 75, 134, 64)       256       \n",
      "_________________________________________________________________\n",
      "conv2d_54 (Conv2D)           (None, 75, 134, 64)       36928     \n",
      "_________________________________________________________________\n",
      "batch_normalization_5 (Batch (None, 75, 134, 64)       256       \n",
      "_________________________________________________________________\n",
      "conv2d_55 (Conv2D)           (None, 75, 134, 128)      73856     \n",
      "_________________________________________________________________\n",
      "batch_normalization_6 (Batch (None, 75, 134, 128)      512       \n",
      "_________________________________________________________________\n",
      "conv2d_56 (Conv2D)           (None, 75, 134, 128)      147584    \n",
      "_________________________________________________________________\n",
      "batch_normalization_7 (Batch (None, 75, 134, 128)      512       \n",
      "_________________________________________________________________\n",
      "max_pooling2d_20 (MaxPooling (None, 37, 67, 128)       0         \n",
      "_________________________________________________________________\n",
      "dropout_8 (Dropout)          (None, 37, 67, 128)       0         \n",
      "_________________________________________________________________\n",
      "flatten_16 (Flatten)         (None, 317312)            0         \n",
      "_________________________________________________________________\n",
      "dense_34 (Dense)             (None, 128)               40616064  \n",
      "_________________________________________________________________\n",
      "dropout_9 (Dropout)          (None, 128)               0         \n",
      "_________________________________________________________________\n",
      "dense_35 (Dense)             (None, 10)                1290      \n",
      "=================================================================\n",
      "Total params: 40,906,154\n",
      "Trainable params: 40,905,258\n",
      "Non-trainable params: 896\n",
      "_________________________________________________________________\n"
     ]
    }
   ],
   "source": [
    "entrada = tf.keras.Input((150,268,3))\n",
    "x = tf.keras.layers.Conv2D(32, (3, 3), activation='relu', kernel_initializer='he_uniform', bias_initializer='he_uniform', padding='same')(entrada)\n",
    "x = tf.keras.layers.BatchNormalization()(x)\n",
    "x = tf.keras.layers.Conv2D(32, (3, 3), activation='relu', kernel_initializer='he_uniform', bias_initializer='he_uniform', padding='same')(x)\n",
    "x = tf.keras.layers.BatchNormalization()(x)\n",
    "x = tf.keras.layers.MaxPooling2D((2, 2))(x)\n",
    "x = tf.keras.layers.Dropout(0.2)(x)\n",
    "x = tf.keras.layers.Conv2D(64, (3, 3), activation='relu', kernel_initializer='he_uniform', bias_initializer='he_uniform', padding='same')(x)\n",
    "x = tf.keras.layers.BatchNormalization()(x)\n",
    "x = tf.keras.layers.Conv2D(64, (3, 3), activation='relu', kernel_initializer='he_uniform', bias_initializer='he_uniform', padding='same')(x)\n",
    "x = tf.keras.layers.BatchNormalization()(x)\n",
    "x = tf.keras.layers.Conv2D(128, (3, 3), activation='relu', kernel_initializer='he_uniform', bias_initializer='he_uniform', padding='same')(x)\n",
    "x = tf.keras.layers.BatchNormalization()(x)\n",
    "x = tf.keras.layers.Conv2D(128, (3, 3), activation='relu', kernel_initializer='he_uniform', bias_initializer='he_uniform', padding='same')(x)\n",
    "x = tf.keras.layers.BatchNormalization()(x)\n",
    "x = tf.keras.layers.MaxPooling2D((2, 2))(x)\n",
    "x = tf.keras.layers.Dropout(0.2)(x)\n",
    "x = tf.keras.layers.Flatten()(x)\n",
    "x = tf.keras.layers.Dense(128, kernel_initializer='glorot_uniform', bias_initializer='he_uniform',  activation='relu')(x)\n",
    "x = tf.keras.layers.Dropout(0.2)(x)\n",
    "x = tf.keras.layers.Dense(10, activation='softmax')(x)\n",
    "model = tf.keras.Model(entrada, x)\n",
    "model.summary()"
   ]
  },
  {
   "cell_type": "code",
   "execution_count": null,
   "metadata": {
    "colab": {},
    "colab_type": "code",
    "id": "fFeST1s0MfKr"
   },
   "outputs": [],
   "source": [
    "model.compile(loss=tf.keras.losses.SparseCategoricalCrossentropy(), \n",
    "              optimizer=tf.keras.optimizers.Adam(learning_rate= 0.0001), \n",
    "              metrics=[tf.keras.metrics.SparseCategoricalAccuracy()])"
   ]
  },
  {
   "cell_type": "code",
   "execution_count": null,
   "metadata": {
    "colab": {
     "base_uri": "https://localhost:8080/",
     "height": 1000
    },
    "colab_type": "code",
    "executionInfo": {
     "elapsed": 70927,
     "status": "ok",
     "timestamp": 1597850236737,
     "user": {
      "displayName": "edgar andres",
      "photoUrl": "",
      "userId": "01248025822311515718"
     },
     "user_tz": 300
    },
    "id": "fJBXuEBnMfIN",
    "outputId": "29226c27-1d99-4b75-e00c-c9671ff4a33a"
   },
   "outputs": [
    {
     "name": "stdout",
     "output_type": "stream",
     "text": [
      "Epoch 1/70\n",
      "1/1 [==============================] - 1s 1s/step - loss: 3.8709 - sparse_categorical_accuracy: 0.1212 - val_loss: 26.0558 - val_sparse_categorical_accuracy: 0.3864\n",
      "Epoch 2/70\n",
      "1/1 [==============================] - 1s 728ms/step - loss: 10.3509 - sparse_categorical_accuracy: 0.3182 - val_loss: 37.5858 - val_sparse_categorical_accuracy: 0.3182\n",
      "Epoch 3/70\n",
      "1/1 [==============================] - 1s 726ms/step - loss: 18.0834 - sparse_categorical_accuracy: 0.3939 - val_loss: 41.5177 - val_sparse_categorical_accuracy: 0.2727\n",
      "Epoch 4/70\n",
      "1/1 [==============================] - 1s 723ms/step - loss: 18.0987 - sparse_categorical_accuracy: 0.4545 - val_loss: 26.4593 - val_sparse_categorical_accuracy: 0.3636\n",
      "Epoch 5/70\n",
      "1/1 [==============================] - 1s 737ms/step - loss: 12.4662 - sparse_categorical_accuracy: 0.4697 - val_loss: 14.1801 - val_sparse_categorical_accuracy: 0.4773\n",
      "Epoch 6/70\n",
      "1/1 [==============================] - 1s 727ms/step - loss: 3.7800 - sparse_categorical_accuracy: 0.6970 - val_loss: 20.9816 - val_sparse_categorical_accuracy: 0.5227\n",
      "Epoch 7/70\n",
      "1/1 [==============================] - 1s 726ms/step - loss: 1.4210 - sparse_categorical_accuracy: 0.8485 - val_loss: 31.9465 - val_sparse_categorical_accuracy: 0.4545\n",
      "Epoch 8/70\n",
      "1/1 [==============================] - 1s 727ms/step - loss: 2.9847 - sparse_categorical_accuracy: 0.7273 - val_loss: 37.6427 - val_sparse_categorical_accuracy: 0.4091\n",
      "Epoch 9/70\n",
      "1/1 [==============================] - 1s 725ms/step - loss: 4.6460 - sparse_categorical_accuracy: 0.6667 - val_loss: 37.5596 - val_sparse_categorical_accuracy: 0.3864\n",
      "Epoch 10/70\n",
      "1/1 [==============================] - 1s 732ms/step - loss: 3.6061 - sparse_categorical_accuracy: 0.7121 - val_loss: 33.9854 - val_sparse_categorical_accuracy: 0.3864\n",
      "Epoch 11/70\n",
      "1/1 [==============================] - 1s 718ms/step - loss: 1.3786 - sparse_categorical_accuracy: 0.8333 - val_loss: 29.7212 - val_sparse_categorical_accuracy: 0.3864\n",
      "Epoch 12/70\n",
      "1/1 [==============================] - 1s 720ms/step - loss: 0.5934 - sparse_categorical_accuracy: 0.9242 - val_loss: 26.5047 - val_sparse_categorical_accuracy: 0.4091\n",
      "Epoch 13/70\n",
      "1/1 [==============================] - 1s 728ms/step - loss: 0.8873 - sparse_categorical_accuracy: 0.8636 - val_loss: 24.4604 - val_sparse_categorical_accuracy: 0.4545\n",
      "Epoch 14/70\n",
      "1/1 [==============================] - 1s 728ms/step - loss: 0.3491 - sparse_categorical_accuracy: 0.9545 - val_loss: 23.1111 - val_sparse_categorical_accuracy: 0.5227\n",
      "Epoch 15/70\n",
      "1/1 [==============================] - 1s 729ms/step - loss: 0.3612 - sparse_categorical_accuracy: 0.9394 - val_loss: 21.9219 - val_sparse_categorical_accuracy: 0.5227\n",
      "Epoch 16/70\n",
      "1/1 [==============================] - 1s 730ms/step - loss: 0.5661 - sparse_categorical_accuracy: 0.9545 - val_loss: 20.8131 - val_sparse_categorical_accuracy: 0.5455\n",
      "Epoch 17/70\n",
      "1/1 [==============================] - 1s 728ms/step - loss: 0.3325 - sparse_categorical_accuracy: 0.9697 - val_loss: 20.0187 - val_sparse_categorical_accuracy: 0.5000\n",
      "Epoch 18/70\n",
      "1/1 [==============================] - 1s 729ms/step - loss: 0.7063 - sparse_categorical_accuracy: 0.9394 - val_loss: 19.5826 - val_sparse_categorical_accuracy: 0.5000\n",
      "Epoch 19/70\n",
      "1/1 [==============================] - 1s 724ms/step - loss: 0.5765 - sparse_categorical_accuracy: 0.9545 - val_loss: 19.0378 - val_sparse_categorical_accuracy: 0.5227\n",
      "Epoch 20/70\n",
      "1/1 [==============================] - 1s 719ms/step - loss: 0.8769 - sparse_categorical_accuracy: 0.9545 - val_loss: 18.5817 - val_sparse_categorical_accuracy: 0.5227\n",
      "Epoch 21/70\n",
      "1/1 [==============================] - 1s 715ms/step - loss: 0.3722 - sparse_categorical_accuracy: 0.9545 - val_loss: 18.1280 - val_sparse_categorical_accuracy: 0.5227\n",
      "Epoch 22/70\n",
      "1/1 [==============================] - 1s 722ms/step - loss: 0.4169 - sparse_categorical_accuracy: 0.9545 - val_loss: 17.5167 - val_sparse_categorical_accuracy: 0.5227\n",
      "Epoch 23/70\n",
      "1/1 [==============================] - 1s 733ms/step - loss: 0.3340 - sparse_categorical_accuracy: 0.9697 - val_loss: 16.9525 - val_sparse_categorical_accuracy: 0.5227\n",
      "Epoch 24/70\n",
      "1/1 [==============================] - 1s 722ms/step - loss: 0.2627 - sparse_categorical_accuracy: 0.9394 - val_loss: 16.3317 - val_sparse_categorical_accuracy: 0.5000\n",
      "Epoch 25/70\n",
      "1/1 [==============================] - 1s 727ms/step - loss: 0.1050 - sparse_categorical_accuracy: 0.9697 - val_loss: 15.7326 - val_sparse_categorical_accuracy: 0.5000\n",
      "Epoch 26/70\n",
      "1/1 [==============================] - 1s 725ms/step - loss: 0.1278 - sparse_categorical_accuracy: 0.9697 - val_loss: 15.1581 - val_sparse_categorical_accuracy: 0.5000\n",
      "Epoch 27/70\n",
      "1/1 [==============================] - 1s 724ms/step - loss: 0.0879 - sparse_categorical_accuracy: 0.9848 - val_loss: 14.4990 - val_sparse_categorical_accuracy: 0.5000\n",
      "Epoch 28/70\n",
      "1/1 [==============================] - 1s 729ms/step - loss: 0.0012 - sparse_categorical_accuracy: 1.0000 - val_loss: 13.8926 - val_sparse_categorical_accuracy: 0.5000\n",
      "Epoch 29/70\n",
      "1/1 [==============================] - 1s 724ms/step - loss: 0.0121 - sparse_categorical_accuracy: 0.9848 - val_loss: 13.3358 - val_sparse_categorical_accuracy: 0.5000\n",
      "Epoch 30/70\n",
      "1/1 [==============================] - 1s 722ms/step - loss: 1.1583e-05 - sparse_categorical_accuracy: 1.0000 - val_loss: 12.8104 - val_sparse_categorical_accuracy: 0.5000\n",
      "Epoch 31/70\n",
      "1/1 [==============================] - 1s 720ms/step - loss: 8.4452e-06 - sparse_categorical_accuracy: 1.0000 - val_loss: 12.3164 - val_sparse_categorical_accuracy: 0.5000\n",
      "Epoch 32/70\n",
      "1/1 [==============================] - 1s 728ms/step - loss: 0.0196 - sparse_categorical_accuracy: 0.9848 - val_loss: 11.8696 - val_sparse_categorical_accuracy: 0.5000\n",
      "Epoch 33/70\n",
      "1/1 [==============================] - 1s 726ms/step - loss: 8.0532e-04 - sparse_categorical_accuracy: 1.0000 - val_loss: 11.4470 - val_sparse_categorical_accuracy: 0.5000\n",
      "Epoch 34/70\n",
      "1/1 [==============================] - 1s 733ms/step - loss: 0.0010 - sparse_categorical_accuracy: 1.0000 - val_loss: 11.0464 - val_sparse_categorical_accuracy: 0.5000\n",
      "Epoch 35/70\n",
      "1/1 [==============================] - 1s 726ms/step - loss: 0.0532 - sparse_categorical_accuracy: 0.9848 - val_loss: 10.6300 - val_sparse_categorical_accuracy: 0.5227\n",
      "Epoch 36/70\n",
      "1/1 [==============================] - 1s 723ms/step - loss: 1.2835e-05 - sparse_categorical_accuracy: 1.0000 - val_loss: 10.2512 - val_sparse_categorical_accuracy: 0.5227\n",
      "Epoch 37/70\n",
      "1/1 [==============================] - 1s 721ms/step - loss: 6.1280e-06 - sparse_categorical_accuracy: 1.0000 - val_loss: 9.8962 - val_sparse_categorical_accuracy: 0.5227\n",
      "Epoch 38/70\n",
      "1/1 [==============================] - 1s 726ms/step - loss: 0.0018 - sparse_categorical_accuracy: 1.0000 - val_loss: 9.5705 - val_sparse_categorical_accuracy: 0.5227\n",
      "Epoch 39/70\n",
      "1/1 [==============================] - 1s 725ms/step - loss: 0.0042 - sparse_categorical_accuracy: 1.0000 - val_loss: 9.2724 - val_sparse_categorical_accuracy: 0.5227\n",
      "Epoch 40/70\n",
      "1/1 [==============================] - 1s 730ms/step - loss: 0.0365 - sparse_categorical_accuracy: 0.9848 - val_loss: 8.9267 - val_sparse_categorical_accuracy: 0.5000\n",
      "Epoch 41/70\n",
      "1/1 [==============================] - 1s 720ms/step - loss: 0.2446 - sparse_categorical_accuracy: 0.9545 - val_loss: 8.7291 - val_sparse_categorical_accuracy: 0.5000\n",
      "Epoch 42/70\n",
      "1/1 [==============================] - 1s 725ms/step - loss: 0.1868 - sparse_categorical_accuracy: 0.9848 - val_loss: 8.5720 - val_sparse_categorical_accuracy: 0.5000\n",
      "Epoch 43/70\n",
      "1/1 [==============================] - 1s 723ms/step - loss: 7.7124e-07 - sparse_categorical_accuracy: 1.0000 - val_loss: 8.4035 - val_sparse_categorical_accuracy: 0.5000\n",
      "Epoch 44/70\n",
      "1/1 [==============================] - 1s 729ms/step - loss: 2.4795e-05 - sparse_categorical_accuracy: 1.0000 - val_loss: 8.2276 - val_sparse_categorical_accuracy: 0.5000\n",
      "Epoch 45/70\n",
      "1/1 [==============================] - 1s 723ms/step - loss: 8.7112e-05 - sparse_categorical_accuracy: 1.0000 - val_loss: 8.0356 - val_sparse_categorical_accuracy: 0.5000\n",
      "Epoch 46/70\n",
      "1/1 [==============================] - 1s 726ms/step - loss: 1.6289e-04 - sparse_categorical_accuracy: 1.0000 - val_loss: 7.8396 - val_sparse_categorical_accuracy: 0.5227\n",
      "Epoch 47/70\n",
      "1/1 [==============================] - 1s 725ms/step - loss: 0.0062 - sparse_categorical_accuracy: 1.0000 - val_loss: 7.6571 - val_sparse_categorical_accuracy: 0.5227\n",
      "Epoch 48/70\n",
      "1/1 [==============================] - 1s 725ms/step - loss: 3.4660e-06 - sparse_categorical_accuracy: 1.0000 - val_loss: 7.4795 - val_sparse_categorical_accuracy: 0.5227\n",
      "Epoch 49/70\n",
      "1/1 [==============================] - 1s 732ms/step - loss: 0.0078 - sparse_categorical_accuracy: 1.0000 - val_loss: 7.2992 - val_sparse_categorical_accuracy: 0.5227\n",
      "Epoch 50/70\n",
      "1/1 [==============================] - 1s 732ms/step - loss: 1.3240e-04 - sparse_categorical_accuracy: 1.0000 - val_loss: 7.1119 - val_sparse_categorical_accuracy: 0.5455\n",
      "Epoch 51/70\n",
      "1/1 [==============================] - 1s 724ms/step - loss: 0.0039 - sparse_categorical_accuracy: 1.0000 - val_loss: 6.9228 - val_sparse_categorical_accuracy: 0.5455\n",
      "Epoch 52/70\n",
      "1/1 [==============================] - 1s 719ms/step - loss: 1.1505e-06 - sparse_categorical_accuracy: 1.0000 - val_loss: 6.7377 - val_sparse_categorical_accuracy: 0.5455\n",
      "Epoch 53/70\n",
      "1/1 [==============================] - 1s 726ms/step - loss: 6.0611e-04 - sparse_categorical_accuracy: 1.0000 - val_loss: 6.5559 - val_sparse_categorical_accuracy: 0.5455\n",
      "Epoch 54/70\n",
      "1/1 [==============================] - 1s 726ms/step - loss: 1.9326e-07 - sparse_categorical_accuracy: 1.0000 - val_loss: 6.3773 - val_sparse_categorical_accuracy: 0.5227\n",
      "Epoch 55/70\n",
      "1/1 [==============================] - 1s 723ms/step - loss: 1.2875e-04 - sparse_categorical_accuracy: 1.0000 - val_loss: 6.2011 - val_sparse_categorical_accuracy: 0.5227\n",
      "Epoch 56/70\n",
      "1/1 [==============================] - 1s 721ms/step - loss: 3.1300e-06 - sparse_categorical_accuracy: 1.0000 - val_loss: 6.0297 - val_sparse_categorical_accuracy: 0.5227\n",
      "Epoch 57/70\n",
      "1/1 [==============================] - 1s 723ms/step - loss: 0.0123 - sparse_categorical_accuracy: 0.9848 - val_loss: 5.8425 - val_sparse_categorical_accuracy: 0.5227\n",
      "Epoch 58/70\n",
      "1/1 [==============================] - 1s 722ms/step - loss: 0.0012 - sparse_categorical_accuracy: 1.0000 - val_loss: 5.6627 - val_sparse_categorical_accuracy: 0.5000\n",
      "Epoch 59/70\n",
      "1/1 [==============================] - 1s 726ms/step - loss: 0.1288 - sparse_categorical_accuracy: 0.9848 - val_loss: 5.4295 - val_sparse_categorical_accuracy: 0.4773\n",
      "Epoch 60/70\n",
      "1/1 [==============================] - 1s 728ms/step - loss: 0.0671 - sparse_categorical_accuracy: 0.9848 - val_loss: 5.2255 - val_sparse_categorical_accuracy: 0.4773\n",
      "Epoch 61/70\n",
      "1/1 [==============================] - 1s 717ms/step - loss: 1.3293e-06 - sparse_categorical_accuracy: 1.0000 - val_loss: 5.0363 - val_sparse_categorical_accuracy: 0.4773\n",
      "Epoch 62/70\n",
      "1/1 [==============================] - 1s 722ms/step - loss: 6.3808e-05 - sparse_categorical_accuracy: 1.0000 - val_loss: 4.8599 - val_sparse_categorical_accuracy: 0.4773\n",
      "Epoch 63/70\n",
      "1/1 [==============================] - 1s 725ms/step - loss: 0.0035 - sparse_categorical_accuracy: 1.0000 - val_loss: 4.6902 - val_sparse_categorical_accuracy: 0.4773\n",
      "Epoch 64/70\n",
      "1/1 [==============================] - 1s 723ms/step - loss: 8.0911e-06 - sparse_categorical_accuracy: 1.0000 - val_loss: 4.5322 - val_sparse_categorical_accuracy: 0.4773\n",
      "Epoch 65/70\n",
      "1/1 [==============================] - 1s 738ms/step - loss: 6.9747e-05 - sparse_categorical_accuracy: 1.0000 - val_loss: 4.3848 - val_sparse_categorical_accuracy: 0.5000\n",
      "Epoch 66/70\n",
      "1/1 [==============================] - 1s 726ms/step - loss: 3.1600e-05 - sparse_categorical_accuracy: 1.0000 - val_loss: 4.2500 - val_sparse_categorical_accuracy: 0.5455\n",
      "Epoch 67/70\n",
      "1/1 [==============================] - 1s 724ms/step - loss: 1.9055e-06 - sparse_categorical_accuracy: 1.0000 - val_loss: 4.1270 - val_sparse_categorical_accuracy: 0.5455\n",
      "Epoch 68/70\n",
      "1/1 [==============================] - 1s 721ms/step - loss: 2.5539e-06 - sparse_categorical_accuracy: 1.0000 - val_loss: 4.0162 - val_sparse_categorical_accuracy: 0.5455\n",
      "Epoch 69/70\n",
      "1/1 [==============================] - 1s 726ms/step - loss: 3.1924e-05 - sparse_categorical_accuracy: 1.0000 - val_loss: 3.9163 - val_sparse_categorical_accuracy: 0.5227\n",
      "Epoch 70/70\n",
      "1/1 [==============================] - 1s 723ms/step - loss: 6.6287e-07 - sparse_categorical_accuracy: 1.0000 - val_loss: 3.8249 - val_sparse_categorical_accuracy: 0.5455\n"
     ]
    }
   ],
   "source": [
    "nepochs = 70\n",
    "tam_lote = 128\n",
    "history = model.fit(X_train, y_train, epochs = nepochs, batch_size = tam_lote, verbose=1 , validation_data=(X_test, y_test))"
   ]
  },
  {
   "cell_type": "code",
   "execution_count": null,
   "metadata": {
    "colab": {
     "base_uri": "https://localhost:8080/",
     "height": 356
    },
    "colab_type": "code",
    "executionInfo": {
     "elapsed": 1365,
     "status": "ok",
     "timestamp": 1597850267481,
     "user": {
      "displayName": "edgar andres",
      "photoUrl": "",
      "userId": "01248025822311515718"
     },
     "user_tz": 300
    },
    "id": "YBzGpePDMfCD",
    "outputId": "60cd17e1-02cf-435a-9877-c2d49e917e3a"
   },
   "outputs": [
    {
     "name": "stdout",
     "output_type": "stream",
     "text": [
      "1.0 0.5454545617103577\n"
     ]
    },
    {
     "data": {
      "image/png": "[encoded data removed]",
      "text/plain": [
       "<Figure size 720x360 with 2 Axes>"
      ]
     },
     "metadata": {
      "tags": []
     },
     "output_type": "display_data"
    }
   ],
   "source": [
    "fig = plt.figure(figsize=(10,5))\n",
    "ax = fig.add_subplot(1, 2, 1)\n",
    "ax.plot(history.history['sparse_categorical_accuracy'], label='Train Accuracy');\n",
    "ax.plot(history.history['val_sparse_categorical_accuracy'], label='Validation Accuracy');\n",
    "ax.set_xlabel('Epochs');\n",
    "ax.set_ylabel('Accuracy');\n",
    "ax.legend();\n",
    "ax = fig.add_subplot(1, 2, 2)\n",
    "ax.plot(history.history['loss'], label='train loss');\n",
    "ax.plot(history.history['val_loss'], label='evaluation loss');\n",
    "ax.legend();\n",
    "ax.set_xlabel('Epochs');\n",
    "ax.set_ylabel('Loss');\n",
    "print(np.max(history.history['sparse_categorical_accuracy']),np.max(history.history['val_sparse_categorical_accuracy']))"
   ]
  },
  {
   "cell_type": "code",
   "execution_count": null,
   "metadata": {
    "colab": {},
    "colab_type": "code",
    "id": "LISxRZdDMe-G"
   },
   "outputs": [],
   "source": []
  },
  {
   "cell_type": "code",
   "execution_count": null,
   "metadata": {
    "colab": {},
    "colab_type": "code",
    "id": "Xkd7D9EtMe55"
   },
   "outputs": [],
   "source": []
  },
  {
   "cell_type": "code",
   "execution_count": null,
   "metadata": {
    "colab": {
     "base_uri": "https://localhost:8080/",
     "height": 85
    },
    "colab_type": "code",
    "executionInfo": {
     "elapsed": 1387,
     "status": "ok",
     "timestamp": 1593186928871,
     "user": {
      "displayName": "edgar andres",
      "photoUrl": "",
      "userId": "01248025822311515718"
     },
     "user_tz": 300
    },
    "id": "ZK3gQhsLOdZI",
    "outputId": "bb1feef8-846e-46ee-cb4b-eaa72e5286c5"
   },
   "outputs": [
    {
     "data": {
      "text/plain": [
       "array([[14,  0,  0,  0],\n",
       "       [ 1,  8,  0,  1],\n",
       "       [ 1,  2, 10,  0],\n",
       "       [ 0,  0,  2,  5]])"
      ]
     },
     "execution_count": 31,
     "metadata": {
      "tags": []
     },
     "output_type": "execute_result"
    }
   ],
   "source": [
    "from sklearn.metrics import confusion_matrix\n",
    "confusion_matrix(y_test, y_predict)"
   ]
  },
  {
   "cell_type": "code",
   "execution_count": null,
   "metadata": {
    "colab": {
     "base_uri": "https://localhost:8080/",
     "height": 285
    },
    "colab_type": "code",
    "executionInfo": {
     "elapsed": 1468,
     "status": "ok",
     "timestamp": 1593187778369,
     "user": {
      "displayName": "edgar andres",
      "photoUrl": "",
      "userId": "01248025822311515718"
     },
     "user_tz": 300
    },
    "id": "FaKozfPjYIpF",
    "outputId": "45f59612-4a97-458f-ab29-864e29f493bf"
   },
   "outputs": [
    {
     "data": {
      "image/png": "[encoded data removed]",
      "text/plain": [
       "<Figure size 432x288 with 1 Axes>"
      ]
     },
     "metadata": {
      "needs_background": "light",
      "tags": []
     },
     "output_type": "display_data"
    }
   ],
   "source": [
    "plt.plot(history.history['sparse_categorical_accuracy'], label='Precisión de entrena.')\n",
    "plt.plot(history.history['val_sparse_categorical_accuracy'], label='Precisión de valida.')\n",
    "plt.xlabel('Iteraciones')\n",
    "plt.ylabel('Precisión')\n",
    "plt.legend() \n",
    "plt.savefig('presicion-modelo.jpg')"
   ]
  },
  {
   "cell_type": "code",
   "execution_count": null,
   "metadata": {
    "colab": {},
    "colab_type": "code",
    "id": "w2OPb2E0H9wU"
   },
   "outputs": [],
   "source": []
  },
  {
   "cell_type": "code",
   "execution_count": null,
   "metadata": {
    "colab": {},
    "colab_type": "code",
    "id": "Iv1RmfWrsemO"
   },
   "outputs": [],
   "source": [
    "#Guardamos el modelo\n",
    "import h5py\n",
    "model.save('LENET.h5')"
   ]
  },
  {
   "cell_type": "code",
   "execution_count": null,
   "metadata": {
    "colab": {
     "base_uri": "https://localhost:8080/",
     "height": 411
    },
    "colab_type": "code",
    "executionInfo": {
     "elapsed": 6116,
     "status": "ok",
     "timestamp": 1584587222928,
     "user": {
      "displayName": "edgar andres",
      "photoUrl": "",
      "userId": "01248025822311515718"
     },
     "user_tz": 300
    },
    "id": "Ra0nFSw4wf3h",
    "outputId": "83e3b27a-9a03-46c4-d7fe-30be92c3f5f3"
   },
   "outputs": [
    {
     "name": "stdout",
     "output_type": "stream",
     "text": [
      "Reading package lists... Done\n",
      "Building dependency tree       \n",
      "Reading state information... Done\n",
      "The following NEW packages will be installed:\n",
      "  libhdf5-serial-dev\n",
      "0 upgraded, 1 newly installed, 0 to remove and 25 not upgraded.\n",
      "Need to get 2,898 B of archives.\n",
      "After this operation, 37.9 kB of additional disk space will be used.\n",
      "Get:1 http://archive.ubuntu.com/ubuntu bionic/universe amd64 libhdf5-serial-dev all 1.10.0-patch1+docs-4 [2,898 B]\n",
      "Fetched 2,898 B in 0s (7,520 B/s)\n",
      "debconf: unable to initialize frontend: Dialog\n",
      "debconf: (No usable dialog-like program is installed, so the dialog based frontend cannot be used. at /usr/share/perl5/Debconf/FrontEnd/Dialog.pm line 76, <> line 1.)\n",
      "debconf: falling back to frontend: Readline\n",
      "debconf: unable to initialize frontend: Readline\n",
      "debconf: (This frontend requires a controlling tty.)\n",
      "debconf: falling back to frontend: Teletype\n",
      "dpkg-preconfigure: unable to re-open stdin: \n",
      "Selecting previously unselected package libhdf5-serial-dev.\n",
      "(Reading database ... 145118 files and directories currently installed.)\n",
      "Preparing to unpack .../libhdf5-serial-dev_1.10.0-patch1+docs-4_all.deb ...\n",
      "Unpacking libhdf5-serial-dev (1.10.0-patch1+docs-4) ...\n",
      "Setting up libhdf5-serial-dev (1.10.0-patch1+docs-4) ...\n"
     ]
    }
   ],
   "source": [
    "!sudo apt-get install libhdf5-serial-dev"
   ]
  },
  {
   "cell_type": "code",
   "execution_count": null,
   "metadata": {
    "colab": {
     "base_uri": "https://localhost:8080/",
     "height": 323
    },
    "colab_type": "code",
    "executionInfo": {
     "elapsed": 547,
     "status": "error",
     "timestamp": 1584587308700,
     "user": {
      "displayName": "edgar andres",
      "photoUrl": "",
      "userId": "01248025822311515718"
     },
     "user_tz": 300
    },
    "id": "j6juR5KEtI1v",
    "outputId": "778a8a30-7322-4e56-a1bc-7e8a8e5c502e"
   },
   "outputs": [
    {
     "ename": "TypeError",
     "evalue": "ignored",
     "output_type": "error",
     "traceback": [
      "\u001b[0;31m---------------------------------------------------------------------------\u001b[0m",
      "\u001b[0;31mTypeError\u001b[0m                                 Traceback (most recent call last)",
      "\u001b[0;32m<ipython-input-76-138ecfb98370>\u001b[0m in \u001b[0;36m<module>\u001b[0;34m()\u001b[0m\n\u001b[1;32m      1\u001b[0m \u001b[0;32mfrom\u001b[0m \u001b[0mkeras\u001b[0m\u001b[0;34m.\u001b[0m\u001b[0mmodels\u001b[0m \u001b[0;32mimport\u001b[0m \u001b[0mload_model\u001b[0m\u001b[0;34m\u001b[0m\u001b[0;34m\u001b[0m\u001b[0m\n\u001b[0;32m----> 2\u001b[0;31m \u001b[0mnew_model\u001b[0m \u001b[0;34m=\u001b[0m \u001b[0mload_model\u001b[0m\u001b[0;34m(\u001b[0m\u001b[0;34m'LENET.h5'\u001b[0m\u001b[0;34m)\u001b[0m\u001b[0;34m\u001b[0m\u001b[0;34m\u001b[0m\u001b[0m\n\u001b[0m",
      "\u001b[0;32m/usr/local/lib/python3.6/dist-packages/keras/engine/saving.py\u001b[0m in \u001b[0;36mload_wrapper\u001b[0;34m(*args, **kwargs)\u001b[0m\n\u001b[1;32m    456\u001b[0m                 \u001b[0mos\u001b[0m\u001b[0;34m.\u001b[0m\u001b[0mremove\u001b[0m\u001b[0;34m(\u001b[0m\u001b[0mtmp_filepath\u001b[0m\u001b[0;34m)\u001b[0m\u001b[0;34m\u001b[0m\u001b[0;34m\u001b[0m\u001b[0m\n\u001b[1;32m    457\u001b[0m             \u001b[0;32mreturn\u001b[0m \u001b[0mres\u001b[0m\u001b[0;34m\u001b[0m\u001b[0;34m\u001b[0m\u001b[0m\n\u001b[0;32m--> 458\u001b[0;31m         \u001b[0;32mreturn\u001b[0m \u001b[0mload_function\u001b[0m\u001b[0;34m(\u001b[0m\u001b[0;34m*\u001b[0m\u001b[0margs\u001b[0m\u001b[0;34m,\u001b[0m \u001b[0;34m**\u001b[0m\u001b[0mkwargs\u001b[0m\u001b[0;34m)\u001b[0m\u001b[0;34m\u001b[0m\u001b[0;34m\u001b[0m\u001b[0m\n\u001b[0m\u001b[1;32m    459\u001b[0m \u001b[0;34m\u001b[0m\u001b[0m\n\u001b[1;32m    460\u001b[0m     \u001b[0;32mreturn\u001b[0m \u001b[0mload_wrapper\u001b[0m\u001b[0;34m\u001b[0m\u001b[0;34m\u001b[0m\u001b[0m\n",
      "\u001b[0;32m/usr/local/lib/python3.6/dist-packages/keras/engine/saving.py\u001b[0m in \u001b[0;36mload_model\u001b[0;34m(filepath, custom_objects, compile)\u001b[0m\n\u001b[1;32m    548\u001b[0m     \u001b[0;32mif\u001b[0m \u001b[0mH5Dict\u001b[0m\u001b[0;34m.\u001b[0m\u001b[0mis_supported_type\u001b[0m\u001b[0;34m(\u001b[0m\u001b[0mfilepath\u001b[0m\u001b[0;34m)\u001b[0m\u001b[0;34m:\u001b[0m\u001b[0;34m\u001b[0m\u001b[0;34m\u001b[0m\u001b[0m\n\u001b[1;32m    549\u001b[0m         \u001b[0;32mwith\u001b[0m \u001b[0mH5Dict\u001b[0m\u001b[0;34m(\u001b[0m\u001b[0mfilepath\u001b[0m\u001b[0;34m,\u001b[0m \u001b[0mmode\u001b[0m\u001b[0;34m=\u001b[0m\u001b[0;34m'r'\u001b[0m\u001b[0;34m)\u001b[0m \u001b[0;32mas\u001b[0m \u001b[0mh5dict\u001b[0m\u001b[0;34m:\u001b[0m\u001b[0;34m\u001b[0m\u001b[0;34m\u001b[0m\u001b[0m\n\u001b[0;32m--> 550\u001b[0;31m             \u001b[0mmodel\u001b[0m \u001b[0;34m=\u001b[0m \u001b[0m_deserialize_model\u001b[0m\u001b[0;34m(\u001b[0m\u001b[0mh5dict\u001b[0m\u001b[0;34m,\u001b[0m \u001b[0mcustom_objects\u001b[0m\u001b[0;34m,\u001b[0m \u001b[0mcompile\u001b[0m\u001b[0;34m)\u001b[0m\u001b[0;34m\u001b[0m\u001b[0;34m\u001b[0m\u001b[0m\n\u001b[0m\u001b[1;32m    551\u001b[0m     \u001b[0;32melif\u001b[0m \u001b[0mhasattr\u001b[0m\u001b[0;34m(\u001b[0m\u001b[0mfilepath\u001b[0m\u001b[0;34m,\u001b[0m \u001b[0;34m'write'\u001b[0m\u001b[0;34m)\u001b[0m \u001b[0;32mand\u001b[0m \u001b[0mcallable\u001b[0m\u001b[0;34m(\u001b[0m\u001b[0mfilepath\u001b[0m\u001b[0;34m.\u001b[0m\u001b[0mwrite\u001b[0m\u001b[0;34m)\u001b[0m\u001b[0;34m:\u001b[0m\u001b[0;34m\u001b[0m\u001b[0;34m\u001b[0m\u001b[0m\n\u001b[1;32m    552\u001b[0m         \u001b[0;32mdef\u001b[0m \u001b[0mload_function\u001b[0m\u001b[0;34m(\u001b[0m\u001b[0mh5file\u001b[0m\u001b[0;34m)\u001b[0m\u001b[0;34m:\u001b[0m\u001b[0;34m\u001b[0m\u001b[0;34m\u001b[0m\u001b[0m\n",
      "\u001b[0;32m/usr/local/lib/python3.6/dist-packages/keras/engine/saving.py\u001b[0m in \u001b[0;36m_deserialize_model\u001b[0;34m(h5dict, custom_objects, compile)\u001b[0m\n\u001b[1;32m    241\u001b[0m         \u001b[0;32mraise\u001b[0m \u001b[0mValueError\u001b[0m\u001b[0;34m(\u001b[0m\u001b[0;34m'No model found in config.'\u001b[0m\u001b[0;34m)\u001b[0m\u001b[0;34m\u001b[0m\u001b[0;34m\u001b[0m\u001b[0m\n\u001b[1;32m    242\u001b[0m     \u001b[0mmodel_config\u001b[0m \u001b[0;34m=\u001b[0m \u001b[0mjson\u001b[0m\u001b[0;34m.\u001b[0m\u001b[0mloads\u001b[0m\u001b[0;34m(\u001b[0m\u001b[0mmodel_config\u001b[0m\u001b[0;34m.\u001b[0m\u001b[0mdecode\u001b[0m\u001b[0;34m(\u001b[0m\u001b[0;34m'utf-8'\u001b[0m\u001b[0;34m)\u001b[0m\u001b[0;34m)\u001b[0m\u001b[0;34m\u001b[0m\u001b[0;34m\u001b[0m\u001b[0m\n\u001b[0;32m--> 243\u001b[0;31m     \u001b[0mmodel\u001b[0m \u001b[0;34m=\u001b[0m \u001b[0mmodel_from_config\u001b[0m\u001b[0;34m(\u001b[0m\u001b[0mmodel_config\u001b[0m\u001b[0;34m,\u001b[0m \u001b[0mcustom_objects\u001b[0m\u001b[0;34m=\u001b[0m\u001b[0mcustom_objects\u001b[0m\u001b[0;34m)\u001b[0m\u001b[0;34m\u001b[0m\u001b[0;34m\u001b[0m\u001b[0m\n\u001b[0m\u001b[1;32m    244\u001b[0m     \u001b[0mmodel_weights_group\u001b[0m \u001b[0;34m=\u001b[0m \u001b[0mh5dict\u001b[0m\u001b[0;34m[\u001b[0m\u001b[0;34m'model_weights'\u001b[0m\u001b[0;34m]\u001b[0m\u001b[0;34m\u001b[0m\u001b[0;34m\u001b[0m\u001b[0m\n\u001b[1;32m    245\u001b[0m \u001b[0;34m\u001b[0m\u001b[0m\n",
      "\u001b[0;32m/usr/local/lib/python3.6/dist-packages/keras/engine/saving.py\u001b[0m in \u001b[0;36mmodel_from_config\u001b[0;34m(config, custom_objects)\u001b[0m\n\u001b[1;32m    591\u001b[0m                         '`Sequential.from_config(config)`?')\n\u001b[1;32m    592\u001b[0m     \u001b[0;32mfrom\u001b[0m \u001b[0;34m.\u001b[0m\u001b[0;34m.\u001b[0m\u001b[0mlayers\u001b[0m \u001b[0;32mimport\u001b[0m \u001b[0mdeserialize\u001b[0m\u001b[0;34m\u001b[0m\u001b[0;34m\u001b[0m\u001b[0m\n\u001b[0;32m--> 593\u001b[0;31m     \u001b[0;32mreturn\u001b[0m \u001b[0mdeserialize\u001b[0m\u001b[0;34m(\u001b[0m\u001b[0mconfig\u001b[0m\u001b[0;34m,\u001b[0m \u001b[0mcustom_objects\u001b[0m\u001b[0;34m=\u001b[0m\u001b[0mcustom_objects\u001b[0m\u001b[0;34m)\u001b[0m\u001b[0;34m\u001b[0m\u001b[0;34m\u001b[0m\u001b[0m\n\u001b[0m\u001b[1;32m    594\u001b[0m \u001b[0;34m\u001b[0m\u001b[0m\n\u001b[1;32m    595\u001b[0m \u001b[0;34m\u001b[0m\u001b[0m\n",
      "\u001b[0;32m/usr/local/lib/python3.6/dist-packages/keras/layers/__init__.py\u001b[0m in \u001b[0;36mdeserialize\u001b[0;34m(config, custom_objects)\u001b[0m\n\u001b[1;32m    166\u001b[0m                                     \u001b[0mmodule_objects\u001b[0m\u001b[0;34m=\u001b[0m\u001b[0mglobs\u001b[0m\u001b[0;34m,\u001b[0m\u001b[0;34m\u001b[0m\u001b[0;34m\u001b[0m\u001b[0m\n\u001b[1;32m    167\u001b[0m                                     \u001b[0mcustom_objects\u001b[0m\u001b[0;34m=\u001b[0m\u001b[0mcustom_objects\u001b[0m\u001b[0;34m,\u001b[0m\u001b[0;34m\u001b[0m\u001b[0;34m\u001b[0m\u001b[0m\n\u001b[0;32m--> 168\u001b[0;31m                                     printable_module_name='layer')\n\u001b[0m",
      "\u001b[0;32m/usr/local/lib/python3.6/dist-packages/keras/utils/generic_utils.py\u001b[0m in \u001b[0;36mdeserialize_keras_object\u001b[0;34m(identifier, module_objects, custom_objects, printable_module_name)\u001b[0m\n\u001b[1;32m    145\u001b[0m                     \u001b[0mconfig\u001b[0m\u001b[0;34m[\u001b[0m\u001b[0;34m'config'\u001b[0m\u001b[0;34m]\u001b[0m\u001b[0;34m,\u001b[0m\u001b[0;34m\u001b[0m\u001b[0;34m\u001b[0m\u001b[0m\n\u001b[1;32m    146\u001b[0m                     custom_objects=dict(list(_GLOBAL_CUSTOM_OBJECTS.items()) +\n\u001b[0;32m--> 147\u001b[0;31m                                         list(custom_objects.items())))\n\u001b[0m\u001b[1;32m    148\u001b[0m             \u001b[0;32mwith\u001b[0m \u001b[0mCustomObjectScope\u001b[0m\u001b[0;34m(\u001b[0m\u001b[0mcustom_objects\u001b[0m\u001b[0;34m)\u001b[0m\u001b[0;34m:\u001b[0m\u001b[0;34m\u001b[0m\u001b[0;34m\u001b[0m\u001b[0m\n\u001b[1;32m    149\u001b[0m                 \u001b[0;32mreturn\u001b[0m \u001b[0mcls\u001b[0m\u001b[0;34m.\u001b[0m\u001b[0mfrom_config\u001b[0m\u001b[0;34m(\u001b[0m\u001b[0mconfig\u001b[0m\u001b[0;34m[\u001b[0m\u001b[0;34m'config'\u001b[0m\u001b[0;34m]\u001b[0m\u001b[0;34m)\u001b[0m\u001b[0;34m\u001b[0m\u001b[0;34m\u001b[0m\u001b[0m\n",
      "\u001b[0;32m/usr/local/lib/python3.6/dist-packages/keras/engine/network.py\u001b[0m in \u001b[0;36mfrom_config\u001b[0;34m(cls, config, custom_objects)\u001b[0m\n\u001b[1;32m   1041\u001b[0m         \u001b[0;31m# First, we create all layers and enqueue nodes to be processed\u001b[0m\u001b[0;34m\u001b[0m\u001b[0;34m\u001b[0m\u001b[0;34m\u001b[0m\u001b[0m\n\u001b[1;32m   1042\u001b[0m         \u001b[0;32mfor\u001b[0m \u001b[0mlayer_data\u001b[0m \u001b[0;32min\u001b[0m \u001b[0mconfig\u001b[0m\u001b[0;34m[\u001b[0m\u001b[0;34m'layers'\u001b[0m\u001b[0;34m]\u001b[0m\u001b[0;34m:\u001b[0m\u001b[0;34m\u001b[0m\u001b[0;34m\u001b[0m\u001b[0m\n\u001b[0;32m-> 1043\u001b[0;31m             \u001b[0mprocess_layer\u001b[0m\u001b[0;34m(\u001b[0m\u001b[0mlayer_data\u001b[0m\u001b[0;34m)\u001b[0m\u001b[0;34m\u001b[0m\u001b[0;34m\u001b[0m\u001b[0m\n\u001b[0m\u001b[1;32m   1044\u001b[0m \u001b[0;34m\u001b[0m\u001b[0m\n\u001b[1;32m   1045\u001b[0m         \u001b[0;31m# Then we process nodes in order of layer depth.\u001b[0m\u001b[0;34m\u001b[0m\u001b[0;34m\u001b[0m\u001b[0;34m\u001b[0m\u001b[0m\n",
      "\u001b[0;32m/usr/local/lib/python3.6/dist-packages/keras/engine/network.py\u001b[0m in \u001b[0;36mprocess_layer\u001b[0;34m(layer_data)\u001b[0m\n\u001b[1;32m   1027\u001b[0m \u001b[0;34m\u001b[0m\u001b[0m\n\u001b[1;32m   1028\u001b[0m             layer = deserialize_layer(layer_data,\n\u001b[0;32m-> 1029\u001b[0;31m                                       custom_objects=custom_objects)\n\u001b[0m\u001b[1;32m   1030\u001b[0m             \u001b[0mcreated_layers\u001b[0m\u001b[0;34m[\u001b[0m\u001b[0mlayer_name\u001b[0m\u001b[0;34m]\u001b[0m \u001b[0;34m=\u001b[0m \u001b[0mlayer\u001b[0m\u001b[0;34m\u001b[0m\u001b[0;34m\u001b[0m\u001b[0m\n\u001b[1;32m   1031\u001b[0m \u001b[0;34m\u001b[0m\u001b[0m\n",
      "\u001b[0;32m/usr/local/lib/python3.6/dist-packages/keras/layers/__init__.py\u001b[0m in \u001b[0;36mdeserialize\u001b[0;34m(config, custom_objects)\u001b[0m\n\u001b[1;32m    166\u001b[0m                                     \u001b[0mmodule_objects\u001b[0m\u001b[0;34m=\u001b[0m\u001b[0mglobs\u001b[0m\u001b[0;34m,\u001b[0m\u001b[0;34m\u001b[0m\u001b[0;34m\u001b[0m\u001b[0m\n\u001b[1;32m    167\u001b[0m                                     \u001b[0mcustom_objects\u001b[0m\u001b[0;34m=\u001b[0m\u001b[0mcustom_objects\u001b[0m\u001b[0;34m,\u001b[0m\u001b[0;34m\u001b[0m\u001b[0;34m\u001b[0m\u001b[0m\n\u001b[0;32m--> 168\u001b[0;31m                                     printable_module_name='layer')\n\u001b[0m",
      "\u001b[0;32m/usr/local/lib/python3.6/dist-packages/keras/utils/generic_utils.py\u001b[0m in \u001b[0;36mdeserialize_keras_object\u001b[0;34m(identifier, module_objects, custom_objects, printable_module_name)\u001b[0m\n\u001b[1;32m    147\u001b[0m                                         list(custom_objects.items())))\n\u001b[1;32m    148\u001b[0m             \u001b[0;32mwith\u001b[0m \u001b[0mCustomObjectScope\u001b[0m\u001b[0;34m(\u001b[0m\u001b[0mcustom_objects\u001b[0m\u001b[0;34m)\u001b[0m\u001b[0;34m:\u001b[0m\u001b[0;34m\u001b[0m\u001b[0;34m\u001b[0m\u001b[0m\n\u001b[0;32m--> 149\u001b[0;31m                 \u001b[0;32mreturn\u001b[0m \u001b[0mcls\u001b[0m\u001b[0;34m.\u001b[0m\u001b[0mfrom_config\u001b[0m\u001b[0;34m(\u001b[0m\u001b[0mconfig\u001b[0m\u001b[0;34m[\u001b[0m\u001b[0;34m'config'\u001b[0m\u001b[0;34m]\u001b[0m\u001b[0;34m)\u001b[0m\u001b[0;34m\u001b[0m\u001b[0;34m\u001b[0m\u001b[0m\n\u001b[0m\u001b[1;32m    150\u001b[0m         \u001b[0;32melse\u001b[0m\u001b[0;34m:\u001b[0m\u001b[0;34m\u001b[0m\u001b[0;34m\u001b[0m\u001b[0m\n\u001b[1;32m    151\u001b[0m             \u001b[0;31m# Then `cls` may be a function returning a class.\u001b[0m\u001b[0;34m\u001b[0m\u001b[0;34m\u001b[0m\u001b[0;34m\u001b[0m\u001b[0m\n",
      "\u001b[0;32m/usr/local/lib/python3.6/dist-packages/keras/engine/base_layer.py\u001b[0m in \u001b[0;36mfrom_config\u001b[0;34m(cls, config)\u001b[0m\n\u001b[1;32m   1101\u001b[0m             \u001b[0mA\u001b[0m \u001b[0mlayer\u001b[0m \u001b[0minstance\u001b[0m\u001b[0;34m.\u001b[0m\u001b[0;34m\u001b[0m\u001b[0;34m\u001b[0m\u001b[0m\n\u001b[1;32m   1102\u001b[0m         \"\"\"\n\u001b[0;32m-> 1103\u001b[0;31m         \u001b[0;32mreturn\u001b[0m \u001b[0mcls\u001b[0m\u001b[0;34m(\u001b[0m\u001b[0;34m**\u001b[0m\u001b[0mconfig\u001b[0m\u001b[0;34m)\u001b[0m\u001b[0;34m\u001b[0m\u001b[0;34m\u001b[0m\u001b[0m\n\u001b[0m\u001b[1;32m   1104\u001b[0m \u001b[0;34m\u001b[0m\u001b[0m\n\u001b[1;32m   1105\u001b[0m     \u001b[0;32mdef\u001b[0m \u001b[0mcount_params\u001b[0m\u001b[0;34m(\u001b[0m\u001b[0mself\u001b[0m\u001b[0;34m)\u001b[0m\u001b[0;34m:\u001b[0m\u001b[0;34m\u001b[0m\u001b[0;34m\u001b[0m\u001b[0m\n",
      "\u001b[0;32m/usr/local/lib/python3.6/dist-packages/keras/legacy/interfaces.py\u001b[0m in \u001b[0;36mwrapper\u001b[0;34m(*args, **kwargs)\u001b[0m\n\u001b[1;32m     89\u001b[0m                 warnings.warn('Update your `' + object_name + '` call to the ' +\n\u001b[1;32m     90\u001b[0m                               'Keras 2 API: ' + signature, stacklevel=2)\n\u001b[0;32m---> 91\u001b[0;31m             \u001b[0;32mreturn\u001b[0m \u001b[0mfunc\u001b[0m\u001b[0;34m(\u001b[0m\u001b[0;34m*\u001b[0m\u001b[0margs\u001b[0m\u001b[0;34m,\u001b[0m \u001b[0;34m**\u001b[0m\u001b[0mkwargs\u001b[0m\u001b[0;34m)\u001b[0m\u001b[0;34m\u001b[0m\u001b[0;34m\u001b[0m\u001b[0m\n\u001b[0m\u001b[1;32m     92\u001b[0m         \u001b[0mwrapper\u001b[0m\u001b[0;34m.\u001b[0m\u001b[0m_original_function\u001b[0m \u001b[0;34m=\u001b[0m \u001b[0mfunc\u001b[0m\u001b[0;34m\u001b[0m\u001b[0;34m\u001b[0m\u001b[0m\n\u001b[1;32m     93\u001b[0m         \u001b[0;32mreturn\u001b[0m \u001b[0mwrapper\u001b[0m\u001b[0;34m\u001b[0m\u001b[0;34m\u001b[0m\u001b[0m\n",
      "\u001b[0;31mTypeError\u001b[0m: __init__() got an unexpected keyword argument 'ragged'"
     ]
    }
   ],
   "source": [
    "from keras.models import load_model\n",
    "new_model = load_model('LENET.h5')"
   ]
  },
  {
   "cell_type": "code",
   "execution_count": 4,
   "metadata": {
    "colab": {},
    "colab_type": "code",
    "executionInfo": {
     "elapsed": 6154,
     "status": "ok",
     "timestamp": 1598386674010,
     "user": {
      "displayName": "edgar andres",
      "photoUrl": "",
      "userId": "01248025822311515718"
     },
     "user_tz": 300
    },
    "id": "c2em2DGdV0E6"
   },
   "outputs": [],
   "source": [
    "#Implementación VGG16\n",
    "entrada = tf.keras.Input((150,268,3)) #Entrada\n",
    "x = tf.keras.layers.Conv2D(64, 3, activation='relu', padding=\"same\")(entrada)\n",
    "x = tf.keras.layers.Conv2D(64, 3, activation='relu', padding=\"same\")(x)\n",
    "x = tf.keras.layers.MaxPooling2D()(x)\n",
    "x = tf.keras.layers.Conv2D(128, 3, activation='relu', padding=\"same\")(x)\n",
    "x = tf.keras.layers.Conv2D(128, 3, activation='relu', padding=\"same\")(x)\n",
    "x = tf.keras.layers.MaxPooling2D()(x)\n",
    "x = tf.keras.layers.Conv2D(256, 3, activation='relu', padding=\"same\")(x)\n",
    "x = tf.keras.layers.Conv2D(256, 3, activation='relu', padding=\"same\")(x)\n",
    "x = tf.keras.layers.Conv2D(256, 3, activation='relu', padding=\"same\")(x)\n",
    "x = tf.keras.layers.MaxPooling2D()(x)\n",
    "x = tf.keras.layers.Conv2D(512, 3, activation='relu', padding=\"same\")(x)\n",
    "x = tf.keras.layers.Conv2D(512, 3, activation='relu', padding=\"same\")(x)\n",
    "x = tf.keras.layers.Conv2D(512, 3, activation='relu', padding=\"same\")(x)\n",
    "x = tf.keras.layers.MaxPooling2D()(x)\n",
    "x = tf.keras.layers.Conv2D(512, 3, activation='relu', padding=\"same\")(x)\n",
    "x = tf.keras.layers.Conv2D(512, 3, activation='relu', padding=\"same\")(x)\n",
    "x = tf.keras.layers.Conv2D(512, 3, activation='relu', padding=\"same\")(x)\n",
    "x = tf.keras.layers.MaxPooling2D()(x)\n",
    "x = tf.keras.layers.Flatten()(x)\n",
    "x = tf.keras.layers.Dense(4096, activation='relu')(x)\n",
    "x = tf.keras.layers.Dense(4096, activation='relu')(x)\n",
    "x = tf.keras.layers.Dense(4, activation='softmax')(x)\n",
    "model = tf.keras.Model(entrada, x)"
   ]
  },
  {
   "cell_type": "code",
   "execution_count": 5,
   "metadata": {
    "colab": {
     "base_uri": "https://localhost:8080/",
     "height": 935
    },
    "colab_type": "code",
    "executionInfo": {
     "elapsed": 642,
     "status": "ok",
     "timestamp": 1598386679844,
     "user": {
      "displayName": "edgar andres",
      "photoUrl": "",
      "userId": "01248025822311515718"
     },
     "user_tz": 300
    },
    "id": "L0XrOYjTmNaP",
    "outputId": "e473f997-77af-4062-8b07-4250bc7a0ebd"
   },
   "outputs": [
    {
     "name": "stdout",
     "output_type": "stream",
     "text": [
      "Model: \"functional_1\"\n",
      "_________________________________________________________________\n",
      "Layer (type)                 Output Shape              Param #   \n",
      "=================================================================\n",
      "input_1 (InputLayer)         [(None, 150, 268, 3)]     0         \n",
      "_________________________________________________________________\n",
      "conv2d (Conv2D)              (None, 150, 268, 64)      1792      \n",
      "_________________________________________________________________\n",
      "conv2d_1 (Conv2D)            (None, 150, 268, 64)      36928     \n",
      "_________________________________________________________________\n",
      "max_pooling2d (MaxPooling2D) (None, 75, 134, 64)       0         \n",
      "_________________________________________________________________\n",
      "conv2d_2 (Conv2D)            (None, 75, 134, 128)      73856     \n",
      "_________________________________________________________________\n",
      "conv2d_3 (Conv2D)            (None, 75, 134, 128)      147584    \n",
      "_________________________________________________________________\n",
      "max_pooling2d_1 (MaxPooling2 (None, 37, 67, 128)       0         \n",
      "_________________________________________________________________\n",
      "conv2d_4 (Conv2D)            (None, 37, 67, 256)       295168    \n",
      "_________________________________________________________________\n",
      "conv2d_5 (Conv2D)            (None, 37, 67, 256)       590080    \n",
      "_________________________________________________________________\n",
      "conv2d_6 (Conv2D)            (None, 37, 67, 256)       590080    \n",
      "_________________________________________________________________\n",
      "max_pooling2d_2 (MaxPooling2 (None, 18, 33, 256)       0         \n",
      "_________________________________________________________________\n",
      "conv2d_7 (Conv2D)            (None, 18, 33, 512)       1180160   \n",
      "_________________________________________________________________\n",
      "conv2d_8 (Conv2D)            (None, 18, 33, 512)       2359808   \n",
      "_________________________________________________________________\n",
      "conv2d_9 (Conv2D)            (None, 18, 33, 512)       2359808   \n",
      "_________________________________________________________________\n",
      "max_pooling2d_3 (MaxPooling2 (None, 9, 16, 512)        0         \n",
      "_________________________________________________________________\n",
      "conv2d_10 (Conv2D)           (None, 9, 16, 512)        2359808   \n",
      "_________________________________________________________________\n",
      "conv2d_11 (Conv2D)           (None, 9, 16, 512)        2359808   \n",
      "_________________________________________________________________\n",
      "conv2d_12 (Conv2D)           (None, 9, 16, 512)        2359808   \n",
      "_________________________________________________________________\n",
      "max_pooling2d_4 (MaxPooling2 (None, 4, 8, 512)         0         \n",
      "_________________________________________________________________\n",
      "flatten (Flatten)            (None, 16384)             0         \n",
      "_________________________________________________________________\n",
      "dense (Dense)                (None, 4096)              67112960  \n",
      "_________________________________________________________________\n",
      "dense_1 (Dense)              (None, 4096)              16781312  \n",
      "_________________________________________________________________\n",
      "dense_2 (Dense)              (None, 4)                 16388     \n",
      "=================================================================\n",
      "Total params: 98,625,348\n",
      "Trainable params: 98,625,348\n",
      "Non-trainable params: 0\n",
      "_________________________________________________________________\n"
     ]
    }
   ],
   "source": [
    "model.summary()"
   ]
  },
  {
   "cell_type": "code",
   "execution_count": 6,
   "metadata": {
    "colab": {},
    "colab_type": "code",
    "executionInfo": {
     "elapsed": 653,
     "status": "ok",
     "timestamp": 1598386687360,
     "user": {
      "displayName": "edgar andres",
      "photoUrl": "",
      "userId": "01248025822311515718"
     },
     "user_tz": 300
    },
    "id": "k9n0di5ceZlM"
   },
   "outputs": [],
   "source": [
    "model.compile(loss='sparse_categorical_crossentropy', optimizer='adam', metrics=['acc'])"
   ]
  },
  {
   "cell_type": "code",
   "execution_count": 10,
   "metadata": {
    "colab": {
     "base_uri": "https://localhost:8080/",
     "height": 1000
    },
    "colab_type": "code",
    "executionInfo": {
     "elapsed": 73966,
     "status": "ok",
     "timestamp": 1598386800566,
     "user": {
      "displayName": "edgar andres",
      "photoUrl": "",
      "userId": "01248025822311515718"
     },
     "user_tz": 300
    },
    "id": "TJM7VOGCCOfI",
    "outputId": "b836786a-ce9d-4a12-f3ea-4e0ee4d9c706"
   },
   "outputs": [
    {
     "name": "stdout",
     "output_type": "stream",
     "text": [
      "Epoch 1/70\n",
      "1/1 [==============================] - 2s 2s/step - loss: 1.3849 - acc: 0.3030 - val_loss: 149.5204 - val_acc: 0.2727\n",
      "Epoch 2/70\n",
      "1/1 [==============================] - 1s 633ms/step - loss: 142.0545 - acc: 0.3485 - val_loss: 1.3793 - val_acc: 0.3182\n",
      "Epoch 3/70\n",
      "1/1 [==============================] - 1s 636ms/step - loss: 1.3915 - acc: 0.2424 - val_loss: 1.3810 - val_acc: 0.3182\n",
      "Epoch 4/70\n",
      "1/1 [==============================] - 1s 639ms/step - loss: 1.3894 - acc: 0.2424 - val_loss: 1.3807 - val_acc: 0.3182\n",
      "Epoch 5/70\n",
      "1/1 [==============================] - 1s 632ms/step - loss: 1.3880 - acc: 0.2424 - val_loss: 1.3740 - val_acc: 0.3182\n",
      "Epoch 6/70\n",
      "1/1 [==============================] - 1s 630ms/step - loss: 1.3827 - acc: 0.2424 - val_loss: 1.3379 - val_acc: 0.2045\n",
      "Epoch 7/70\n",
      "1/1 [==============================] - 1s 626ms/step - loss: 1.3434 - acc: 0.3030 - val_loss: 2.5699 - val_acc: 0.2955\n",
      "Epoch 8/70\n",
      "1/1 [==============================] - 1s 627ms/step - loss: 2.6626 - acc: 0.2576 - val_loss: 1.5174 - val_acc: 0.2045\n",
      "Epoch 9/70\n",
      "1/1 [==============================] - 1s 629ms/step - loss: 1.4671 - acc: 0.3182 - val_loss: 1.3902 - val_acc: 0.2045\n",
      "Epoch 10/70\n",
      "1/1 [==============================] - 1s 634ms/step - loss: 1.3829 - acc: 0.3182 - val_loss: 1.3896 - val_acc: 0.2273\n",
      "Epoch 11/70\n",
      "1/1 [==============================] - 1s 626ms/step - loss: 1.3855 - acc: 0.3030 - val_loss: 1.3898 - val_acc: 0.2273\n",
      "Epoch 12/70\n",
      "1/1 [==============================] - 1s 624ms/step - loss: 1.3858 - acc: 0.3030 - val_loss: 1.3901 - val_acc: 0.2273\n",
      "Epoch 13/70\n",
      "1/1 [==============================] - 1s 629ms/step - loss: 1.3858 - acc: 0.3030 - val_loss: 1.3899 - val_acc: 0.2273\n",
      "Epoch 14/70\n",
      "1/1 [==============================] - 1s 627ms/step - loss: 1.3853 - acc: 0.3030 - val_loss: 1.3891 - val_acc: 0.2273\n",
      "Epoch 15/70\n",
      "1/1 [==============================] - 1s 634ms/step - loss: 1.3842 - acc: 0.3030 - val_loss: 1.3845 - val_acc: 0.3409\n",
      "Epoch 16/70\n",
      "1/1 [==============================] - 1s 630ms/step - loss: 1.3817 - acc: 0.2576 - val_loss: 1.3888 - val_acc: 0.2273\n",
      "Epoch 17/70\n",
      "1/1 [==============================] - 1s 627ms/step - loss: 1.3833 - acc: 0.3030 - val_loss: 1.3697 - val_acc: 0.4091\n",
      "Epoch 18/70\n",
      "1/1 [==============================] - 1s 627ms/step - loss: 1.3698 - acc: 0.3182 - val_loss: 1.3974 - val_acc: 0.3182\n",
      "Epoch 19/70\n",
      "1/1 [==============================] - 1s 633ms/step - loss: 1.4368 - acc: 0.2424 - val_loss: 1.3849 - val_acc: 0.2273\n",
      "Epoch 20/70\n",
      "1/1 [==============================] - 1s 628ms/step - loss: 1.3781 - acc: 0.3030 - val_loss: 1.3875 - val_acc: 0.2273\n",
      "Epoch 21/70\n",
      "1/1 [==============================] - 1s 630ms/step - loss: 1.3806 - acc: 0.3030 - val_loss: 1.3870 - val_acc: 0.2273\n",
      "Epoch 22/70\n",
      "1/1 [==============================] - 1s 628ms/step - loss: 1.3799 - acc: 0.3030 - val_loss: 1.3865 - val_acc: 0.2273\n",
      "Epoch 23/70\n",
      "1/1 [==============================] - 1s 628ms/step - loss: 1.3792 - acc: 0.3030 - val_loss: 1.3861 - val_acc: 0.2273\n",
      "Epoch 24/70\n",
      "1/1 [==============================] - 1s 629ms/step - loss: 1.3783 - acc: 0.3030 - val_loss: 1.3858 - val_acc: 0.2273\n",
      "Epoch 25/70\n",
      "1/1 [==============================] - 1s 631ms/step - loss: 1.3772 - acc: 0.3030 - val_loss: 1.3855 - val_acc: 0.2273\n",
      "Epoch 26/70\n",
      "1/1 [==============================] - 1s 629ms/step - loss: 1.3758 - acc: 0.3030 - val_loss: 1.3857 - val_acc: 0.2273\n",
      "Epoch 27/70\n",
      "1/1 [==============================] - 1s 632ms/step - loss: 1.3743 - acc: 0.3030 - val_loss: 1.3859 - val_acc: 0.2273\n",
      "Epoch 28/70\n",
      "1/1 [==============================] - 1s 631ms/step - loss: 1.3727 - acc: 0.3030 - val_loss: 1.3821 - val_acc: 0.2273\n",
      "Epoch 29/70\n",
      "1/1 [==============================] - 1s 633ms/step - loss: 1.3681 - acc: 0.3030 - val_loss: 1.3484 - val_acc: 0.3636\n",
      "Epoch 30/70\n",
      "1/1 [==============================] - 1s 629ms/step - loss: 1.3407 - acc: 0.3485 - val_loss: 1.4231 - val_acc: 0.3864\n",
      "Epoch 31/70\n",
      "1/1 [==============================] - 1s 628ms/step - loss: 1.5013 - acc: 0.3333 - val_loss: 1.5004 - val_acc: 0.2273\n",
      "Epoch 32/70\n",
      "1/1 [==============================] - 1s 633ms/step - loss: 1.4287 - acc: 0.3030 - val_loss: 1.3943 - val_acc: 0.2273\n",
      "Epoch 33/70\n",
      "1/1 [==============================] - 1s 635ms/step - loss: 1.3743 - acc: 0.3030 - val_loss: 1.3903 - val_acc: 0.2273\n",
      "Epoch 34/70\n",
      "1/1 [==============================] - 1s 635ms/step - loss: 1.3755 - acc: 0.3030 - val_loss: 1.3884 - val_acc: 0.2273\n",
      "Epoch 35/70\n",
      "1/1 [==============================] - 1s 634ms/step - loss: 1.3744 - acc: 0.3030 - val_loss: 1.3867 - val_acc: 0.2273\n",
      "Epoch 36/70\n",
      "1/1 [==============================] - 1s 631ms/step - loss: 1.3718 - acc: 0.3030 - val_loss: 1.3845 - val_acc: 0.2273\n",
      "Epoch 37/70\n",
      "1/1 [==============================] - 1s 635ms/step - loss: 1.3620 - acc: 0.3485 - val_loss: 1.3926 - val_acc: 0.2273\n",
      "Epoch 38/70\n",
      "1/1 [==============================] - 1s 633ms/step - loss: 1.3361 - acc: 0.3485 - val_loss: 1.4491 - val_acc: 0.2273\n",
      "Epoch 39/70\n",
      "1/1 [==============================] - 1s 633ms/step - loss: 1.3077 - acc: 0.3485 - val_loss: 1.3383 - val_acc: 0.2273\n",
      "Epoch 40/70\n",
      "1/1 [==============================] - 1s 631ms/step - loss: 1.2397 - acc: 0.3939 - val_loss: 1.2250 - val_acc: 0.4318\n",
      "Epoch 41/70\n",
      "1/1 [==============================] - 1s 636ms/step - loss: 1.1715 - acc: 0.4848 - val_loss: 1.2450 - val_acc: 0.4773\n",
      "Epoch 42/70\n",
      "1/1 [==============================] - 1s 630ms/step - loss: 1.2215 - acc: 0.4242 - val_loss: 1.1976 - val_acc: 0.4318\n",
      "Epoch 43/70\n",
      "1/1 [==============================] - 1s 632ms/step - loss: 1.1775 - acc: 0.5000 - val_loss: 1.2455 - val_acc: 0.3409\n",
      "Epoch 44/70\n",
      "1/1 [==============================] - 1s 632ms/step - loss: 1.2116 - acc: 0.3788 - val_loss: 1.2463 - val_acc: 0.3409\n",
      "Epoch 45/70\n",
      "1/1 [==============================] - 1s 631ms/step - loss: 1.1712 - acc: 0.4242 - val_loss: 1.2025 - val_acc: 0.3636\n",
      "Epoch 46/70\n",
      "1/1 [==============================] - 1s 634ms/step - loss: 1.0531 - acc: 0.4697 - val_loss: 1.0422 - val_acc: 0.5000\n",
      "Epoch 47/70\n",
      "1/1 [==============================] - 1s 643ms/step - loss: 0.8528 - acc: 0.6364 - val_loss: 1.7229 - val_acc: 0.5227\n",
      "Epoch 48/70\n",
      "1/1 [==============================] - 1s 639ms/step - loss: 1.6711 - acc: 0.4242 - val_loss: 2.0979 - val_acc: 0.3182\n",
      "Epoch 49/70\n",
      "1/1 [==============================] - 1s 636ms/step - loss: 1.6589 - acc: 0.3788 - val_loss: 1.3739 - val_acc: 0.2955\n",
      "Epoch 50/70\n",
      "1/1 [==============================] - 1s 632ms/step - loss: 1.3445 - acc: 0.3182 - val_loss: 1.3968 - val_acc: 0.2955\n",
      "Epoch 51/70\n",
      "1/1 [==============================] - 1s 645ms/step - loss: 1.3824 - acc: 0.2576 - val_loss: 1.4011 - val_acc: 0.2273\n",
      "Epoch 52/70\n",
      "1/1 [==============================] - 1s 638ms/step - loss: 1.3801 - acc: 0.3030 - val_loss: 1.4057 - val_acc: 0.2273\n",
      "Epoch 53/70\n",
      "1/1 [==============================] - 1s 637ms/step - loss: 1.3794 - acc: 0.3030 - val_loss: 1.4096 - val_acc: 0.2273\n",
      "Epoch 54/70\n",
      "1/1 [==============================] - 1s 645ms/step - loss: 1.3797 - acc: 0.3030 - val_loss: 1.4116 - val_acc: 0.2273\n",
      "Epoch 55/70\n",
      "1/1 [==============================] - 1s 638ms/step - loss: 1.3801 - acc: 0.3030 - val_loss: 1.4116 - val_acc: 0.2273\n",
      "Epoch 56/70\n",
      "1/1 [==============================] - 1s 638ms/step - loss: 1.3798 - acc: 0.3030 - val_loss: 1.4096 - val_acc: 0.2273\n",
      "Epoch 57/70\n",
      "1/1 [==============================] - 1s 642ms/step - loss: 1.3778 - acc: 0.3030 - val_loss: 1.4117 - val_acc: 0.2273\n",
      "Epoch 58/70\n",
      "1/1 [==============================] - 1s 636ms/step - loss: 1.3712 - acc: 0.3030 - val_loss: 1.4689 - val_acc: 0.2273\n",
      "Epoch 59/70\n",
      "1/1 [==============================] - 1s 636ms/step - loss: 1.3757 - acc: 0.3030 - val_loss: 1.3988 - val_acc: 0.2273\n",
      "Epoch 60/70\n",
      "1/1 [==============================] - 1s 644ms/step - loss: 1.3624 - acc: 0.3030 - val_loss: 1.3882 - val_acc: 0.2273\n",
      "Epoch 61/70\n",
      "1/1 [==============================] - 1s 646ms/step - loss: 1.3657 - acc: 0.3030 - val_loss: 1.3824 - val_acc: 0.2273\n",
      "Epoch 62/70\n",
      "1/1 [==============================] - 1s 641ms/step - loss: 1.3594 - acc: 0.3030 - val_loss: 1.3865 - val_acc: 0.2273\n",
      "Epoch 63/70\n",
      "1/1 [==============================] - 1s 641ms/step - loss: 1.3420 - acc: 0.3030 - val_loss: 1.4748 - val_acc: 0.2273\n",
      "Epoch 64/70\n",
      "1/1 [==============================] - 1s 642ms/step - loss: 1.3430 - acc: 0.3030 - val_loss: 1.3728 - val_acc: 0.2273\n",
      "Epoch 65/70\n",
      "1/1 [==============================] - 1s 645ms/step - loss: 1.3172 - acc: 0.3939 - val_loss: 1.3549 - val_acc: 0.2500\n",
      "Epoch 66/70\n",
      "1/1 [==============================] - 1s 647ms/step - loss: 1.3060 - acc: 0.3788 - val_loss: 1.3703 - val_acc: 0.2727\n",
      "Epoch 67/70\n",
      "1/1 [==============================] - 1s 645ms/step - loss: 1.2454 - acc: 0.4091 - val_loss: 1.5060 - val_acc: 0.3636\n",
      "Epoch 68/70\n",
      "1/1 [==============================] - 1s 652ms/step - loss: 1.2302 - acc: 0.4545 - val_loss: 1.2757 - val_acc: 0.2500\n",
      "Epoch 69/70\n",
      "1/1 [==============================] - 1s 642ms/step - loss: 1.1779 - acc: 0.4848 - val_loss: 1.3391 - val_acc: 0.3409\n",
      "Epoch 70/70\n",
      "1/1 [==============================] - 1s 644ms/step - loss: 1.2561 - acc: 0.3333 - val_loss: 1.2637 - val_acc: 0.2955\n"
     ]
    }
   ],
   "source": [
    "vgg16 = model.fit(X_train, y_train, batch_size=128, epochs=70, verbose=1, validation_data=(X_test, y_test), shuffle=True) "
   ]
  },
  {
   "cell_type": "code",
   "execution_count": 11,
   "metadata": {
    "colab": {
     "base_uri": "https://localhost:8080/",
     "height": 302
    },
    "colab_type": "code",
    "executionInfo": {
     "elapsed": 885,
     "status": "ok",
     "timestamp": 1598386819442,
     "user": {
      "displayName": "edgar andres",
      "photoUrl": "",
      "userId": "01248025822311515718"
     },
     "user_tz": 300
    },
    "id": "BDgxtvgrdndP",
    "outputId": "c10bc7d0-5111-4566-a94f-64165b0c0916"
   },
   "outputs": [
    {
     "data": {
      "text/plain": [
       "<matplotlib.legend.Legend at 0x7f27f2f35a58>"
      ]
     },
     "execution_count": 11,
     "metadata": {
      "tags": []
     },
     "output_type": "execute_result"
    },
    {
     "data": {
      "image/png": "[encoded data removed]",
      "text/plain": [
       "<Figure size 432x288 with 1 Axes>"
      ]
     },
     "metadata": {
      "needs_background": "light",
      "tags": []
     },
     "output_type": "display_data"
    }
   ],
   "source": [
    "plt.plot(vgg16.history['acc'], label='Train Accuracy')\n",
    "plt.plot(vgg16.history['val_acc'], label='Validation Accuracy')\n",
    "plt.xlabel('Epochs')\n",
    "plt.ylabel('Accuracy')\n",
    "plt.legend() "
   ]
  },
  {
   "cell_type": "code",
   "execution_count": 14,
   "metadata": {
    "colab": {
     "base_uri": "https://localhost:8080/",
     "height": 34
    },
    "colab_type": "code",
    "executionInfo": {
     "elapsed": 665,
     "status": "ok",
     "timestamp": 1598386991377,
     "user": {
      "displayName": "edgar andres",
      "photoUrl": "",
      "userId": "01248025822311515718"
     },
     "user_tz": 300
    },
    "id": "vsCWbZ4HR9IH",
    "outputId": "ae6d0824-fade-40a8-ec5e-54aada048fd6"
   },
   "outputs": [
    {
     "name": "stdout",
     "output_type": "stream",
     "text": [
      "0.6363636255264282 0.5227272510528564\n"
     ]
    }
   ],
   "source": [
    "print(np.max(vgg16.history['acc']),np.max(vgg16.history['val_acc']))"
   ]
  },
  {
   "cell_type": "code",
   "execution_count": null,
   "metadata": {
    "colab": {
     "base_uri": "https://localhost:8080/",
     "height": 306
    },
    "colab_type": "code",
    "executionInfo": {
     "elapsed": 547,
     "status": "ok",
     "timestamp": 1584584488377,
     "user": {
      "displayName": "edgar andres",
      "photoUrl": "",
      "userId": "01248025822311515718"
     },
     "user_tz": 300
    },
    "id": "SXu9AIjPrtPP",
    "outputId": "51f58f12-2564-4ef7-f5eb-2c58d9a178a7"
   },
   "outputs": [
    {
     "data": {
      "text/plain": [
       "{'activation': 'softmax',\n",
       " 'activity_regularizer': None,\n",
       " 'bias_constraint': None,\n",
       " 'bias_initializer': {'class_name': 'Zeros', 'config': {}},\n",
       " 'bias_regularizer': None,\n",
       " 'dtype': 'float32',\n",
       " 'kernel_constraint': None,\n",
       " 'kernel_initializer': {'class_name': 'VarianceScaling',\n",
       "  'config': {'distribution': 'uniform',\n",
       "   'mode': 'fan_avg',\n",
       "   'scale': 1.0,\n",
       "   'seed': None}},\n",
       " 'kernel_regularizer': None,\n",
       " 'name': 'predictions',\n",
       " 'trainable': True,\n",
       " 'units': 4,\n",
       " 'use_bias': True}"
      ]
     },
     "execution_count": 65,
     "metadata": {
      "tags": []
     },
     "output_type": "execute_result"
    }
   ],
   "source": [
    "model.layers[22].get_config()#['name']"
   ]
  },
  {
   "cell_type": "code",
   "execution_count": null,
   "metadata": {
    "colab": {
     "base_uri": "https://localhost:8080/",
     "height": 173
    },
    "colab_type": "code",
    "executionInfo": {
     "elapsed": 536,
     "status": "ok",
     "timestamp": 1584582193381,
     "user": {
      "displayName": "edgar andres",
      "photoUrl": "",
      "userId": "01248025822311515718"
     },
     "user_tz": 300
    },
    "id": "rokBxaD3rjB8",
    "outputId": "5cf0f8bc-f0be-456a-f700-26db00786444"
   },
   "outputs": [
    {
     "name": "stdout",
     "output_type": "stream",
     "text": [
      "WARNING:tensorflow:From /usr/local/lib/python3.6/dist-packages/keras/backend/tensorflow_backend.py:66: The name tf.get_default_graph is deprecated. Please use tf.compat.v1.get_default_graph instead.\n",
      "\n",
      "WARNING:tensorflow:From /usr/local/lib/python3.6/dist-packages/keras/backend/tensorflow_backend.py:541: The name tf.placeholder is deprecated. Please use tf.compat.v1.placeholder instead.\n",
      "\n",
      "WARNING:tensorflow:From /usr/local/lib/python3.6/dist-packages/keras/backend/tensorflow_backend.py:4432: The name tf.random_uniform is deprecated. Please use tf.random.uniform instead.\n",
      "\n",
      "WARNING:tensorflow:From /usr/local/lib/python3.6/dist-packages/keras/backend/tensorflow_backend.py:4267: The name tf.nn.max_pool is deprecated. Please use tf.nn.max_pool2d instead.\n",
      "\n"
     ]
    }
   ],
   "source": [
    "from keras.applications import vgg16\n",
    "model = vgg16.VGG16(include_top=True, weights=None, input_tensor=None, input_shape=(150,268,3), pooling=None, classes=4)"
   ]
  },
  {
   "cell_type": "code",
   "execution_count": null,
   "metadata": {
    "colab": {
     "base_uri": "https://localhost:8080/",
     "height": 935
    },
    "colab_type": "code",
    "executionInfo": {
     "elapsed": 544,
     "status": "ok",
     "timestamp": 1584582203857,
     "user": {
      "displayName": "edgar andres",
      "photoUrl": "",
      "userId": "01248025822311515718"
     },
     "user_tz": 300
    },
    "id": "_PUqAPdRcM4P",
    "outputId": "b8fab13f-1773-44b4-b773-f520438b9ac4"
   },
   "outputs": [
    {
     "name": "stdout",
     "output_type": "stream",
     "text": [
      "Model: \"vgg16\"\n",
      "_________________________________________________________________\n",
      "Layer (type)                 Output Shape              Param #   \n",
      "=================================================================\n",
      "input_1 (InputLayer)         (None, 150, 268, 3)       0         \n",
      "_________________________________________________________________\n",
      "block1_conv1 (Conv2D)        (None, 150, 268, 64)      1792      \n",
      "_________________________________________________________________\n",
      "block1_conv2 (Conv2D)        (None, 150, 268, 64)      36928     \n",
      "_________________________________________________________________\n",
      "block1_pool (MaxPooling2D)   (None, 75, 134, 64)       0         \n",
      "_________________________________________________________________\n",
      "block2_conv1 (Conv2D)        (None, 75, 134, 128)      73856     \n",
      "_________________________________________________________________\n",
      "block2_conv2 (Conv2D)        (None, 75, 134, 128)      147584    \n",
      "_________________________________________________________________\n",
      "block2_pool (MaxPooling2D)   (None, 37, 67, 128)       0         \n",
      "_________________________________________________________________\n",
      "block3_conv1 (Conv2D)        (None, 37, 67, 256)       295168    \n",
      "_________________________________________________________________\n",
      "block3_conv2 (Conv2D)        (None, 37, 67, 256)       590080    \n",
      "_________________________________________________________________\n",
      "block3_conv3 (Conv2D)        (None, 37, 67, 256)       590080    \n",
      "_________________________________________________________________\n",
      "block3_pool (MaxPooling2D)   (None, 18, 33, 256)       0         \n",
      "_________________________________________________________________\n",
      "block4_conv1 (Conv2D)        (None, 18, 33, 512)       1180160   \n",
      "_________________________________________________________________\n",
      "block4_conv2 (Conv2D)        (None, 18, 33, 512)       2359808   \n",
      "_________________________________________________________________\n",
      "block4_conv3 (Conv2D)        (None, 18, 33, 512)       2359808   \n",
      "_________________________________________________________________\n",
      "block4_pool (MaxPooling2D)   (None, 9, 16, 512)        0         \n",
      "_________________________________________________________________\n",
      "block5_conv1 (Conv2D)        (None, 9, 16, 512)        2359808   \n",
      "_________________________________________________________________\n",
      "block5_conv2 (Conv2D)        (None, 9, 16, 512)        2359808   \n",
      "_________________________________________________________________\n",
      "block5_conv3 (Conv2D)        (None, 9, 16, 512)        2359808   \n",
      "_________________________________________________________________\n",
      "block5_pool (MaxPooling2D)   (None, 4, 8, 512)         0         \n",
      "_________________________________________________________________\n",
      "flatten (Flatten)            (None, 16384)             0         \n",
      "_________________________________________________________________\n",
      "fc1 (Dense)                  (None, 4096)              67112960  \n",
      "_________________________________________________________________\n",
      "fc2 (Dense)                  (None, 4096)              16781312  \n",
      "_________________________________________________________________\n",
      "predictions (Dense)          (None, 4)                 16388     \n",
      "=================================================================\n",
      "Total params: 98,625,348\n",
      "Trainable params: 98,625,348\n",
      "Non-trainable params: 0\n",
      "_________________________________________________________________\n"
     ]
    }
   ],
   "source": [
    "model.summary()"
   ]
  },
  {
   "cell_type": "code",
   "execution_count": null,
   "metadata": {
    "colab": {},
    "colab_type": "code",
    "id": "_PoWDrT_xut2"
   },
   "outputs": [],
   "source": []
  }
 ],
 "metadata": {
  "accelerator": "GPU",
  "colab": {
   "collapsed_sections": [],
   "name": "Copia de mnist-keras.ipynb",
   "provenance": [
    {
     "file_id": "1CVm50PGE4vhtB5I_a_yc4h5F-itKOVL9",
     "timestamp": 1581006975503
    }
   ],
   "toc_visible": true
  },
  "kernelspec": {
   "display_name": "Python 3",
   "language": "python",
   "name": "python3"
  },
  "language_info": {
   "codemirror_mode": {
    "name": "ipython",
    "version": 3
   },
   "file_extension": ".py",
   "mimetype": "text/x-python",
   "name": "python",
   "nbconvert_exporter": "python",
   "pygments_lexer": "ipython3",
   "version": "3.6.9"
  }
 },
 "nbformat": 4,
 "nbformat_minor": 1
}
